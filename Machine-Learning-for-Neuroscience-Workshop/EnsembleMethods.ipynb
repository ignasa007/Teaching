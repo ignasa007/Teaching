{
  "cells": [
    {
      "cell_type": "code",
      "execution_count": 51,
      "metadata": {
        "colab": {
          "base_uri": "https://localhost:8080/",
          "height": 17
        },
        "id": "mZ1U3XL18qQz",
        "outputId": "d44ad687-e574-4200-8331-afaeb8d1296f"
      },
      "outputs": [],
      "source": [
        "import numpy as np\r\n",
        "import pandas as pd\r\n",
        "import statsmodels.api as sm\r\n",
        "from scipy import stats\r\n",
        "\r\n",
        "from sklearn.datasets import load_iris\r\n",
        "from sklearn.preprocessing import PolynomialFeatures, LabelEncoder\r\n",
        "from sklearn.model_selection import train_test_split\r\n",
        "from sklearn.linear_model import LinearRegression, Ridge, Lasso\r\n",
        "from sklearn.naive_bayes import CategoricalNB \r\n",
        "from sklearn.tree import DecisionTreeClassifier, export_graphviz\r\n",
        "from sklearn.metrics import mean_absolute_error, mean_squared_error, r2_score\r\n",
        "\r\n",
        "import seaborn as sns\r\n",
        "import matplotlib\r\n",
        "import matplotlib.pyplot as plt\r\n",
        "%matplotlib inline\r\n",
        "\r\n",
        "# from IPython.display import Javascript\r\n",
        "# def resize_colab_cell():\r\n",
        "#   display(Javascript('google.colab.output.setIframeHeight(0, true, {maxHeight: 5000})'))\r\n",
        "# get_ipython().events.register('pre_run_cell', resize_colab_cell)\r\n",
        "\r\n",
        "import warnings\r\n",
        "warnings.filterwarnings(\"ignore\")"
      ]
    },
    {
      "cell_type": "markdown",
      "metadata": {
        "id": "75qC-_vFZJMp"
      },
      "source": [
        "# **Linear Regression Plan**\n",
        "\n",
        "<!-- \n",
        "\n",
        "### Definition and Description\n",
        "### Setting\n",
        "### OLS\n",
        "### Assumptions\n",
        "### Dataset (one simple LR random generated X=Unif[-1,1], Y=X^3-x+noise, \n",
        "### one multiple LR https://www.kaggle.com/mirichoi0218/insurance), train-test split\n",
        "### Fitting, summary, predictions\n",
        "### Error metrics - MSE\n",
        "### Error distribution\n",
        "### Regularization - Ridge, Lasso, Elastic Net (lower priority)\n",
        "\n",
        "-->"
      ]
    },
    {
      "cell_type": "markdown",
      "metadata": {
        "id": "hTss9z0k8pZG"
      },
      "source": [
        "# LINEAR REGRESSION"
      ]
    },
    {
      "cell_type": "markdown",
      "metadata": {
        "id": "cyxywHtE8p7p"
      },
      "source": [
        "In statistics, linear regression is a linear approach to modeling the relationship between a scalar response (or dependent variable) and one or more explanatory variables (or independent variables). The case of one explanatory variable is called simple linear regression. For more than one explanatory variable, the process is called multiple linear regression. In linear regression, the relationships are modeled using linear predictor functions whose unknown model parameters are estimated from the data.\n",
        "\n",
        "[Source](https://en.wikipedia.org/wiki/Linear_regression)"
      ]
    },
    {
      "cell_type": "markdown",
      "metadata": {
        "id": "ffRUID4m8p-B"
      },
      "source": [
        "### Setting\n",
        "Given a vector of independent variables, $x = (x_1, x_2, ..., x_n)$, we want to predict the vector of coefficients, $\\beta = (\\beta_0, \\beta_1, ..., \\beta_n)$, such that $\\hat{y} = \\beta_0 + \\beta_1x_1 + \\beta_2x_2 + ... + \\beta_nx_n$ can be used as a predictor for the independent variable, $y$. "
      ]
    },
    {
      "cell_type": "markdown",
      "metadata": {
        "id": "kh-C3Nl88qBZ"
      },
      "source": [
        "### Estimation - Ordinary Least Squares (OLS) Method\n",
        "If we extend $x = (x_1, x_2, ..., x_n)$ to $x = (1, x_1, x_2, ..., x_n)$, then we are trying to approximate \n",
        "\\begin{equation*}y \\approx \\beta \\cdot x\\end{equation*} \n",
        "\n",
        "In the OLS approach, the optimal parameter vector, $\\hat{\\beta}$, is given by (where m is the number of samples in the training set)\n",
        "\\begin{equation*} \\hat{\\beta} = \\underset{\\beta}{\\operatorname{argmin}} \\sum_{i=1}^{m} (y_i-\\beta \\cdot x_i)^2 \\end{equation*}\n",
        "\n",
        "Putting this in matrix format, we get\n",
        "\\begin{equation*} L(D,\\beta) = \\lvert Y-X\\beta \\rvert^2 \\end{equation*}\n",
        "\\begin{equation*} L(D,\\beta) = (Y-X\\beta)^T(Y-X\\beta) \\end{equation*}\n",
        "\\begin{equation*} L(D,\\beta) = Y^TY-Y^TX\\beta-\\beta^TX^TY+\\beta^TX^TX\\beta\\end{equation*}\n",
        "\n",
        "Since the loss function, $L(D, \\beta)$, is convex, the minimum value is reached by equating the gradient to 0.<br><br>\n",
        "\\begin{equation*} \\frac{\\partial L(D,\\beta)}{\\partial \\beta} = -2Y^TX+2\\beta^TX^TX = 0 \\end{equation*}\n",
        "\\begin{equation*} \\beta = (X^TX)^{-1}X^TY \\end{equation*}"
      ]
    },
    {
      "cell_type": "markdown",
      "metadata": {
        "id": "24vWdyk09CIO"
      },
      "source": [
        "### Assumptions\n",
        "The following are the assumptions made by linear regression models with standard estimation techniques -\n",
        "1. Weak Exogenity - This essentially means that the model assumes that the predictor variables are error-free, or that they are exact, and not random variables. \n",
        "2. Homoscedasticity - This means that the model assumes that the varaince in the error terms is constant, and does not vary across different values of predictor variables. In practice, this assumption rarely ever holds, i.e., error are terms are heteroscedastic. Heteroscedasticity will mean that the different values of the varaince are averaged to get a single variance, which inaccurately represents the variance of the error along the line. Typically, this means that the response variable with higher mean is likely to have a higher variance. Take for example a regression model trying to predict a person's salary. A prediction of 100,000 can have a variance of 20,000, but a prediction of 10,000 is less likelier to have the same varaince. This leads to less precise parameter estimates and incorrect metric scores.\n",
        "3. Independence of Errors - The error terms are assumed to be independent of each other. Bayesian linear regression is useful for handling correlated errors.\n",
        "4. Lack of perfect multicollinearity in the predictors - This assumption implies that the design matrix X, must be full rank. In the case of perfect collinearity, the parameter vector, $\\beta$ cannot be uniquely predicted."
      ]
    },
    {
      "cell_type": "markdown",
      "metadata": {
        "id": "IuL3U3g2CxfH"
      },
      "source": [
        "### Synthetic Dataset\n",
        "\n",
        "We first make a synthetic dataset, and will use this to compare the power of linear regressino and polynomial regression (next section)."
      ]
    },
    {
      "cell_type": "code",
      "execution_count": 3,
      "metadata": {
        "colab": {
          "base_uri": "https://localhost:8080/",
          "height": 749
        },
        "id": "PJBzMV-cCwaC",
        "outputId": "b56ef64c-59a2-4bb7-f8d5-42db732c1860"
      },
      "outputs": [
        {
          "data": {
            "image/png": "[encoded data removed]",
            "text/plain": [
              "<Figure size 576x576 with 1 Axes>"
            ]
          },
          "metadata": {
            "needs_background": "light"
          },
          "output_type": "display_data"
        }
      ],
      "source": [
        "np.random.seed(42)\n",
        "\n",
        "start, end, num_points = -2, 2, 20\n",
        "\n",
        "def get_Y(f, X, error=True):\n",
        "    return f(X) + (np.random.normal(0, 1, X.shape[0]) if error else 0)\n",
        "\n",
        "synthetic_X = np.linspace(start, end, num_points)\n",
        "synthetic_Y = get_Y(lambda x: x**3 - x, synthetic_X)\n",
        "\n",
        "fontdict = {\"family\":\"serif\", \"color\":\"darkred\", \"weight\":\"normal\", \"size\":16}\n",
        "plt.figure(figsize=(8, 8))\n",
        "ax = plt.subplot(111)\n",
        "plt.scatter(synthetic_X, synthetic_Y, color='g')\n",
        "ax.set_title(\"Scatter Plot of Synthetic Data\", fontdict=fontdict, pad=12)\n",
        "ax.set_xlabel(\"X\", fontdict=fontdict, labelpad=12)\n",
        "ax.set_ylabel(\"Y\", fontdict=fontdict, labelpad=12)\n",
        "ax.grid()"
      ]
    },
    {
      "cell_type": "code",
      "execution_count": 4,
      "metadata": {
        "colab": {
          "base_uri": "https://localhost:8080/",
          "height": 472
        },
        "id": "oodSzRZXFs93",
        "outputId": "187ba35d-cb60-4238-d908-242351fc114c"
      },
      "outputs": [
        {
          "name": "stdout",
          "output_type": "stream",
          "text": [
            "                            OLS Regression Results                            \n",
            "==============================================================================\n",
            "Dep. Variable:                      y   R-squared:                       0.396\n",
            "Model:                            OLS   Adj. R-squared:                  0.363\n",
            "Method:                 Least Squares   F-statistic:                     11.82\n",
            "Date:                Wed, 29 Sep 2021   Prob (F-statistic):            0.00294\n",
            "Time:                        19:04:45   Log-Likelihood:                -39.620\n",
            "No. Observations:                  20   AIC:                             83.24\n",
            "Df Residuals:                      18   BIC:                             85.23\n",
            "Df Model:                           1                                         \n",
            "Covariance Type:            nonrobust                                         \n",
            "==============================================================================\n",
            "                 coef    std err          t      P>|t|      [0.025      0.975]\n",
            "------------------------------------------------------------------------------\n",
            "const         -0.1713      0.413     -0.414      0.684      -1.040       0.697\n",
            "x1             1.1708      0.341      3.437      0.003       0.455       1.886\n",
            "==============================================================================\n",
            "Omnibus:                        1.460   Durbin-Watson:                   0.561\n",
            "Prob(Omnibus):                  0.482   Jarque-Bera (JB):                0.978\n",
            "Skew:                          -0.213   Prob(JB):                        0.613\n",
            "Kurtosis:                       2.004   Cond. No.                         1.21\n",
            "==============================================================================\n",
            "\n",
            "Notes:\n",
            "[1] Standard Errors assume that the covariance matrix of the errors is correctly specified.\n"
          ]
        }
      ],
      "source": [
        "linear_model = sm.OLS(synthetic_Y, sm.tools.tools.add_constant(synthetic_X))\n",
        "result = linear_model.fit()\n",
        "print(result.summary())"
      ]
    },
    {
      "cell_type": "code",
      "execution_count": 5,
      "metadata": {
        "colab": {
          "base_uri": "https://localhost:8080/",
          "height": 749
        },
        "id": "ozUnu0KwF509",
        "outputId": "c32b23f4-7a96-473b-b8aa-c1504c6edec6"
      },
      "outputs": [
        {
          "data": {
            "image/png": "[encoded data removed]",
            "text/plain": [
              "<Figure size 576x576 with 1 Axes>"
            ]
          },
          "metadata": {
            "needs_background": "light"
          },
          "output_type": "display_data"
        }
      ],
      "source": [
        "fontdict = {\"family\":\"serif\", \"color\":\"darkred\", \"weight\":\"normal\", \"size\":16}\n",
        "plt.figure(figsize=(8, 8))\n",
        "ax = plt.subplot(111)\n",
        "plt.scatter(synthetic_X, synthetic_Y, color='g')\n",
        "plt.plot(synthetic_X, get_Y(lambda x: result.params[0] + x*result.params[1], synthetic_X, error=False), color='navy')\n",
        "ax.set_title(\"Scatter Plot and Linear Approximation\", fontdict=fontdict, pad=12)\n",
        "ax.set_xlabel(\"X\", fontdict=fontdict, labelpad=12)\n",
        "ax.set_ylabel(\"Y\", fontdict=fontdict, labelpad=12)\n",
        "ax.grid()"
      ]
    },
    {
      "cell_type": "markdown",
      "metadata": {
        "id": "2gETK_kw9acn"
      },
      "source": [
        "### Import Dataset\n",
        "We are going to use the Medical Cost dataset from [Kaggle](https://www.kaggle.com/mirichoi0218/insurance)."
      ]
    },
    {
      "cell_type": "code",
      "execution_count": 6,
      "metadata": {
        "colab": {
          "base_uri": "https://localhost:8080/",
          "height": 205
        },
        "id": "d2az8h5_8qV6",
        "outputId": "cb01b44b-9361-4201-faac-ff4bc1491264"
      },
      "outputs": [
        {
          "data": {
            "text/html": [
              "<div>\n",
              "<style scoped>\n",
              "    .dataframe tbody tr th:only-of-type {\n",
              "        vertical-align: middle;\n",
              "    }\n",
              "\n",
              "    .dataframe tbody tr th {\n",
              "        vertical-align: top;\n",
              "    }\n",
              "\n",
              "    .dataframe thead th {\n",
              "        text-align: right;\n",
              "    }\n",
              "</style>\n",
              "<table border=\"1\" class=\"dataframe\">\n",
              "  <thead>\n",
              "    <tr style=\"text-align: right;\">\n",
              "      <th></th>\n",
              "      <th>age</th>\n",
              "      <th>sex</th>\n",
              "      <th>bmi</th>\n",
              "      <th>children</th>\n",
              "      <th>smoker</th>\n",
              "      <th>region</th>\n",
              "      <th>charges</th>\n",
              "    </tr>\n",
              "  </thead>\n",
              "  <tbody>\n",
              "    <tr>\n",
              "      <th>0</th>\n",
              "      <td>19</td>\n",
              "      <td>female</td>\n",
              "      <td>27.900</td>\n",
              "      <td>0</td>\n",
              "      <td>yes</td>\n",
              "      <td>southwest</td>\n",
              "      <td>16884.92400</td>\n",
              "    </tr>\n",
              "    <tr>\n",
              "      <th>1</th>\n",
              "      <td>18</td>\n",
              "      <td>male</td>\n",
              "      <td>33.770</td>\n",
              "      <td>1</td>\n",
              "      <td>no</td>\n",
              "      <td>southeast</td>\n",
              "      <td>1725.55230</td>\n",
              "    </tr>\n",
              "    <tr>\n",
              "      <th>2</th>\n",
              "      <td>28</td>\n",
              "      <td>male</td>\n",
              "      <td>33.000</td>\n",
              "      <td>3</td>\n",
              "      <td>no</td>\n",
              "      <td>southeast</td>\n",
              "      <td>4449.46200</td>\n",
              "    </tr>\n",
              "    <tr>\n",
              "      <th>3</th>\n",
              "      <td>33</td>\n",
              "      <td>male</td>\n",
              "      <td>22.705</td>\n",
              "      <td>0</td>\n",
              "      <td>no</td>\n",
              "      <td>northwest</td>\n",
              "      <td>21984.47061</td>\n",
              "    </tr>\n",
              "    <tr>\n",
              "      <th>4</th>\n",
              "      <td>32</td>\n",
              "      <td>male</td>\n",
              "      <td>28.880</td>\n",
              "      <td>0</td>\n",
              "      <td>no</td>\n",
              "      <td>northwest</td>\n",
              "      <td>3866.85520</td>\n",
              "    </tr>\n",
              "  </tbody>\n",
              "</table>\n",
              "</div>"
            ],
            "text/plain": [
              "   age     sex     bmi  children smoker     region      charges\n",
              "0   19  female  27.900         0    yes  southwest  16884.92400\n",
              "1   18    male  33.770         1     no  southeast   1725.55230\n",
              "2   28    male  33.000         3     no  southeast   4449.46200\n",
              "3   33    male  22.705         0     no  northwest  21984.47061\n",
              "4   32    male  28.880         0     no  northwest   3866.85520"
            ]
          },
          "execution_count": 6,
          "metadata": {},
          "output_type": "execute_result"
        }
      ],
      "source": [
        "df = pd.read_csv('https://raw.githubusercontent.com/ignasa007/Machine-Learning-Tutorials/main/data/insurance.csv')\r\n",
        "df.head()"
      ]
    },
    {
      "cell_type": "code",
      "execution_count": 7,
      "metadata": {
        "colab": {
          "base_uri": "https://localhost:8080/"
        },
        "id": "kR0bHygb9bSz",
        "outputId": "790d7cf2-d828-42b8-f695-93e0c1c8da40"
      },
      "outputs": [
        {
          "data": {
            "text/plain": [
              "(18, 64)"
            ]
          },
          "execution_count": 7,
          "metadata": {},
          "output_type": "execute_result"
        }
      ],
      "source": [
        "df.age.min(), df.age.max()"
      ]
    },
    {
      "cell_type": "code",
      "execution_count": 8,
      "metadata": {
        "colab": {
          "base_uri": "https://localhost:8080/",
          "height": 205
        },
        "id": "AhIa-oge9lC7",
        "outputId": "f29e39cb-c42a-4cda-e3bf-4bdb47c42747"
      },
      "outputs": [
        {
          "data": {
            "text/html": [
              "<div>\n",
              "<style scoped>\n",
              "    .dataframe tbody tr th:only-of-type {\n",
              "        vertical-align: middle;\n",
              "    }\n",
              "\n",
              "    .dataframe tbody tr th {\n",
              "        vertical-align: top;\n",
              "    }\n",
              "\n",
              "    .dataframe thead th {\n",
              "        text-align: right;\n",
              "    }\n",
              "</style>\n",
              "<table border=\"1\" class=\"dataframe\">\n",
              "  <thead>\n",
              "    <tr style=\"text-align: right;\">\n",
              "      <th></th>\n",
              "      <th>bmi</th>\n",
              "      <th>charges</th>\n",
              "      <th>14&lt;Age&lt;25</th>\n",
              "      <th>24&lt;Age&lt;35</th>\n",
              "      <th>34&lt;Age&lt;45</th>\n",
              "      <th>44&lt;Age&lt;55</th>\n",
              "      <th>54&lt;Age&lt;65</th>\n",
              "      <th>Male</th>\n",
              "      <th>Female</th>\n",
              "      <th>Smoker</th>\n",
              "      <th>Non-Smoker</th>\n",
              "    </tr>\n",
              "  </thead>\n",
              "  <tbody>\n",
              "    <tr>\n",
              "      <th>0</th>\n",
              "      <td>27.900</td>\n",
              "      <td>16884.92400</td>\n",
              "      <td>1</td>\n",
              "      <td>0</td>\n",
              "      <td>0</td>\n",
              "      <td>0</td>\n",
              "      <td>0</td>\n",
              "      <td>0</td>\n",
              "      <td>1</td>\n",
              "      <td>1</td>\n",
              "      <td>0</td>\n",
              "    </tr>\n",
              "    <tr>\n",
              "      <th>1</th>\n",
              "      <td>33.770</td>\n",
              "      <td>1725.55230</td>\n",
              "      <td>1</td>\n",
              "      <td>0</td>\n",
              "      <td>0</td>\n",
              "      <td>0</td>\n",
              "      <td>0</td>\n",
              "      <td>1</td>\n",
              "      <td>0</td>\n",
              "      <td>0</td>\n",
              "      <td>1</td>\n",
              "    </tr>\n",
              "    <tr>\n",
              "      <th>2</th>\n",
              "      <td>33.000</td>\n",
              "      <td>4449.46200</td>\n",
              "      <td>0</td>\n",
              "      <td>1</td>\n",
              "      <td>0</td>\n",
              "      <td>0</td>\n",
              "      <td>0</td>\n",
              "      <td>1</td>\n",
              "      <td>0</td>\n",
              "      <td>0</td>\n",
              "      <td>1</td>\n",
              "    </tr>\n",
              "    <tr>\n",
              "      <th>3</th>\n",
              "      <td>22.705</td>\n",
              "      <td>21984.47061</td>\n",
              "      <td>0</td>\n",
              "      <td>1</td>\n",
              "      <td>0</td>\n",
              "      <td>0</td>\n",
              "      <td>0</td>\n",
              "      <td>1</td>\n",
              "      <td>0</td>\n",
              "      <td>0</td>\n",
              "      <td>1</td>\n",
              "    </tr>\n",
              "    <tr>\n",
              "      <th>4</th>\n",
              "      <td>28.880</td>\n",
              "      <td>3866.85520</td>\n",
              "      <td>0</td>\n",
              "      <td>1</td>\n",
              "      <td>0</td>\n",
              "      <td>0</td>\n",
              "      <td>0</td>\n",
              "      <td>1</td>\n",
              "      <td>0</td>\n",
              "      <td>0</td>\n",
              "      <td>1</td>\n",
              "    </tr>\n",
              "  </tbody>\n",
              "</table>\n",
              "</div>"
            ],
            "text/plain": [
              "      bmi      charges  14<Age<25  24<Age<35  34<Age<45  44<Age<55  54<Age<65  \\\n",
              "0  27.900  16884.92400          1          0          0          0          0   \n",
              "1  33.770   1725.55230          1          0          0          0          0   \n",
              "2  33.000   4449.46200          0          1          0          0          0   \n",
              "3  22.705  21984.47061          0          1          0          0          0   \n",
              "4  28.880   3866.85520          0          1          0          0          0   \n",
              "\n",
              "   Male  Female  Smoker  Non-Smoker  \n",
              "0     0       1       1           0  \n",
              "1     1       0       0           1  \n",
              "2     1       0       0           1  \n",
              "3     1       0       0           1  \n",
              "4     1       0       0           1  "
            ]
          },
          "execution_count": 8,
          "metadata": {},
          "output_type": "execute_result"
        }
      ],
      "source": [
        "df[\"14<Age<25\"] = df[\"age\"].apply(lambda x: 1 if 14<x<25 else 0)\n",
        "df[\"24<Age<35\"] = df[\"age\"].apply(lambda x: 1 if 24<x<35 else 0)\n",
        "df[\"34<Age<45\"] = df[\"age\"].apply(lambda x: 1 if 34<x<45 else 0)\n",
        "df[\"44<Age<55\"] = df[\"age\"].apply(lambda x: 1 if 44<x<55 else 0)\n",
        "df[\"54<Age<65\"] = df[\"age\"].apply(lambda x: 1 if 54<x<65 else 0)\n",
        "df.drop(columns=[\"age\"], inplace=True)\n",
        "\n",
        "df[\"Male\"] = df[\"sex\"].apply(lambda x: 1 if x==\"male\" else 0)\n",
        "df[\"Female\"] = df[\"sex\"].apply(lambda x: 1 if x==\"female\" else 0)\n",
        "df.drop(columns=[\"sex\"], inplace=True)\n",
        "\n",
        "df[\"Smoker\"] = df[\"smoker\"].apply(lambda x: 1 if x==\"yes\" else 0)\n",
        "df[\"Non-Smoker\"] = df[\"smoker\"].apply(lambda x: 1 if x==\"no\" else 0)\n",
        "df.drop(columns=[\"smoker\"], inplace=True)\n",
        "\n",
        "df.drop(columns=[\"children\", \"region\"], inplace=True)\n",
        "\n",
        "df.head()"
      ]
    },
    {
      "cell_type": "markdown",
      "metadata": {
        "id": "MrMNC4m69ae2"
      },
      "source": [
        "The intuition behind making columns for age groups is that the cost of a medical procedure does not depend on the age of a person. However, young and old people have weaker bodies, which can increase the complexity of procedures. Hence, it is assumed that people in different age groups can have different levels of dependence of medical charges on age."
      ]
    },
    {
      "cell_type": "code",
      "execution_count": 9,
      "metadata": {
        "colab": {
          "base_uri": "https://localhost:8080/"
        },
        "id": "ZQobN_Nk9bVD",
        "outputId": "1e45f9b0-a733-4b22-c5e5-0f9102a29e57"
      },
      "outputs": [
        {
          "data": {
            "text/plain": [
              "((1060, 11), (278, 11))"
            ]
          },
          "execution_count": 9,
          "metadata": {},
          "output_type": "execute_result"
        }
      ],
      "source": [
        "mask = np.random.uniform(0, 1, len(df)) < 0.8\n",
        "train_df = df[mask]\n",
        "test_df = df[~mask]\n",
        "\n",
        "train_df.shape, test_df.shape"
      ]
    },
    {
      "cell_type": "code",
      "execution_count": 10,
      "metadata": {
        "colab": {
          "base_uri": "https://localhost:8080/"
        },
        "id": "2k6SFyBB9bXa",
        "outputId": "4c27c1f9-95ab-4c89-d805-b7baab763414"
      },
      "outputs": [
        {
          "data": {
            "text/plain": [
              "((1060, 10), (1060,))"
            ]
          },
          "execution_count": 10,
          "metadata": {},
          "output_type": "execute_result"
        }
      ],
      "source": [
        "x_train, y_train = train_df[train_df.columns.difference([\"charges\"])], train_df.charges\n",
        "x_train.shape, y_train.shape"
      ]
    },
    {
      "cell_type": "code",
      "execution_count": 11,
      "metadata": {
        "colab": {
          "base_uri": "https://localhost:8080/"
        },
        "id": "6E0hjyxm9baC",
        "outputId": "6c97ab78-6f7b-42b9-da99-9fc9e9c9309f"
      },
      "outputs": [
        {
          "name": "stdout",
          "output_type": "stream",
          "text": [
            "                            OLS Regression Results                            \n",
            "==============================================================================\n",
            "Dep. Variable:                charges   R-squared:                       0.751\n",
            "Model:                            OLS   Adj. R-squared:                  0.749\n",
            "Method:                 Least Squares   F-statistic:                     453.4\n",
            "Date:                Wed, 29 Sep 2021   Prob (F-statistic):          2.08e-312\n",
            "Time:                        19:04:50   Log-Likelihood:                -10717.\n",
            "No. Observations:                1060   AIC:                         2.145e+04\n",
            "Df Residuals:                    1052   BIC:                         2.149e+04\n",
            "Df Model:                           7                                         \n",
            "Covariance Type:            nonrobust                                         \n",
            "==============================================================================\n",
            "                 coef    std err          t      P>|t|      [0.025      0.975]\n",
            "------------------------------------------------------------------------------\n",
            "const       4620.2824    435.090     10.619      0.000    3766.540    5474.025\n",
            "14<Age<25  -3577.2292    366.086     -9.772      0.000   -4295.572   -2858.886\n",
            "24<Age<35  -1702.3285    367.461     -4.633      0.000   -2423.368    -981.289\n",
            "34<Age<45     88.9744    381.703      0.233      0.816    -660.011     837.960\n",
            "44<Age<55   3362.9051    376.234      8.938      0.000    2624.651    4101.159\n",
            "54<Age<65   6447.9606    400.780     16.089      0.000    5661.541    7234.380\n",
            "Female      2409.2961    283.027      8.513      0.000    1853.934    2964.658\n",
            "Male        2210.9862    287.162      7.699      0.000    1647.512    2774.461\n",
            "Non-Smoker -9624.6563    292.495    -32.905      0.000   -1.02e+04   -9050.716\n",
            "Smoker      1.424e+04    338.346     42.102      0.000    1.36e+04    1.49e+04\n",
            "bmi          329.5859     30.369     10.853      0.000     269.996     389.176\n",
            "==============================================================================\n",
            "Omnibus:                      238.451   Durbin-Watson:                   2.082\n",
            "Prob(Omnibus):                  0.000   Jarque-Bera (JB):              577.988\n",
            "Skew:                           1.197   Prob(JB):                    3.10e-126\n",
            "Kurtosis:                       5.712   Cond. No.                     1.13e+17\n",
            "==============================================================================\n",
            "\n",
            "Notes:\n",
            "[1] Standard Errors assume that the covariance matrix of the errors is correctly specified.\n",
            "[2] The smallest eigenvalue is 8.03e-29. This might indicate that there are\n",
            "strong multicollinearity problems or that the design matrix is singular.\n"
          ]
        }
      ],
      "source": [
        "linear_model = sm.OLS(y_train, sm.tools.tools.add_constant(x_train))\n",
        "result = linear_model.fit()\n",
        "print(result.summary())"
      ]
    },
    {
      "cell_type": "code",
      "execution_count": 12,
      "metadata": {
        "colab": {
          "base_uri": "https://localhost:8080/"
        },
        "id": "WT02U29L9bda",
        "outputId": "c3134684-1c70-4456-8f5d-5ba98ebf42fb"
      },
      "outputs": [
        {
          "data": {
            "text/plain": [
              "((278, 10), (278,))"
            ]
          },
          "execution_count": 12,
          "metadata": {},
          "output_type": "execute_result"
        }
      ],
      "source": [
        "x_test, y_test = test_df[test_df.columns.difference([\"charges\"])], test_df.charges\n",
        "x_test.shape, y_test.shape"
      ]
    },
    {
      "cell_type": "code",
      "execution_count": 13,
      "metadata": {
        "colab": {
          "base_uri": "https://localhost:8080/",
          "height": 422
        },
        "id": "uUeny0ed8qZS",
        "outputId": "497028a3-72b7-4880-be8e-3f03f68e0f40"
      },
      "outputs": [
        {
          "data": {
            "text/html": [
              "<div>\n",
              "<style scoped>\n",
              "    .dataframe tbody tr th:only-of-type {\n",
              "        vertical-align: middle;\n",
              "    }\n",
              "\n",
              "    .dataframe tbody tr th {\n",
              "        vertical-align: top;\n",
              "    }\n",
              "\n",
              "    .dataframe thead th {\n",
              "        text-align: right;\n",
              "    }\n",
              "</style>\n",
              "<table border=\"1\" class=\"dataframe\">\n",
              "  <thead>\n",
              "    <tr style=\"text-align: right;\">\n",
              "      <th></th>\n",
              "      <th>predictions</th>\n",
              "      <th>true value</th>\n",
              "    </tr>\n",
              "  </thead>\n",
              "  <tbody>\n",
              "    <tr>\n",
              "      <th>9</th>\n",
              "      <td>12369.382921</td>\n",
              "      <td>28923.13692</td>\n",
              "    </tr>\n",
              "    <tr>\n",
              "      <th>10</th>\n",
              "      <td>4146.026527</td>\n",
              "      <td>2721.32080</td>\n",
              "    </tr>\n",
              "    <tr>\n",
              "      <th>11</th>\n",
              "      <td>36387.291537</td>\n",
              "      <td>27808.72510</td>\n",
              "    </tr>\n",
              "    <tr>\n",
              "      <th>19</th>\n",
              "      <td>31008.261597</td>\n",
              "      <td>36837.46700</td>\n",
              "    </tr>\n",
              "    <tr>\n",
              "      <th>26</th>\n",
              "      <td>11461.373723</td>\n",
              "      <td>14451.83515</td>\n",
              "    </tr>\n",
              "    <tr>\n",
              "      <th>...</th>\n",
              "      <td>...</td>\n",
              "      <td>...</td>\n",
              "    </tr>\n",
              "    <tr>\n",
              "      <th>1324</th>\n",
              "      <td>4052.094541</td>\n",
              "      <td>4239.89265</td>\n",
              "    </tr>\n",
              "    <tr>\n",
              "      <th>1326</th>\n",
              "      <td>8327.385636</td>\n",
              "      <td>7050.02130</td>\n",
              "    </tr>\n",
              "    <tr>\n",
              "      <th>1331</th>\n",
              "      <td>4835.862604</td>\n",
              "      <td>10795.93733</td>\n",
              "    </tr>\n",
              "    <tr>\n",
              "      <th>1332</th>\n",
              "      <td>15500.317781</td>\n",
              "      <td>11411.68500</td>\n",
              "    </tr>\n",
              "    <tr>\n",
              "      <th>1336</th>\n",
              "      <td>2331.009644</td>\n",
              "      <td>2007.94500</td>\n",
              "    </tr>\n",
              "  </tbody>\n",
              "</table>\n",
              "<p>278 rows × 2 columns</p>\n",
              "</div>"
            ],
            "text/plain": [
              "       predictions   true value\n",
              "9     12369.382921  28923.13692\n",
              "10     4146.026527   2721.32080\n",
              "11    36387.291537  27808.72510\n",
              "19    31008.261597  36837.46700\n",
              "26    11461.373723  14451.83515\n",
              "...            ...          ...\n",
              "1324   4052.094541   4239.89265\n",
              "1326   8327.385636   7050.02130\n",
              "1331   4835.862604  10795.93733\n",
              "1332  15500.317781  11411.68500\n",
              "1336   2331.009644   2007.94500\n",
              "\n",
              "[278 rows x 2 columns]"
            ]
          },
          "execution_count": 13,
          "metadata": {},
          "output_type": "execute_result"
        }
      ],
      "source": [
        "predictions = result.predict(sm.tools.tools.add_constant(x_test))\n",
        "pd.DataFrame({'predictions': predictions, 'true value': y_test})"
      ]
    },
    {
      "cell_type": "markdown",
      "metadata": {
        "id": "54c2L3iJ9ahV"
      },
      "source": [
        "## Error Metrics\n",
        "\n",
        "### Mean Absolute Error \n",
        "Mean Absolute Error (MAE) is defined as the average difference between the true values (y) and predicted values ($\\hat{y}$). It summarizes performance in a way that disregards the direction of over- or under- prediction. It is a negatively oriented score, i.e., lower the value, better is the performance of the model.\n",
        "\n",
        "### Root Mean Squared Error\n",
        "Root Mean Squared Error (RMSE) is defined as the square root of the average of squared distance between the true values (y) and predicted values ($\\hat{y}$). Like MAE, it summarizes performance in a way that disregards the direction of over- or under- prediction. RMSE is more sensitive to outliers than MAE, i.e., RMSE is more affected by predictions which drastically vary from the true values. RMSE increases with the variance of the frequency distribution of error magnitudes. Again, like MAE, it is a negatively oriented score. RMSE can be a better score for evaluating the model if large errors are particularly undesirable.\n",
        "\n",
        "### R2 Score\n",
        "The coefficient of determination, denoted as $R^2$, and pronounced as \"R squared\", is the fraction of variance in the dependent variable that is explained by the independent variables (regressors). It measures how well the model replicates the observed values, based on the proportion of total variation explained by the model. It is calculated as <br>\n",
        "\\begin{equation*} R^2 = 1-\\frac{\\sum_{i} (y_i-\\hat {y})^2}{\\sum_{i} (y_i-\\overline {y})^2} \\end{equation*}\n",
        "\n",
        "$R^2$ can vary anywhere in the range $(-\\inf, 1]$. Higher the value of $R^2$, higher is the explainability of the model. "
      ]
    },
    {
      "cell_type": "code",
      "execution_count": 14,
      "metadata": {
        "colab": {
          "base_uri": "https://localhost:8080/"
        },
        "id": "CujWxhTT-ADV",
        "outputId": "31d1160c-8770-42ef-c7af-7ca5073cd365"
      },
      "outputs": [
        {
          "name": "stdout",
          "output_type": "stream",
          "text": [
            "\u001b[1m\u001b[4mLINEAR REGRESSION\u001b[0m\n",
            "\n",
            "Mean Absolute Error = 4661.1474\n",
            "Root Mean Squared Error = 6720.5361\n",
            "R2 Score = 0.7204\n"
          ]
        }
      ],
      "source": [
        "print(\"\\033[1m\" + \"\\033[4m\" + \"LINEAR REGRESSION\" + \"\\033[0m\" + \"\\n\")\n",
        "print(\"Mean Absolute Error =\", round(mean_absolute_error(y_test, predictions), 4))\n",
        "print(\"Root Mean Squared Error =\", round(mean_squared_error(y_test, predictions, squared=False), 4))\n",
        "print(\"R2 Score =\", round(r2_score(y_test, predictions), 4))"
      ]
    },
    {
      "cell_type": "code",
      "execution_count": 15,
      "metadata": {
        "colab": {
          "base_uri": "https://localhost:8080/",
          "height": 863
        },
        "id": "fXAhpWe--Bto",
        "outputId": "ad2f96f2-3e46-4485-d193-b907828339c2"
      },
      "outputs": [
        {
          "data": {
            "image/png": "[encoded data removed]",
            "text/plain": [
              "<Figure size 1008x1008 with 2 Axes>"
            ]
          },
          "metadata": {
            "needs_background": "light"
          },
          "output_type": "display_data"
        }
      ],
      "source": [
        "fontdict = {\"family\":\"serif\", \"color\":\"darkred\", \"weight\":\"normal\", \"size\":16}\n",
        "x = np.linspace(-25000, 25000, 100000)\n",
        "plt.figure(figsize=(14, 14))\n",
        "\n",
        "errors = y_test-predictions\n",
        "ax = plt.subplot(211)\n",
        "plot = sns.distplot(errors, color=\"green\", label=\"True Distribution\")\n",
        "ax.plot(x, stats.norm.pdf(x, np.mean(errors), np.std(errors)), linewidth=3, color=\"black\", label=\"Normal Curve Approximation\")\n",
        "plot.set_title(\"Error Distribution\", fontdict=fontdict, pad=12)\n",
        "plot.set_xlabel(\"Error\", fontdict=fontdict, labelpad=12)\n",
        "plot.set_ylabel(\"Frequency\", fontdict=fontdict, labelpad=12)\n",
        "ax.grid()\n",
        "ax.legend()\n",
        "\n",
        "percentage_error = 1-predictions/y_test\n",
        "ax = plt.subplot(212)\n",
        "plot = sns.distplot(percentage_error, color=\"green\")\n",
        "plot.set_title(\"Percentage Error Distribution\", fontdict=fontdict, pad=12)\n",
        "plot.set_xlabel(\"Percentage Error\", fontdict=fontdict, labelpad=12)\n",
        "plot.set_ylabel(\"Frequency\", fontdict=fontdict, labelpad=12)\n",
        "ax.grid()\n",
        "\n",
        "plt.subplots_adjust(hspace=0.3)"
      ]
    },
    {
      "cell_type": "markdown",
      "metadata": {
        "id": "wNm8o_KA9aku"
      },
      "source": [
        "### Note\n",
        "In cases where the independent variables suffer from multicolinearity (highly correlated inpdependent variables), even though the least squares estimates are unbiased, they suffer from high variance. This leads to observed value often deviating largely from the true value. The standard errors can be reduced by adding a degree of bias.<br>\n",
        "In linear regression, the prediction errors, $e = y-\\hat{y}$, can be decomposed into two sub components - due to <b>bias</b> in the estimators and due to <b>varaince</b> in them. Assuming the estimators to be unbiased, there are three ways to reduce the varaince in them - Ridge, Lasso and ElasticNet Regularization."
      ]
    },
    {
      "cell_type": "markdown",
      "metadata": {
        "id": "h46Q4bgJ-Nf_"
      },
      "source": [
        "## Ridge Regularization\n",
        "\n",
        "Ridge regression solves the multicollinearity problem by using a shrinkage parameter, $\\lambda$, to add a term to the loss function.\n",
        "\n",
        "\\begin{equation*} L(D,\\beta) = \\left(Y-\\lvert X\\beta \\rvert^2 \\right) + \\lambda \\lvert \\beta \\rvert_2^2 \\end{equation*}\n",
        "\n",
        "\\begin{equation*} \\hat{\\beta} = \\underset{\\beta \\in R^p}{\\operatorname{argmin}} L(D,\\beta) \\end{equation*}\n",
        "\n",
        "The second term is simply $\\lambda$ times the squared Frobenius Norm of the coefficient vector.\n",
        "\n",
        "The assumptions of this regression is same as least squared regression except normality is not to be assumed."
      ]
    },
    {
      "cell_type": "code",
      "execution_count": 16,
      "metadata": {
        "colab": {
          "base_uri": "https://localhost:8080/"
        },
        "id": "Qyb1v3LL-Oef",
        "outputId": "04b314e6-9c88-485f-ebd2-46e560624f12"
      },
      "outputs": [
        {
          "name": "stdout",
          "output_type": "stream",
          "text": [
            "\u001b[1m\u001b[4mRIDGE REGRESSION\u001b[0m\n",
            "\n",
            "Mean Absolute Error = 4665.1223\n",
            "Root Mean Squared Error = 6721.8465\n",
            "R2 Score = 0.7203\n"
          ]
        }
      ],
      "source": [
        "ridge = Ridge(alpha=1.0)\n",
        "ridge.fit(x_train, y_train)\n",
        "predictions = ridge.predict(x_test)\n",
        "\n",
        "print(\"\\033[1m\" + \"\\033[4m\" + \"RIDGE REGRESSION\" + \"\\033[0m\" + \"\\n\")\n",
        "print(\"Mean Absolute Error =\", round(mean_absolute_error(y_test, predictions), 4))\n",
        "print(\"Root Mean Squared Error =\", round(mean_squared_error(y_test, predictions, squared=False), 4))\n",
        "print(\"R2 Score =\", round(r2_score(y_test, predictions), 4))"
      ]
    },
    {
      "cell_type": "code",
      "execution_count": 17,
      "metadata": {
        "colab": {
          "base_uri": "https://localhost:8080/",
          "height": 205
        },
        "id": "a7ciIXB3-S5l",
        "outputId": "442d4c62-f3d7-4b34-b1dd-1a5d100f7b58"
      },
      "outputs": [
        {
          "data": {
            "text/html": [
              "<div>\n",
              "<style scoped>\n",
              "    .dataframe tbody tr th:only-of-type {\n",
              "        vertical-align: middle;\n",
              "    }\n",
              "\n",
              "    .dataframe tbody tr th {\n",
              "        vertical-align: top;\n",
              "    }\n",
              "\n",
              "    .dataframe thead th {\n",
              "        text-align: right;\n",
              "    }\n",
              "</style>\n",
              "<table border=\"1\" class=\"dataframe\">\n",
              "  <thead>\n",
              "    <tr style=\"text-align: right;\">\n",
              "      <th></th>\n",
              "      <th>14&lt;Age&lt;25</th>\n",
              "      <th>24&lt;Age&lt;35</th>\n",
              "      <th>34&lt;Age&lt;45</th>\n",
              "      <th>44&lt;Age&lt;55</th>\n",
              "      <th>54&lt;Age&lt;65</th>\n",
              "      <th>Female</th>\n",
              "      <th>Male</th>\n",
              "      <th>Non-Smoker</th>\n",
              "      <th>Smoker</th>\n",
              "      <th>bmi</th>\n",
              "    </tr>\n",
              "  </thead>\n",
              "  <tbody>\n",
              "    <tr>\n",
              "      <th>0</th>\n",
              "      <td>1</td>\n",
              "      <td>0</td>\n",
              "      <td>0</td>\n",
              "      <td>0</td>\n",
              "      <td>0</td>\n",
              "      <td>1</td>\n",
              "      <td>0</td>\n",
              "      <td>0</td>\n",
              "      <td>1</td>\n",
              "      <td>27.900</td>\n",
              "    </tr>\n",
              "    <tr>\n",
              "      <th>1</th>\n",
              "      <td>1</td>\n",
              "      <td>0</td>\n",
              "      <td>0</td>\n",
              "      <td>0</td>\n",
              "      <td>0</td>\n",
              "      <td>0</td>\n",
              "      <td>1</td>\n",
              "      <td>1</td>\n",
              "      <td>0</td>\n",
              "      <td>33.770</td>\n",
              "    </tr>\n",
              "    <tr>\n",
              "      <th>2</th>\n",
              "      <td>0</td>\n",
              "      <td>1</td>\n",
              "      <td>0</td>\n",
              "      <td>0</td>\n",
              "      <td>0</td>\n",
              "      <td>0</td>\n",
              "      <td>1</td>\n",
              "      <td>1</td>\n",
              "      <td>0</td>\n",
              "      <td>33.000</td>\n",
              "    </tr>\n",
              "    <tr>\n",
              "      <th>3</th>\n",
              "      <td>0</td>\n",
              "      <td>1</td>\n",
              "      <td>0</td>\n",
              "      <td>0</td>\n",
              "      <td>0</td>\n",
              "      <td>0</td>\n",
              "      <td>1</td>\n",
              "      <td>1</td>\n",
              "      <td>0</td>\n",
              "      <td>22.705</td>\n",
              "    </tr>\n",
              "    <tr>\n",
              "      <th>4</th>\n",
              "      <td>0</td>\n",
              "      <td>1</td>\n",
              "      <td>0</td>\n",
              "      <td>0</td>\n",
              "      <td>0</td>\n",
              "      <td>0</td>\n",
              "      <td>1</td>\n",
              "      <td>1</td>\n",
              "      <td>0</td>\n",
              "      <td>28.880</td>\n",
              "    </tr>\n",
              "  </tbody>\n",
              "</table>\n",
              "</div>"
            ],
            "text/plain": [
              "   14<Age<25  24<Age<35  34<Age<45  44<Age<55  54<Age<65  Female  Male  \\\n",
              "0          1          0          0          0          0       1     0   \n",
              "1          1          0          0          0          0       0     1   \n",
              "2          0          1          0          0          0       0     1   \n",
              "3          0          1          0          0          0       0     1   \n",
              "4          0          1          0          0          0       0     1   \n",
              "\n",
              "   Non-Smoker  Smoker     bmi  \n",
              "0           0       1  27.900  \n",
              "1           1       0  33.770  \n",
              "2           1       0  33.000  \n",
              "3           1       0  22.705  \n",
              "4           1       0  28.880  "
            ]
          },
          "execution_count": 17,
          "metadata": {},
          "output_type": "execute_result"
        }
      ],
      "source": [
        "x_train.iloc[:5,:]"
      ]
    },
    {
      "cell_type": "code",
      "execution_count": 18,
      "metadata": {
        "colab": {
          "base_uri": "https://localhost:8080/"
        },
        "id": "SlW2NLTL-Ul4",
        "outputId": "4755388b-dbfe-4bb0-8cb4-6029775c7054"
      },
      "outputs": [
        {
          "name": "stdout",
          "output_type": "stream",
          "text": [
            "[ -4480.05798063  -2612.89502353   -827.26505185   2427.82276828\n",
            "   5492.39528773     96.5695085     -96.5695085  -11898.59017522\n",
            "  11898.59017522    329.89081887] \n",
            "\n",
            "10132.99365756769\n"
          ]
        }
      ],
      "source": [
        "print(ridge.coef_, \"\\n\")\n",
        "print(ridge.intercept_)\n",
        "assert ridge.predict(x_train.iloc[:5,:]).all() == (np.dot(x_train.iloc[:5,:], ridge.coef_) + ridge.intercept_).all()"
      ]
    },
    {
      "cell_type": "markdown",
      "metadata": {
        "id": "pew_Zgxq-bOz"
      },
      "source": [
        "## Lasso Regularization\n",
        "\n",
        "Similar to Ridge Regression, Lasso (Least Absolute Shrinkage and Selection Operator) also penalizes the absolute size of the regression coefficients. In addition, it is capable of reducing the variability and improving the accuracy of linear regression models.\n",
        "\n",
        "\\begin{equation*} L(D,\\beta) = \\lvert Y-X\\beta \\rvert^2 + \\lambda \\lvert \\beta \\rvert_1 \\end{equation*}\n",
        "\n",
        "\\begin{equation*} \\hat{\\beta} = \\underset{\\beta \\in R^p}{\\operatorname{argmin}} L(D,\\beta) \\end{equation*}\n",
        "\n",
        "Lasso regression varies from Ridge regression in the sense that it uses the L1 norm of the coefficient vector, instead of the squared Frobenius norm, in the loss function. The loss function is effective in reducing some of the parameter values to 0. Larger the value of $\\lambda$, more is the reduction effect. This results to feature selection from given variables. \n",
        "\n",
        "The assumptions of this regression is same as least squared regression except normality is not to be assumed.\n",
        "If group of predictors are highly correlated, lasso picks only one of them and shrinks the others to zero."
      ]
    },
    {
      "cell_type": "code",
      "execution_count": 19,
      "metadata": {
        "colab": {
          "base_uri": "https://localhost:8080/"
        },
        "id": "vkb8Qe2N-Wir",
        "outputId": "0b8d5b01-dc39-4cd4-bc70-ba0ed6c1e89c"
      },
      "outputs": [
        {
          "name": "stdout",
          "output_type": "stream",
          "text": [
            "\u001b[1m\u001b[4mLASSO REGRESSION\u001b[0m\n",
            "\n",
            "Mean Absolute Error = 4661.5124\n",
            "Root Mean Squared Error = 6720.825\n",
            "R2 Score = 0.7204\n"
          ]
        }
      ],
      "source": [
        "lasso = Lasso(alpha=1.0)\n",
        "lasso.fit(x_train, y_train)\n",
        "predictions = lasso.predict(x_test)\n",
        "\n",
        "print(\"\\033[1m\" + \"\\033[4m\" + \"LASSO REGRESSION\" + \"\\033[0m\" + \"\\n\")\n",
        "print(\"Mean Absolute Error =\", round(mean_absolute_error(y_test, predictions), 4))\n",
        "print(\"Root Mean Squared Error =\", round(mean_squared_error(y_test, predictions, squared=False), 4))\n",
        "print(\"R2 Score =\", round(r2_score(y_test, predictions), 4))"
      ]
    },
    {
      "cell_type": "markdown",
      "metadata": {
        "id": "I7UBMvOAa8Tk"
      },
      "source": [
        "# **Polynomial Regression Plan**\n",
        "\n",
        "<!--\n",
        "\n",
        "### Description\n",
        "### Analysis with different complexities of curves (degree) on custom example dataset and a real dataset\n",
        "\n",
        "-->"
      ]
    },
    {
      "cell_type": "markdown",
      "metadata": {
        "id": "diVzAQ5-Hwf1"
      },
      "source": [
        "# POLYNOMIAL REGRESSION"
      ]
    },
    {
      "cell_type": "markdown",
      "metadata": {
        "id": "ugQlAnG0Hwic"
      },
      "source": [
        "In statistics, polynomial regression is a form of regression analysis in which the relationship test between the independent variable <b>x</b> and the dependent variable <b>y</b> is modelled as an nth degree polynomial in <b>x</b>. \n",
        "\n",
        "\\begin{equation*} \\hat{y} = \\beta_0 + (\\beta_{11}x_1^1 + \\beta_{12}x_1^2 + ... + \\beta_{1n}x_1^n) + (\\beta_{21}x_2^1 + \\beta_{22}x_2^2 + ... + \\beta_{2n}x_2^n) + ... + (\\beta_{m1}x_m^1 + \\beta_{m2}x_m^2 + ... + \\beta_{mn}x_m^n) \\end{equation*}\n",
        "\n",
        "\\begin{equation*} \\hat{y} = \\beta_0 + \\sum_{i=1}^m \\sum_{j=1}^n \\beta_{ij} x_i^j \\end{equation*}\n",
        "\n",
        "Polynomial regression fits a nonlinear relationship between the value of <b>x</b> and the corresponding conditional mean of <b>y</b>, denoted $E(y|x)$. Although polynomial regression fits a nonlinear model to the data, <b>as a statistical estimation problem it is linear</b>, in the sense that the regression function $E(y|x)$ is <b>linear in the unknown parameters</b> that are estimated from the data. For this reason, polynomial regression is considered to be a special case of multiple linear regression.\n",
        "\n",
        "Predicting a nonlinear model in the input features is the same as predicting a linear model in the transformed input features -\n",
        "\n",
        "\\begin{equation*} x' = (x_1^1, x_1^2, ..., x_1^n, x_2^1, x_2^2, ..., x_2^n, ..., x_m^1, x_m^2, ..., x_m^n) \\end{equation*}"
      ]
    },
    {
      "cell_type": "code",
      "execution_count": 20,
      "metadata": {
        "id": "W7oDFte8HvrI"
      },
      "outputs": [],
      "source": [
        "def polynomial_regression(x_train, x_test, y_train, y_test, degree=1):\n",
        "\n",
        "    if len(x_train.shape) == 1:\n",
        "        x_train = x_train.reshape(-1, 1)\n",
        "        x_test = x_test.reshape(-1, 1)\n",
        "\n",
        "    polynomial_features = PolynomialFeatures(degree=degree)\n",
        "    x_train_transform = polynomial_features.fit_transform(x_train)\n",
        "    x_test_transform = polynomial_features.fit_transform(x_test)\n",
        "\n",
        "    lr_model = LinearRegression()\n",
        "    lr_model.fit(x_train_transform, y_train)\n",
        "    predictions_poly = lr_model.predict(x_test_transform)\n",
        "\n",
        "    print(\"\\033[1m\" + \"\\033[4m\" + f\"POLYNOMIAL REGRESSION, DEGREE={degree}\" + \"\\033[0m\" + \"\\n\")\n",
        "    print(\"Mean Absolute Error =\", round(mean_absolute_error(y_test, predictions_poly), 4))\n",
        "    print(\"Root Mean Squared Error =\", round(mean_squared_error(y_test, predictions_poly, squared=False), 4))\n",
        "    print(\"R2 Score =\", round(r2_score(y_test, predictions_poly), 4), end='\\n\\n')\n",
        "\n",
        "    return polynomial_features, lr_model"
      ]
    },
    {
      "cell_type": "code",
      "execution_count": 21,
      "metadata": {
        "colab": {
          "base_uri": "https://localhost:8080/"
        },
        "id": "K8n8ErIOHwHf",
        "outputId": "360fb1a1-72e1-4e2c-edfa-954f5c039ec5"
      },
      "outputs": [
        {
          "data": {
            "text/plain": [
              "((16,), (4,))"
            ]
          },
          "execution_count": 21,
          "metadata": {},
          "output_type": "execute_result"
        }
      ],
      "source": [
        "x_train, x_test, y_train, y_test = train_test_split(synthetic_X, synthetic_Y, test_size=0.2)\n",
        "x_train.shape, x_test.shape"
      ]
    },
    {
      "cell_type": "code",
      "execution_count": 22,
      "metadata": {
        "colab": {
          "base_uri": "https://localhost:8080/",
          "height": 1626
        },
        "id": "RRCnLFLxK_4Q",
        "outputId": "be106a13-8aa3-4d6b-ce90-9776653ddfee"
      },
      "outputs": [
        {
          "name": "stdout",
          "output_type": "stream",
          "text": [
            "\u001b[1m\u001b[4mPOLYNOMIAL REGRESSION, DEGREE=1\u001b[0m\n",
            "\n",
            "Mean Absolute Error = 1.3278\n",
            "Root Mean Squared Error = 1.4051\n",
            "R2 Score = -26.9714\n",
            "\n",
            "\u001b[1m\u001b[4mPOLYNOMIAL REGRESSION, DEGREE=2\u001b[0m\n",
            "\n",
            "Mean Absolute Error = 1.4121\n",
            "Root Mean Squared Error = 1.4633\n",
            "R2 Score = -29.3373\n",
            "\n",
            "\u001b[1m\u001b[4mPOLYNOMIAL REGRESSION, DEGREE=3\u001b[0m\n",
            "\n",
            "Mean Absolute Error = 0.4993\n",
            "Root Mean Squared Error = 0.6253\n",
            "R2 Score = -4.5393\n",
            "\n",
            "\u001b[1m\u001b[4mPOLYNOMIAL REGRESSION, DEGREE=4\u001b[0m\n",
            "\n",
            "Mean Absolute Error = 0.4503\n",
            "Root Mean Squared Error = 0.6063\n",
            "R2 Score = -4.2076\n",
            "\n",
            "\u001b[1m\u001b[4mPOLYNOMIAL REGRESSION, DEGREE=5\u001b[0m\n",
            "\n",
            "Mean Absolute Error = 0.6167\n",
            "Root Mean Squared Error = 0.8135\n",
            "R2 Score = -8.3757\n",
            "\n",
            "\u001b[1m\u001b[4mPOLYNOMIAL REGRESSION, DEGREE=6\u001b[0m\n",
            "\n",
            "Mean Absolute Error = 0.6565\n",
            "Root Mean Squared Error = 0.8632\n",
            "R2 Score = -9.5579\n",
            "\n"
          ]
        },
        {
          "data": {
            "image/png": "[encoded data removed]",
            "text/plain": [
              "<Figure size 1152x1152 with 6 Axes>"
            ]
          },
          "metadata": {
            "needs_background": "light"
          },
          "output_type": "display_data"
        }
      ],
      "source": [
        "fontdict = {\"family\": \"serif\", \"color\": \"darkred\", \"weight\": \"normal\", \"size\": 16}\n",
        "fig, axs = plt.subplots(3, 2, figsize=(16,16))\n",
        "plt.subplots_adjust(hspace=0.35, wspace=0.35)\n",
        "\n",
        "for degree in range(1, 7):\n",
        "\n",
        "    polynomial_features, lr_model = polynomial_regression(x_train, x_test, y_train, y_test, degree=degree)\n",
        "    \n",
        "    axs[(degree-1)//2, 1-degree%2].scatter(synthetic_X, synthetic_Y, color='g')\n",
        "    axs[(degree-1)//2, 1-degree%2].plot(synthetic_X, lr_model.predict(polynomial_features.fit_transform(synthetic_X.reshape(-1, 1))), color='navy')\n",
        "    axs[(degree-1)//2, 1-degree%2].set_title(f\"Degree {degree} Approximation\", fontdict=fontdict, pad=12)\n",
        "    axs[(degree-1)//2, 1-degree%2].set_xlabel(\"X\", fontdict=fontdict, labelpad=12)\n",
        "    axs[(degree-1)//2, 1-degree%2].set_ylabel(\"Y\", fontdict=fontdict, labelpad=12)"
      ]
    },
    {
      "cell_type": "markdown",
      "metadata": {
        "id": "yrTy1W7-Hwlc"
      },
      "source": [
        "### Working with real data\n",
        "We are going to use the wine dataset available [here](https://www.kaggle.com/uciml/red-wine-quality-cortez-et-al-2009)."
      ]
    },
    {
      "cell_type": "code",
      "execution_count": 23,
      "metadata": {
        "colab": {
          "base_uri": "https://localhost:8080/",
          "height": 205
        },
        "id": "fM9CWDHgVgaA",
        "outputId": "b24aba89-29fe-41d1-ddba-ef6cf496e692"
      },
      "outputs": [
        {
          "data": {
            "text/html": [
              "<div>\n",
              "<style scoped>\n",
              "    .dataframe tbody tr th:only-of-type {\n",
              "        vertical-align: middle;\n",
              "    }\n",
              "\n",
              "    .dataframe tbody tr th {\n",
              "        vertical-align: top;\n",
              "    }\n",
              "\n",
              "    .dataframe thead th {\n",
              "        text-align: right;\n",
              "    }\n",
              "</style>\n",
              "<table border=\"1\" class=\"dataframe\">\n",
              "  <thead>\n",
              "    <tr style=\"text-align: right;\">\n",
              "      <th></th>\n",
              "      <th>fixed acidity</th>\n",
              "      <th>volatile acidity</th>\n",
              "      <th>citric acid</th>\n",
              "      <th>residual sugar</th>\n",
              "      <th>chlorides</th>\n",
              "      <th>free sulfur dioxide</th>\n",
              "      <th>total sulfur dioxide</th>\n",
              "      <th>density</th>\n",
              "      <th>pH</th>\n",
              "      <th>sulphates</th>\n",
              "      <th>alcohol</th>\n",
              "      <th>quality</th>\n",
              "    </tr>\n",
              "  </thead>\n",
              "  <tbody>\n",
              "    <tr>\n",
              "      <th>0</th>\n",
              "      <td>7.4</td>\n",
              "      <td>0.70</td>\n",
              "      <td>0.00</td>\n",
              "      <td>1.9</td>\n",
              "      <td>0.076</td>\n",
              "      <td>11.0</td>\n",
              "      <td>34.0</td>\n",
              "      <td>0.9978</td>\n",
              "      <td>3.51</td>\n",
              "      <td>0.56</td>\n",
              "      <td>9.4</td>\n",
              "      <td>5</td>\n",
              "    </tr>\n",
              "    <tr>\n",
              "      <th>1</th>\n",
              "      <td>7.8</td>\n",
              "      <td>0.88</td>\n",
              "      <td>0.00</td>\n",
              "      <td>2.6</td>\n",
              "      <td>0.098</td>\n",
              "      <td>25.0</td>\n",
              "      <td>67.0</td>\n",
              "      <td>0.9968</td>\n",
              "      <td>3.20</td>\n",
              "      <td>0.68</td>\n",
              "      <td>9.8</td>\n",
              "      <td>5</td>\n",
              "    </tr>\n",
              "    <tr>\n",
              "      <th>2</th>\n",
              "      <td>7.8</td>\n",
              "      <td>0.76</td>\n",
              "      <td>0.04</td>\n",
              "      <td>2.3</td>\n",
              "      <td>0.092</td>\n",
              "      <td>15.0</td>\n",
              "      <td>54.0</td>\n",
              "      <td>0.9970</td>\n",
              "      <td>3.26</td>\n",
              "      <td>0.65</td>\n",
              "      <td>9.8</td>\n",
              "      <td>5</td>\n",
              "    </tr>\n",
              "    <tr>\n",
              "      <th>3</th>\n",
              "      <td>11.2</td>\n",
              "      <td>0.28</td>\n",
              "      <td>0.56</td>\n",
              "      <td>1.9</td>\n",
              "      <td>0.075</td>\n",
              "      <td>17.0</td>\n",
              "      <td>60.0</td>\n",
              "      <td>0.9980</td>\n",
              "      <td>3.16</td>\n",
              "      <td>0.58</td>\n",
              "      <td>9.8</td>\n",
              "      <td>6</td>\n",
              "    </tr>\n",
              "    <tr>\n",
              "      <th>4</th>\n",
              "      <td>7.4</td>\n",
              "      <td>0.70</td>\n",
              "      <td>0.00</td>\n",
              "      <td>1.9</td>\n",
              "      <td>0.076</td>\n",
              "      <td>11.0</td>\n",
              "      <td>34.0</td>\n",
              "      <td>0.9978</td>\n",
              "      <td>3.51</td>\n",
              "      <td>0.56</td>\n",
              "      <td>9.4</td>\n",
              "      <td>5</td>\n",
              "    </tr>\n",
              "  </tbody>\n",
              "</table>\n",
              "</div>"
            ],
            "text/plain": [
              "   fixed acidity  volatile acidity  citric acid  residual sugar  chlorides  \\\n",
              "0            7.4              0.70         0.00             1.9      0.076   \n",
              "1            7.8              0.88         0.00             2.6      0.098   \n",
              "2            7.8              0.76         0.04             2.3      0.092   \n",
              "3           11.2              0.28         0.56             1.9      0.075   \n",
              "4            7.4              0.70         0.00             1.9      0.076   \n",
              "\n",
              "   free sulfur dioxide  total sulfur dioxide  density    pH  sulphates  \\\n",
              "0                 11.0                  34.0   0.9978  3.51       0.56   \n",
              "1                 25.0                  67.0   0.9968  3.20       0.68   \n",
              "2                 15.0                  54.0   0.9970  3.26       0.65   \n",
              "3                 17.0                  60.0   0.9980  3.16       0.58   \n",
              "4                 11.0                  34.0   0.9978  3.51       0.56   \n",
              "\n",
              "   alcohol  quality  \n",
              "0      9.4        5  \n",
              "1      9.8        5  \n",
              "2      9.8        5  \n",
              "3      9.8        6  \n",
              "4      9.4        5  "
            ]
          },
          "execution_count": 23,
          "metadata": {},
          "output_type": "execute_result"
        }
      ],
      "source": [
        "df = pd.read_csv('https://raw.githubusercontent.com/ignasa007/Machine-Learning-Tutorials/main/data/winequality-red.csv')\r\n",
        "df.head()"
      ]
    },
    {
      "cell_type": "markdown",
      "metadata": {
        "id": "wK4bI5CCVn-X"
      },
      "source": [
        "Since quality is a categorical varaible, we will predict the ph value using other variables."
      ]
    },
    {
      "cell_type": "code",
      "execution_count": 24,
      "metadata": {
        "colab": {
          "base_uri": "https://localhost:8080/",
          "height": 205
        },
        "id": "9SdnUvbxVgcV",
        "outputId": "463a1608-86ea-41ce-d795-877a9baa6036"
      },
      "outputs": [
        {
          "data": {
            "text/html": [
              "<div>\n",
              "<style scoped>\n",
              "    .dataframe tbody tr th:only-of-type {\n",
              "        vertical-align: middle;\n",
              "    }\n",
              "\n",
              "    .dataframe tbody tr th {\n",
              "        vertical-align: top;\n",
              "    }\n",
              "\n",
              "    .dataframe thead th {\n",
              "        text-align: right;\n",
              "    }\n",
              "</style>\n",
              "<table border=\"1\" class=\"dataframe\">\n",
              "  <thead>\n",
              "    <tr style=\"text-align: right;\">\n",
              "      <th></th>\n",
              "      <th>alcohol</th>\n",
              "      <th>chlorides</th>\n",
              "      <th>citric acid</th>\n",
              "      <th>density</th>\n",
              "      <th>fixed acidity</th>\n",
              "      <th>free sulfur dioxide</th>\n",
              "      <th>residual sugar</th>\n",
              "      <th>sulphates</th>\n",
              "      <th>total sulfur dioxide</th>\n",
              "      <th>volatile acidity</th>\n",
              "    </tr>\n",
              "  </thead>\n",
              "  <tbody>\n",
              "    <tr>\n",
              "      <th>0</th>\n",
              "      <td>9.4</td>\n",
              "      <td>0.076</td>\n",
              "      <td>0.00</td>\n",
              "      <td>0.9978</td>\n",
              "      <td>7.4</td>\n",
              "      <td>11.0</td>\n",
              "      <td>1.9</td>\n",
              "      <td>0.56</td>\n",
              "      <td>34.0</td>\n",
              "      <td>0.70</td>\n",
              "    </tr>\n",
              "    <tr>\n",
              "      <th>1</th>\n",
              "      <td>9.8</td>\n",
              "      <td>0.098</td>\n",
              "      <td>0.00</td>\n",
              "      <td>0.9968</td>\n",
              "      <td>7.8</td>\n",
              "      <td>25.0</td>\n",
              "      <td>2.6</td>\n",
              "      <td>0.68</td>\n",
              "      <td>67.0</td>\n",
              "      <td>0.88</td>\n",
              "    </tr>\n",
              "    <tr>\n",
              "      <th>2</th>\n",
              "      <td>9.8</td>\n",
              "      <td>0.092</td>\n",
              "      <td>0.04</td>\n",
              "      <td>0.9970</td>\n",
              "      <td>7.8</td>\n",
              "      <td>15.0</td>\n",
              "      <td>2.3</td>\n",
              "      <td>0.65</td>\n",
              "      <td>54.0</td>\n",
              "      <td>0.76</td>\n",
              "    </tr>\n",
              "    <tr>\n",
              "      <th>3</th>\n",
              "      <td>9.8</td>\n",
              "      <td>0.075</td>\n",
              "      <td>0.56</td>\n",
              "      <td>0.9980</td>\n",
              "      <td>11.2</td>\n",
              "      <td>17.0</td>\n",
              "      <td>1.9</td>\n",
              "      <td>0.58</td>\n",
              "      <td>60.0</td>\n",
              "      <td>0.28</td>\n",
              "    </tr>\n",
              "    <tr>\n",
              "      <th>4</th>\n",
              "      <td>9.4</td>\n",
              "      <td>0.076</td>\n",
              "      <td>0.00</td>\n",
              "      <td>0.9978</td>\n",
              "      <td>7.4</td>\n",
              "      <td>11.0</td>\n",
              "      <td>1.9</td>\n",
              "      <td>0.56</td>\n",
              "      <td>34.0</td>\n",
              "      <td>0.70</td>\n",
              "    </tr>\n",
              "  </tbody>\n",
              "</table>\n",
              "</div>"
            ],
            "text/plain": [
              "   alcohol  chlorides  citric acid  density  fixed acidity  \\\n",
              "0      9.4      0.076         0.00   0.9978            7.4   \n",
              "1      9.8      0.098         0.00   0.9968            7.8   \n",
              "2      9.8      0.092         0.04   0.9970            7.8   \n",
              "3      9.8      0.075         0.56   0.9980           11.2   \n",
              "4      9.4      0.076         0.00   0.9978            7.4   \n",
              "\n",
              "   free sulfur dioxide  residual sugar  sulphates  total sulfur dioxide  \\\n",
              "0                 11.0             1.9       0.56                  34.0   \n",
              "1                 25.0             2.6       0.68                  67.0   \n",
              "2                 15.0             2.3       0.65                  54.0   \n",
              "3                 17.0             1.9       0.58                  60.0   \n",
              "4                 11.0             1.9       0.56                  34.0   \n",
              "\n",
              "   volatile acidity  \n",
              "0              0.70  \n",
              "1              0.88  \n",
              "2              0.76  \n",
              "3              0.28  \n",
              "4              0.70  "
            ]
          },
          "execution_count": 24,
          "metadata": {},
          "output_type": "execute_result"
        }
      ],
      "source": [
        "df.drop([\"quality\"], axis=1, inplace=True)\n",
        "x_df, y_df = df[df.columns.difference([\"pH\"])], df[[\"pH\"]]\n",
        "x_values, y_values = x_df.values, y_df.values\n",
        "x_df.head()"
      ]
    },
    {
      "cell_type": "code",
      "execution_count": 25,
      "metadata": {
        "colab": {
          "base_uri": "https://localhost:8080/",
          "height": 35
        },
        "id": "6mXbV2t1Vgeq",
        "outputId": "b4a26901-70c9-4f34-873e-29005075fb90"
      },
      "outputs": [
        {
          "data": {
            "text/plain": [
              "((1279, 10), (320, 10))"
            ]
          },
          "execution_count": 25,
          "metadata": {},
          "output_type": "execute_result"
        }
      ],
      "source": [
        "x_train, x_test, y_train, y_test = train_test_split(x_values, y_values, test_size=0.2, random_state=1)\n",
        "x_train.shape, x_test.shape"
      ]
    },
    {
      "cell_type": "code",
      "execution_count": 26,
      "metadata": {
        "colab": {
          "base_uri": "https://localhost:8080/",
          "height": 345
        },
        "id": "wyIAFk8ZVgg8",
        "outputId": "7f8af988-5d7f-436f-d00b-121ddae438bb"
      },
      "outputs": [
        {
          "name": "stdout",
          "output_type": "stream",
          "text": [
            "\u001b[1m\u001b[4mPOLYNOMIAL REGRESSION, DEGREE=1\u001b[0m\n",
            "\n",
            "Mean Absolute Error = 0.0643\n",
            "Root Mean Squared Error = 0.0815\n",
            "R2 Score = 0.6748\n",
            "\n",
            "\u001b[1m\u001b[4mPOLYNOMIAL REGRESSION, DEGREE=2\u001b[0m\n",
            "\n",
            "Mean Absolute Error = 0.0582\n",
            "Root Mean Squared Error = 0.074\n",
            "R2 Score = 0.7316\n",
            "\n",
            "\u001b[1m\u001b[4mPOLYNOMIAL REGRESSION, DEGREE=3\u001b[0m\n",
            "\n",
            "Mean Absolute Error = 0.0613\n",
            "Root Mean Squared Error = 0.1091\n",
            "R2 Score = 0.4176\n",
            "\n"
          ]
        }
      ],
      "source": [
        "for degree in range(1, 4):\n",
        "    _, _ = polynomial_regression(x_train, x_test, y_train, y_test, degree=degree)"
      ]
    },
    {
      "cell_type": "markdown",
      "metadata": {
        "id": "E_RZXXmCbQsf"
      },
      "source": [
        "# **Naive Bayes Plan**\n",
        "\n",
        "<!--\n",
        "\n",
        "### Bayes Theorem\n",
        "### Definition and Description with a small example\n",
        "### Custom dataset https://www.saedsayad.com/naive_bayesian.htm\n",
        "### Algorithm\n",
        "\n",
        "-->\n",
        "\n"
      ]
    },
    {
      "cell_type": "markdown",
      "metadata": {
        "id": "E8Uc_arlZ5sK"
      },
      "source": [
        "# NAIVE BAYES"
      ]
    },
    {
      "cell_type": "markdown",
      "metadata": {
        "id": "ooAo9nVbZ8Ik"
      },
      "source": [
        "Naive Bayes models are a group of extremely fast and simple classification algorithms that are often suitable for very high-dimensional datasets. Because they are so fast and have so few tunable parameters, they end up being very useful as a quick-and-dirty baseline for a classification problem."
      ]
    },
    {
      "cell_type": "markdown",
      "metadata": {
        "id": "-cT2cvHfZ8St"
      },
      "source": [
        "## Bayesian Classification\n",
        "\n",
        "Naive Bayes classifiers are built on Bayesian classification methods.\n",
        "These rely on Bayes's theorem, which is an equation describing the relationship of conditional probabilities of statistical quantities.\n",
        "In Bayesian classification, we're interested in finding the probability of a label given some observed features, which we can write as $P(L~|~{\\rm features})$.\n",
        "Bayes's theorem tells us how to express this in terms of quantities we can compute more directly:\n",
        "\n",
        "$$\n",
        "P(L~|~{\\rm features}) = \\frac{P({\\rm features}~|~L)P(L)}{P({\\rm features})}\n",
        "$$\n",
        "\n",
        "If we are trying to decide between two labels—let's call them $L_1$ and $L_2$—then one way to make this decision is to compute the ratio of the posterior probabilities for each label:\n",
        "\n",
        "$$\n",
        "\\frac{P(L_1~|~{\\rm features})}{P(L_2~|~{\\rm features})} = \\frac{P({\\rm features}~|~L_1)}{P({\\rm features}~|~L_2)}\\frac{P(L_1)}{P(L_2)}\n",
        "$$\n",
        "\n",
        "All we need now is some model by which we can compute $P({\\rm features}~|~L_i)$ for each label.\n",
        "Such a model is called a *generative model* because it specifies the hypothetical random process that generates the data.\n",
        "Specifying this generative model for each label is the main piece of the training of such a Bayesian classifier.\n",
        "\n",
        "This is where the \"naive\" in \"naive Bayes\" comes in: if we make very naive assumptions about the generative model for each label, we can find a rough approximation of the generative model for each class, and then proceed with the Bayesian classification."
      ]
    },
    {
      "cell_type": "markdown",
      "metadata": {
        "id": "WwG1GBGzehT9"
      },
      "source": [
        "## Implementation\n",
        "\n",
        "Let’s use the famous Flu dataset for naive Bayes and import it, you can change the path. You can download the data from [here]()."
      ]
    },
    {
      "cell_type": "code",
      "execution_count": 27,
      "metadata": {
        "id": "-4uvL7ybeS_S"
      },
      "outputs": [
        {
          "data": {
            "text/html": [
              "<div>\n",
              "<style scoped>\n",
              "    .dataframe tbody tr th:only-of-type {\n",
              "        vertical-align: middle;\n",
              "    }\n",
              "\n",
              "    .dataframe tbody tr th {\n",
              "        vertical-align: top;\n",
              "    }\n",
              "\n",
              "    .dataframe thead th {\n",
              "        text-align: right;\n",
              "    }\n",
              "</style>\n",
              "<table border=\"1\" class=\"dataframe\">\n",
              "  <thead>\n",
              "    <tr style=\"text-align: right;\">\n",
              "      <th></th>\n",
              "      <th>Chills</th>\n",
              "      <th>runny nose</th>\n",
              "      <th>head ache</th>\n",
              "      <th>fever</th>\n",
              "      <th>Flu</th>\n",
              "    </tr>\n",
              "  </thead>\n",
              "  <tbody>\n",
              "    <tr>\n",
              "      <th>0</th>\n",
              "      <td>Y</td>\n",
              "      <td>N</td>\n",
              "      <td>Mild</td>\n",
              "      <td>Y</td>\n",
              "      <td>N</td>\n",
              "    </tr>\n",
              "    <tr>\n",
              "      <th>1</th>\n",
              "      <td>Y</td>\n",
              "      <td>Y</td>\n",
              "      <td>No</td>\n",
              "      <td>N</td>\n",
              "      <td>Y</td>\n",
              "    </tr>\n",
              "    <tr>\n",
              "      <th>2</th>\n",
              "      <td>Y</td>\n",
              "      <td>N</td>\n",
              "      <td>Strong</td>\n",
              "      <td>Y</td>\n",
              "      <td>Y</td>\n",
              "    </tr>\n",
              "    <tr>\n",
              "      <th>3</th>\n",
              "      <td>N</td>\n",
              "      <td>Y</td>\n",
              "      <td>Mild</td>\n",
              "      <td>Y</td>\n",
              "      <td>Y</td>\n",
              "    </tr>\n",
              "    <tr>\n",
              "      <th>4</th>\n",
              "      <td>N</td>\n",
              "      <td>N</td>\n",
              "      <td>No</td>\n",
              "      <td>N</td>\n",
              "      <td>N</td>\n",
              "    </tr>\n",
              "  </tbody>\n",
              "</table>\n",
              "</div>"
            ],
            "text/plain": [
              "  Chills runny nose head ache fever Flu\n",
              "0      Y          N      Mild     Y   N\n",
              "1      Y          Y        No     N   Y\n",
              "2      Y          N    Strong     Y   Y\n",
              "3      N          Y      Mild     Y   Y\n",
              "4      N          N        No     N   N"
            ]
          },
          "execution_count": 27,
          "metadata": {},
          "output_type": "execute_result"
        }
      ],
      "source": [
        "flu = pd.read_csv('https://raw.githubusercontent.com/ignasa007/Machine-Learning-Tutorials/main/data/flu.csv')\r\n",
        "flu.head()"
      ]
    },
    {
      "cell_type": "code",
      "execution_count": 28,
      "metadata": {},
      "outputs": [
        {
          "data": {
            "text/html": [
              "<div>\n",
              "<style scoped>\n",
              "    .dataframe tbody tr th:only-of-type {\n",
              "        vertical-align: middle;\n",
              "    }\n",
              "\n",
              "    .dataframe tbody tr th {\n",
              "        vertical-align: top;\n",
              "    }\n",
              "\n",
              "    .dataframe thead th {\n",
              "        text-align: right;\n",
              "    }\n",
              "</style>\n",
              "<table border=\"1\" class=\"dataframe\">\n",
              "  <thead>\n",
              "    <tr style=\"text-align: right;\">\n",
              "      <th></th>\n",
              "      <th>Chills</th>\n",
              "      <th>fever</th>\n",
              "      <th>head ache</th>\n",
              "      <th>runny nose</th>\n",
              "    </tr>\n",
              "  </thead>\n",
              "  <tbody>\n",
              "    <tr>\n",
              "      <th>0</th>\n",
              "      <td>1</td>\n",
              "      <td>0</td>\n",
              "      <td>0</td>\n",
              "      <td>1</td>\n",
              "    </tr>\n",
              "    <tr>\n",
              "      <th>1</th>\n",
              "      <td>1</td>\n",
              "      <td>1</td>\n",
              "      <td>1</td>\n",
              "      <td>0</td>\n",
              "    </tr>\n",
              "    <tr>\n",
              "      <th>2</th>\n",
              "      <td>1</td>\n",
              "      <td>0</td>\n",
              "      <td>2</td>\n",
              "      <td>1</td>\n",
              "    </tr>\n",
              "    <tr>\n",
              "      <th>3</th>\n",
              "      <td>0</td>\n",
              "      <td>1</td>\n",
              "      <td>0</td>\n",
              "      <td>1</td>\n",
              "    </tr>\n",
              "    <tr>\n",
              "      <th>4</th>\n",
              "      <td>0</td>\n",
              "      <td>0</td>\n",
              "      <td>1</td>\n",
              "      <td>0</td>\n",
              "    </tr>\n",
              "  </tbody>\n",
              "</table>\n",
              "</div>"
            ],
            "text/plain": [
              "   Chills  fever  head ache  runny nose\n",
              "0       1      0          0           1\n",
              "1       1      1          1           0\n",
              "2       1      0          2           1\n",
              "3       0      1          0           1\n",
              "4       0      0          1           0"
            ]
          },
          "execution_count": 28,
          "metadata": {},
          "output_type": "execute_result"
        }
      ],
      "source": [
        "# Collecting the Variables\r\n",
        "x1 = flu.iloc[:,0]\r\n",
        "x2 = flu.iloc[:,1]\r\n",
        "x3 = flu.iloc[:,2]\r\n",
        "x4 = flu.iloc[:,3]\r\n",
        "y = flu.iloc[:,4]\r\n",
        "\r\n",
        "# Encoding the categorical variables\r\n",
        "le = LabelEncoder()\r\n",
        "x1 = le.fit_transform(x1)\r\n",
        "x2 = le.fit_transform(x2)\r\n",
        "x3 = le.fit_transform(x3)\r\n",
        "x4 = le.fit_transform(x4)\r\n",
        "y = le.fit_transform(y)\r\n",
        "\r\n",
        "# Getting the Encoded in Data Frame\r\n",
        "X = pd.DataFrame(list(zip(x1,x2,x3,x4)), columns=flu.columns.difference(['Flu']))\r\n",
        "X.head()"
      ]
    },
    {
      "cell_type": "markdown",
      "metadata": {},
      "source": [
        "Now we fit the Naive Bayes classifier to the data and predict probability of flu for a patient with chills, but no fever, a mild head ache and a runny nose"
      ]
    },
    {
      "cell_type": "code",
      "execution_count": 29,
      "metadata": {},
      "outputs": [
        {
          "name": "stdout",
          "output_type": "stream",
          "text": [
            "Predicted Value: [1]\n",
            "Pr(class=0) = 0.3051, Pr(class=1) = 0.6949\n"
          ]
        }
      ],
      "source": [
        "model = CategoricalNB()\r\n",
        "\r\n",
        "# Train the model using the training sets\r\n",
        "model.fit(X,y)\r\n",
        "\r\n",
        "# ['Y','N','Mild','Y']\r\n",
        "predicted = model.predict([[1,0,0,1]]) \r\n",
        "print('Predicted Value:', model.predict([[1,0,0,1]]))\r\n",
        "preds = model.predict_proba([[1,0,0,1]])[0]\r\n",
        "print(*[f'Pr(class={i}) = {round(preds[i], 4)}' for i in range(preds.shape[0])], sep=', ')"
      ]
    },
    {
      "cell_type": "markdown",
      "metadata": {},
      "source": [
        "The model suggests that the probability of the patient having flue is 0.695"
      ]
    },
    {
      "cell_type": "markdown",
      "metadata": {
        "id": "TGvV25TecEaw"
      },
      "source": [
        "# **Decision Trees Plan**\r\n",
        "\r\n",
        "<!--\r\n",
        "### Entropy (optional)\r\n",
        "### Information Gain (optional) or Accuracy\r\n",
        "### Splitting example over a node, how to select which feature\r\n",
        "### Pros-Cons\r\n",
        "### Implementation https://archive.ics.uci.edu/ml/datasets/iris, Visualization\r\n",
        "-->"
      ]
    },
    {
      "cell_type": "markdown",
      "metadata": {},
      "source": [
        "# Decision Treees\r\n",
        "\r\n",
        "Decision Tree algorithm belongs to the family of supervised learning algorithms. The goal of using a Decision Tree is to create a training model that can use to predict the class or value of the target variable by learning simple decision rules inferred from prior data. \r\n",
        "\r\n",
        "In Decision Trees, for predicting a class label for a record we start from the root of the tree. We compare the values of the root attribute with the record’s attribute. On the basis of comparison, we follow the branch corresponding to that value and jump to the next node."
      ]
    },
    {
      "cell_type": "markdown",
      "metadata": {},
      "source": [
        "## Important Terminology related to Decision Trees\r\n",
        "\r\n",
        "**Root Node**: It represents the entire population or sample and this further gets divided into two or more homogeneous sets. <br>\r\n",
        "**Splitting**: It is a process of dividing a node into two or more sub-nodes. <br>\r\n",
        "**Decision Node**: When a sub-node splits into further sub-nodes, then it is called the decision node. <br>\r\n",
        "**Leaf / Terminal Node**: Nodes do not split is called Leaf or Terminal node. <br>\r\n",
        "**Pruning**: When we remove sub-nodes of a decision node, this process is called pruning. You can say the opposite process of splitting. <br>\r\n",
        "**Branch / Sub-Tree**: A subsection of the entire tree is called branch or sub-tree. <br>\r\n",
        "**Parent and Child Node**: A node, which is divided into sub-nodes is called a parent node of sub-nodes whereas sub-nodes are the child of a parent node. <br>"
      ]
    },
    {
      "cell_type": "markdown",
      "metadata": {},
      "source": [
        "![](assets/decision_trees.png)"
      ]
    },
    {
      "cell_type": "markdown",
      "metadata": {},
      "source": [
        "## How do Decision Trees work?\r\n",
        " \r\n",
        "The decision of making strategic splits heavily affects a tree’s accuracy. The decision criteria are different for classification and regression trees.\r\n",
        "\r\n",
        "Decision trees use multiple algorithms to decide to split a node into two or more sub-nodes. The creation of sub-nodes increases the homogeneity of resultant sub-nodes. In other words, we can say that the purity of the node increases with respect to the target variable. The decision tree splits the nodes on all available variables and then selects the split which results in most homogeneous sub-nodes.\r\n",
        "\r\n",
        "### **ID3 algorithm**:\r\n",
        "\r\n",
        "1. It begins with the original set S as the root node.\r\n",
        "2. On each iteration of the algorithm, it iterates through the very unused attribute of the set S and calculates Entropy (H) and Information gain (IG) of this attribute.\r\n",
        "3. It then selects the attribute which has the smallest Entropy or Largest Information gain.\r\n",
        "4. The set S is then split by the selected attribute to produce a subset of the data.\r\n",
        "5. The algorithm continues to recur on each subset, considering only attributes never selected before."
      ]
    },
    {
      "cell_type": "markdown",
      "metadata": {},
      "source": [
        "## Entropy\r\n",
        "\r\n",
        "Entropy of a probability distribution is calculated as\r\n",
        "$$\r\n",
        "H(X) = -\\sum_{i=1}^{n} P_i\\log_b{P_i}\r\n",
        "$$\r\n",
        "where $n$ is the number of classes $X$ can belong to, and $P_i = Pr(X=i)$."
      ]
    },
    {
      "cell_type": "code",
      "execution_count": 46,
      "metadata": {},
      "outputs": [
        {
          "data": {
            "image/png": "[encoded data removed]",
            "text/plain": [
              "<Figure size 576x576 with 1 Axes>"
            ]
          },
          "metadata": {
            "needs_background": "light"
          },
          "output_type": "display_data"
        }
      ],
      "source": [
        "var = 0.1\r\n",
        "\r\n",
        "entropy_X = np.concatenate((np.linspace(0, var, 1500), np.linspace(var, 1-var, 2000), np.linspace(1-var, 1, 1500)))\r\n",
        "entropy_Y = - (entropy_X * np.log2(entropy_X) + (1-entropy_X) * np.log2(1-entropy_X))\r\n",
        "\r\n",
        "fontdict = {\"family\":\"serif\", \"color\":\"darkred\", \"weight\":\"normal\", \"size\":16}\r\n",
        "plt.figure(figsize=(8, 8))\r\n",
        "ax = plt.subplot(111)\r\n",
        "plt.scatter(entropy_X, entropy_Y, color='g', s=1)\r\n",
        "ax.set_title(\"Entropy vs Probability\", fontdict=fontdict, pad=12)\r\n",
        "ax.set_xlabel(\"Probability\", fontdict=fontdict, labelpad=12)\r\n",
        "ax.set_ylabel(\"Entropy\", fontdict=fontdict, labelpad=12)\r\n",
        "ax.grid()"
      ]
    },
    {
      "cell_type": "markdown",
      "metadata": {},
      "source": [
        "Above is a plot in case of a two class problem of entropy against the probability of the random variable belonging to one of the classes. From the graph we see that $P_i = 0.5$ gives the highest entropy and it decreases towards the extremes. This can be understood by viewing entropy as a measure of randomness. As $P_i$ approaches 0 or 1, the randomness in the result decreases and we can make a guess about the value of the variable with high accuracy. Similarly, if $P_i = 0.5$, the uncertainity in the result is highest and our prediction has the highest likelihood of being wrong."
      ]
    },
    {
      "cell_type": "markdown",
      "metadata": {},
      "source": [
        "## Information Gain\r\n",
        "\r\n",
        "Information gain or IG is a statistical property that measures how well a given attribute separates the training examples according to their target classification. Constructing a decision tree is all about finding an attribute that returns the highest information gain and the smallest entropy. Information gain is a decrease in entropy. It computes the difference between entropy before split and average entropy after split of the dataset based on given attribute values."
      ]
    },
    {
      "cell_type": "markdown",
      "metadata": {},
      "source": [
        "![](assets/information_gain.png)"
      ]
    },
    {
      "cell_type": "code",
      "execution_count": 50,
      "metadata": {},
      "outputs": [
        {
          "data": {
            "text/plain": [
              "DecisionTreeClassifier()"
            ]
          },
          "execution_count": 50,
          "metadata": {},
          "output_type": "execute_result"
        }
      ],
      "source": [
        "FEATURE_NAMES = ['Sepal Length', 'Sepal Width', 'Petal Length', 'Petal Width']\r\n",
        "\r\n",
        "iris = load_iris()\r\n",
        "iris_X = pd.DataFrame(iris.data, columns = FEATURE_NAMES)\r\n",
        "iris_y = iris.target\r\n",
        "\r\n",
        "model = DecisionTreeClassifier()\r\n",
        "model.fit(iris_X, iris_y)"
      ]
    },
    {
      "cell_type": "code",
      "execution_count": 52,
      "metadata": {},
      "outputs": [
        {
          "name": "stderr",
          "output_type": "stream",
          "text": [
            "'dot' is not recognized as an internal or external command,\n",
            "operable program or batch file.\n"
          ]
        }
      ],
      "source": [
        "export_graphviz(model, './assets/tree.dot', feature_names = FEATURE_NAMES)\r\n",
        "! dot -Tpng assets/tree.dot -o assets/tree.png"
      ]
    },
    {
      "cell_type": "code",
      "execution_count": null,
      "metadata": {},
      "outputs": [],
      "source": []
    },
    {
      "cell_type": "code",
      "execution_count": null,
      "metadata": {},
      "outputs": [],
      "source": []
    },
    {
      "cell_type": "code",
      "execution_count": null,
      "metadata": {},
      "outputs": [],
      "source": []
    },
    {
      "cell_type": "code",
      "execution_count": null,
      "metadata": {},
      "outputs": [],
      "source": []
    },
    {
      "cell_type": "markdown",
      "metadata": {
        "id": "aypNh_376EoZ"
      },
      "source": [
        "# **Ensemble Methods**\n",
        "### Description, need\n",
        "### Weak learner, strong learner\n",
        "### Boosting\n",
        "### Examples"
      ]
    },
    {
      "cell_type": "markdown",
      "metadata": {
        "id": "zrMaXBGYhkPq"
      },
      "source": [
        "# **Random Forest**\n",
        "### Description\n",
        "### Bagging\n",
        "### Implementation https://archive.ics.uci.edu/ml/datasets/iris\n",
        "### Visualization (?)"
      ]
    },
    {
      "cell_type": "markdown",
      "metadata": {
        "id": "FH9HT02MkKiQ"
      },
      "source": [
        "# **AdaBoost**\n",
        "### Description + Manual implementation\n",
        "### sklearn implementation"
      ]
    },
    {
      "cell_type": "markdown",
      "metadata": {
        "id": "GghjnoXz-NAO"
      },
      "source": [
        "# **Boost by Majority**\n",
        "### (optional)"
      ]
    }
  ],
  "metadata": {
    "colab": {
      "collapsed_sections": [],
      "name": "EnsembleMethods.ipynb",
      "provenance": []
    },
    "interpreter": {
      "hash": "1fea9a4c2cdc9ba1d06e8e0dec9acced70a05c92f94f3724f1a87c7ab2e3891c"
    },
    "kernelspec": {
      "display_name": "Python 3.9.6 64-bit",
      "name": "python3"
    },
    "language_info": {
      "codemirror_mode": {
        "name": "ipython",
        "version": 3
      },
      "file_extension": ".py",
      "mimetype": "text/x-python",
      "name": "python",
      "nbconvert_exporter": "python",
      "pygments_lexer": "ipython3",
      "version": "3.9.6"
    }
  },
  "nbformat": 4,
  "nbformat_minor": 0
}