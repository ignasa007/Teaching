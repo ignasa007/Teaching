{
 "cells": [
  {
   "cell_type": "code",
   "execution_count": 1,
   "metadata": {},
   "outputs": [],
   "source": [
    "import numpy as np\n",
    "from numpy.random import poisson\n",
    "import pandas as pd\n",
    "import sklearn\n",
    "from sklearn.base import clone\n",
    "from sklearn.datasets import load_iris\n",
    "from sklearn.preprocessing import OneHotEncoder, PolynomialFeatures\n",
    "from sklearn.model_selection import train_test_split\n",
    "from sklearn.linear_model import LinearRegression, LogisticRegression, Ridge, Lasso, ElasticNet\n",
    "from sklearn.metrics import classification_report, mean_absolute_error, mean_squared_error, r2_score, log_loss\n",
    "from tensorflow.keras.losses import CategoricalCrossentropy\n",
    "import mord\n",
    "import statsmodels.api as sm\n",
    "from scipy import stats\n",
    "from datetime import datetime\n",
    "import seaborn as sns\n",
    "import matplotlib.pyplot as plt\n",
    "%matplotlib inline\n",
    "\n",
    "import warnings\n",
    "warnings.filterwarnings(\"ignore\")"
   ]
  },
  {
   "cell_type": "markdown",
   "metadata": {},
   "source": [
    "# LINEAR REGRESSION"
   ]
  },
  {
   "cell_type": "markdown",
   "metadata": {},
   "source": [
    "In statistics, linear regression is a linear approach to modeling the relationship between a scalar response (or dependent variable) and one or more explanatory variables (or independent variables). The case of one explanatory variable is called simple linear regression. For more than one explanatory variable, the process is called multiple linear regression. In linear regression, the relationships are modeled using linear predictor functions whose unknown model parameters are estimated from the data.\n",
    "\n",
    "[Source](https://en.wikipedia.org/wiki/Linear_regression)"
   ]
  },
  {
   "cell_type": "markdown",
   "metadata": {},
   "source": [
    "### Setting\n",
    "Given a vector of independent variables, $x = (x_1, x_2, ..., x_n)$, we wan to predict the vector of coefficients, $\\beta = (\\beta_0, \\beta_1, ..., \\beta_n)$, such that $\\hat{y} = \\beta_0 + \\beta_1x_1 + \\beta_2x_2 + ... + \\beta_nx_n$ can be used as a predictor for the independent variable, $y$. "
   ]
  },
  {
   "cell_type": "markdown",
   "metadata": {},
   "source": [
    "### Estimation - Ordinary Least Squares (OLS) Method\n",
    "If we extend $x = (x_1, x_2, ..., x_n)$ to $x = (1, x_1, x_2, ..., x_n)$, then we are trying to approximate \n",
    "\\begin{equation*}y \\approx \\beta \\cdot x\\end{equation*} \n",
    "\n",
    "In the OLS approach, the optimal parameter vector, $\\hat{\\beta}$, is given by (where m is the number of samples in the training set)\n",
    "\\begin{equation*} \\hat{\\beta} = \\underset{\\beta}{\\operatorname{argmin}} \\sum_{i=1}^{m} (y_i-\\beta \\cdot x_i)^2 \\end{equation*}\n",
    "\n",
    "Putting this in matrix format, we get\n",
    "\\begin{equation*} L(D,\\beta) = \\lvert Y-X\\beta \\rvert^2 \\end{equation*}\n",
    "\\begin{equation*} L(D,\\beta) = (Y-X\\beta)^T(Y-X\\beta) \\end{equation*}\n",
    "\\begin{equation*} L(D,\\beta) = Y^TY-Y^TX\\beta-\\beta^TX^TY+\\beta^TX^TX\\beta\\end{equation*}\n",
    "\n",
    "Since the loss function, $L(D, \\beta)$, is convex, the minimum value is reached by equating the gradient to 0.<br><br>\n",
    "\\begin{equation*} \\frac{\\partial L(D,\\beta)}{\\partial \\beta} = -2Y^TX+2\\beta^TX^TX = 0 \\end{equation*}\n",
    "\\begin{equation*} \\beta = (X^TX)^{-1}X^TY \\end{equation*}"
   ]
  },
  {
   "cell_type": "markdown",
   "metadata": {},
   "source": [
    "### Assumptions\n",
    "The following are the assumptions made by linear regression models with standard estimation techniques -\n",
    "1. Weak Exogenity - This essentially means that the model assumes that the predictor variables are error-free, or that they are exact, and not random variables. \n",
    "2. Homoscedasticity - This means that the model assumes that the varaince in the error terms is constant, and does not vary across different values of predictor variables. In practice, this assumption rarely ever holds, i.e., error are terms are heteroscedastic. Heteroscedasticity will mean that the different values of the varaince are averaged to get a single variance, which inaccurately represents the variance of the error along the line. Typically, this means that the response variable with higher mean is likely to have a higher variance. Take for example a regression model trying to predict a person's salary. A prediction of 100,000 can have a variance of 20,000, but a prediction of 10,000 is less likelier to have the same varaince. This leads to less precise parameter estimates and incorrect metric scores.\n",
    "3. Independence of Errors - The error terms are assumed to be independent of each other. Bayesian linear regression is useful for handling correlated errors.\n",
    "4. Lack of perfect multicollinearity in the predictors - This assumption implies that the design matrix X, must be full rank. In the case of perfect collinearity, the parameter vector, $\\beta$ cannot be uniquely predicted."
   ]
  },
  {
   "cell_type": "markdown",
   "metadata": {},
   "source": [
    "### Import Dataset\n",
    "We are going to use the Medical Cost dataset from [Kaggle](https://www.kaggle.com/mirichoi0218/insurance)."
   ]
  },
  {
   "cell_type": "code",
   "execution_count": 2,
   "metadata": {},
   "outputs": [
    {
     "data": {
      "text/html": [
       "<div>\n",
       "<style scoped>\n",
       "    .dataframe tbody tr th:only-of-type {\n",
       "        vertical-align: middle;\n",
       "    }\n",
       "\n",
       "    .dataframe tbody tr th {\n",
       "        vertical-align: top;\n",
       "    }\n",
       "\n",
       "    .dataframe thead th {\n",
       "        text-align: right;\n",
       "    }\n",
       "</style>\n",
       "<table border=\"1\" class=\"dataframe\">\n",
       "  <thead>\n",
       "    <tr style=\"text-align: right;\">\n",
       "      <th></th>\n",
       "      <th>age</th>\n",
       "      <th>sex</th>\n",
       "      <th>bmi</th>\n",
       "      <th>children</th>\n",
       "      <th>smoker</th>\n",
       "      <th>region</th>\n",
       "      <th>charges</th>\n",
       "    </tr>\n",
       "  </thead>\n",
       "  <tbody>\n",
       "    <tr>\n",
       "      <th>0</th>\n",
       "      <td>19</td>\n",
       "      <td>female</td>\n",
       "      <td>27.900</td>\n",
       "      <td>0</td>\n",
       "      <td>yes</td>\n",
       "      <td>southwest</td>\n",
       "      <td>16884.92400</td>\n",
       "    </tr>\n",
       "    <tr>\n",
       "      <th>1</th>\n",
       "      <td>18</td>\n",
       "      <td>male</td>\n",
       "      <td>33.770</td>\n",
       "      <td>1</td>\n",
       "      <td>no</td>\n",
       "      <td>southeast</td>\n",
       "      <td>1725.55230</td>\n",
       "    </tr>\n",
       "    <tr>\n",
       "      <th>2</th>\n",
       "      <td>28</td>\n",
       "      <td>male</td>\n",
       "      <td>33.000</td>\n",
       "      <td>3</td>\n",
       "      <td>no</td>\n",
       "      <td>southeast</td>\n",
       "      <td>4449.46200</td>\n",
       "    </tr>\n",
       "    <tr>\n",
       "      <th>3</th>\n",
       "      <td>33</td>\n",
       "      <td>male</td>\n",
       "      <td>22.705</td>\n",
       "      <td>0</td>\n",
       "      <td>no</td>\n",
       "      <td>northwest</td>\n",
       "      <td>21984.47061</td>\n",
       "    </tr>\n",
       "    <tr>\n",
       "      <th>4</th>\n",
       "      <td>32</td>\n",
       "      <td>male</td>\n",
       "      <td>28.880</td>\n",
       "      <td>0</td>\n",
       "      <td>no</td>\n",
       "      <td>northwest</td>\n",
       "      <td>3866.85520</td>\n",
       "    </tr>\n",
       "  </tbody>\n",
       "</table>\n",
       "</div>"
      ],
      "text/plain": [
       "   age     sex     bmi  children smoker     region      charges\n",
       "0   19  female  27.900         0    yes  southwest  16884.92400\n",
       "1   18    male  33.770         1     no  southeast   1725.55230\n",
       "2   28    male  33.000         3     no  southeast   4449.46200\n",
       "3   33    male  22.705         0     no  northwest  21984.47061\n",
       "4   32    male  28.880         0     no  northwest   3866.85520"
      ]
     },
     "execution_count": 2,
     "metadata": {},
     "output_type": "execute_result"
    }
   ],
   "source": [
    "df = pd.read_csv(\"./data/insurance.csv\")\r\n",
    "df.head()"
   ]
  },
  {
   "cell_type": "code",
   "execution_count": 3,
   "metadata": {},
   "outputs": [
    {
     "data": {
      "text/plain": [
       "(18, 64)"
      ]
     },
     "execution_count": 3,
     "metadata": {},
     "output_type": "execute_result"
    }
   ],
   "source": [
    "df.age.min(), df.age.max()"
   ]
  },
  {
   "cell_type": "code",
   "execution_count": 4,
   "metadata": {
    "scrolled": true
   },
   "outputs": [
    {
     "data": {
      "text/html": [
       "<div>\n",
       "<style scoped>\n",
       "    .dataframe tbody tr th:only-of-type {\n",
       "        vertical-align: middle;\n",
       "    }\n",
       "\n",
       "    .dataframe tbody tr th {\n",
       "        vertical-align: top;\n",
       "    }\n",
       "\n",
       "    .dataframe thead th {\n",
       "        text-align: right;\n",
       "    }\n",
       "</style>\n",
       "<table border=\"1\" class=\"dataframe\">\n",
       "  <thead>\n",
       "    <tr style=\"text-align: right;\">\n",
       "      <th></th>\n",
       "      <th>bmi</th>\n",
       "      <th>charges</th>\n",
       "      <th>14&lt;Age&lt;25</th>\n",
       "      <th>24&lt;Age&lt;35</th>\n",
       "      <th>34&lt;Age&lt;45</th>\n",
       "      <th>44&lt;Age&lt;55</th>\n",
       "      <th>54&lt;Age&lt;65</th>\n",
       "      <th>Male</th>\n",
       "      <th>Female</th>\n",
       "      <th>Smoker</th>\n",
       "      <th>Non-Smoker</th>\n",
       "    </tr>\n",
       "  </thead>\n",
       "  <tbody>\n",
       "    <tr>\n",
       "      <th>0</th>\n",
       "      <td>27.900</td>\n",
       "      <td>16884.92400</td>\n",
       "      <td>1</td>\n",
       "      <td>0</td>\n",
       "      <td>0</td>\n",
       "      <td>0</td>\n",
       "      <td>0</td>\n",
       "      <td>0</td>\n",
       "      <td>1</td>\n",
       "      <td>1</td>\n",
       "      <td>0</td>\n",
       "    </tr>\n",
       "    <tr>\n",
       "      <th>1</th>\n",
       "      <td>33.770</td>\n",
       "      <td>1725.55230</td>\n",
       "      <td>1</td>\n",
       "      <td>0</td>\n",
       "      <td>0</td>\n",
       "      <td>0</td>\n",
       "      <td>0</td>\n",
       "      <td>1</td>\n",
       "      <td>0</td>\n",
       "      <td>0</td>\n",
       "      <td>1</td>\n",
       "    </tr>\n",
       "    <tr>\n",
       "      <th>2</th>\n",
       "      <td>33.000</td>\n",
       "      <td>4449.46200</td>\n",
       "      <td>0</td>\n",
       "      <td>1</td>\n",
       "      <td>0</td>\n",
       "      <td>0</td>\n",
       "      <td>0</td>\n",
       "      <td>1</td>\n",
       "      <td>0</td>\n",
       "      <td>0</td>\n",
       "      <td>1</td>\n",
       "    </tr>\n",
       "    <tr>\n",
       "      <th>3</th>\n",
       "      <td>22.705</td>\n",
       "      <td>21984.47061</td>\n",
       "      <td>0</td>\n",
       "      <td>1</td>\n",
       "      <td>0</td>\n",
       "      <td>0</td>\n",
       "      <td>0</td>\n",
       "      <td>1</td>\n",
       "      <td>0</td>\n",
       "      <td>0</td>\n",
       "      <td>1</td>\n",
       "    </tr>\n",
       "    <tr>\n",
       "      <th>4</th>\n",
       "      <td>28.880</td>\n",
       "      <td>3866.85520</td>\n",
       "      <td>0</td>\n",
       "      <td>1</td>\n",
       "      <td>0</td>\n",
       "      <td>0</td>\n",
       "      <td>0</td>\n",
       "      <td>1</td>\n",
       "      <td>0</td>\n",
       "      <td>0</td>\n",
       "      <td>1</td>\n",
       "    </tr>\n",
       "  </tbody>\n",
       "</table>\n",
       "</div>"
      ],
      "text/plain": [
       "      bmi      charges  14<Age<25  24<Age<35  34<Age<45  44<Age<55  54<Age<65  \\\n",
       "0  27.900  16884.92400          1          0          0          0          0   \n",
       "1  33.770   1725.55230          1          0          0          0          0   \n",
       "2  33.000   4449.46200          0          1          0          0          0   \n",
       "3  22.705  21984.47061          0          1          0          0          0   \n",
       "4  28.880   3866.85520          0          1          0          0          0   \n",
       "\n",
       "   Male  Female  Smoker  Non-Smoker  \n",
       "0     0       1       1           0  \n",
       "1     1       0       0           1  \n",
       "2     1       0       0           1  \n",
       "3     1       0       0           1  \n",
       "4     1       0       0           1  "
      ]
     },
     "execution_count": 4,
     "metadata": {},
     "output_type": "execute_result"
    }
   ],
   "source": [
    "df[\"14<Age<25\"] = df[\"age\"].apply(lambda x: 1 if 14<x<25 else 0)\n",
    "df[\"24<Age<35\"] = df[\"age\"].apply(lambda x: 1 if 24<x<35 else 0)\n",
    "df[\"34<Age<45\"] = df[\"age\"].apply(lambda x: 1 if 34<x<45 else 0)\n",
    "df[\"44<Age<55\"] = df[\"age\"].apply(lambda x: 1 if 44<x<55 else 0)\n",
    "df[\"54<Age<65\"] = df[\"age\"].apply(lambda x: 1 if 54<x<65 else 0)\n",
    "df.drop(columns=[\"age\"], inplace=True)\n",
    "\n",
    "df[\"Male\"] = df[\"sex\"].apply(lambda x: 1 if x==\"male\" else 0)\n",
    "df[\"Female\"] = df[\"sex\"].apply(lambda x: 1 if x==\"female\" else 0)\n",
    "df.drop(columns=[\"sex\"], inplace=True)\n",
    "\n",
    "df[\"Smoker\"] = df[\"smoker\"].apply(lambda x: 1 if x==\"yes\" else 0)\n",
    "df[\"Non-Smoker\"] = df[\"smoker\"].apply(lambda x: 1 if x==\"no\" else 0)\n",
    "df.drop(columns=[\"smoker\"], inplace=True)\n",
    "\n",
    "df.drop(columns=[\"children\", \"region\"], inplace=True)\n",
    "\n",
    "df.head()"
   ]
  },
  {
   "cell_type": "markdown",
   "metadata": {},
   "source": [
    "The intuition behind making columns for age groups is that the cost of a medical procedure does not depend on the age of a person. However, young and old people have weaker bodies, which can increase the complexity of procedures. Hence, it is assumed that people in different age groups can have different levels of dependence of medical charges on age."
   ]
  },
  {
   "cell_type": "code",
   "execution_count": 5,
   "metadata": {},
   "outputs": [
    {
     "data": {
      "text/plain": [
       "((1072, 11), (266, 11))"
      ]
     },
     "execution_count": 5,
     "metadata": {},
     "output_type": "execute_result"
    }
   ],
   "source": [
    "mask = np.random.uniform(0, 1, len(df)) < 0.8\n",
    "train_df = df[mask]\n",
    "test_df = df[~mask]\n",
    "\n",
    "train_df.shape, test_df.shape"
   ]
  },
  {
   "cell_type": "code",
   "execution_count": 6,
   "metadata": {},
   "outputs": [
    {
     "data": {
      "text/plain": [
       "((1072, 10), (1072,))"
      ]
     },
     "execution_count": 6,
     "metadata": {},
     "output_type": "execute_result"
    }
   ],
   "source": [
    "x_train, y_train = train_df[train_df.columns.difference([\"charges\"])], train_df.charges\n",
    "x_train.shape, y_train.shape"
   ]
  },
  {
   "cell_type": "code",
   "execution_count": 7,
   "metadata": {},
   "outputs": [
    {
     "name": "stdout",
     "output_type": "stream",
     "text": [
      "                            OLS Regression Results                            \n",
      "==============================================================================\n",
      "Dep. Variable:                charges   R-squared:                       0.745\n",
      "Model:                            OLS   Adj. R-squared:                  0.743\n",
      "Method:                 Least Squares   F-statistic:                     443.8\n",
      "Date:                Tue, 06 Oct 2020   Prob (F-statistic):          2.23e-310\n",
      "Time:                        03:22:16   Log-Likelihood:                -10879.\n",
      "No. Observations:                1072   AIC:                         2.177e+04\n",
      "Df Residuals:                    1064   BIC:                         2.181e+04\n",
      "Df Model:                           7                                         \n",
      "Covariance Type:            nonrobust                                         \n",
      "==============================================================================\n",
      "                 coef    std err          t      P>|t|      [0.025      0.975]\n",
      "------------------------------------------------------------------------------\n",
      "const       4957.3065    453.355     10.935      0.000    4067.736    5846.877\n",
      "14<Age<25  -3399.9175    378.402     -8.985      0.000   -4142.417   -2657.418\n",
      "24<Age<35  -1914.1233    387.518     -4.939      0.000   -2674.510   -1153.737\n",
      "34<Age<45     82.5785    392.286      0.211      0.833    -687.163     852.320\n",
      "44<Age<55   3514.2132    381.756      9.205      0.000    2765.133    4263.293\n",
      "54<Age<65   6674.5557    417.525     15.986      0.000    5855.290    7493.822\n",
      "Female      2599.3312    290.667      8.943      0.000    2028.985    3169.677\n",
      "Male        2357.9753    301.634      7.817      0.000    1766.111    2949.840\n",
      "Non-Smoker -9606.3572    301.878    -31.822      0.000   -1.02e+04   -9014.014\n",
      "Smoker      1.456e+04    349.376     41.685      0.000    1.39e+04    1.52e+04\n",
      "bmi          314.6797     31.587      9.962      0.000     252.700     376.660\n",
      "==============================================================================\n",
      "Omnibus:                      226.805   Durbin-Watson:                   2.109\n",
      "Prob(Omnibus):                  0.000   Jarque-Bera (JB):              501.635\n",
      "Skew:                           1.168   Prob(JB):                    1.18e-109\n",
      "Kurtosis:                       5.404   Cond. No.                     6.75e+16\n",
      "==============================================================================\n",
      "\n",
      "Notes:\n",
      "[1] Standard Errors assume that the covariance matrix of the errors is correctly specified.\n",
      "[2] The smallest eigenvalue is 2.3e-28. This might indicate that there are\n",
      "strong multicollinearity problems or that the design matrix is singular.\n"
     ]
    }
   ],
   "source": [
    "linear_model = sm.OLS(y_train, sm.tools.tools.add_constant(x_train))\n",
    "result = linear_model.fit()\n",
    "print(result.summary())"
   ]
  },
  {
   "cell_type": "code",
   "execution_count": 8,
   "metadata": {},
   "outputs": [
    {
     "data": {
      "text/plain": [
       "((266, 10), (266,))"
      ]
     },
     "execution_count": 8,
     "metadata": {},
     "output_type": "execute_result"
    }
   ],
   "source": [
    "x_test, y_test = test_df[test_df.columns.difference([\"charges\"])], test_df.charges\n",
    "x_test.shape, y_test.shape"
   ]
  },
  {
   "cell_type": "code",
   "execution_count": 9,
   "metadata": {},
   "outputs": [
    {
     "data": {
      "text/plain": [
       "3        2939.603968\n",
       "7        6762.073990\n",
       "18      17065.072406\n",
       "24       6610.401783\n",
       "25      13347.757663\n",
       "            ...     \n",
       "1308    29709.505133\n",
       "1324     3956.019409\n",
       "1325    14936.264214\n",
       "1335     6146.310127\n",
       "1337    37942.596130\n",
       "Length: 266, dtype: float64"
      ]
     },
     "execution_count": 9,
     "metadata": {},
     "output_type": "execute_result"
    }
   ],
   "source": [
    "predictions = result.predict(sm.tools.tools.add_constant(x_test))\n",
    "predictions"
   ]
  },
  {
   "cell_type": "markdown",
   "metadata": {},
   "source": [
    "## Error Metrics\n",
    "\n",
    "### Mean Absolute Error \n",
    "Mean Absolute Error (MAE) is defined as the average difference between the true values (y) and predicted values ($\\hat{y}$). It summarizes performance in a way that disregards the direction of over- or under- prediction. It is a negatively oriented score, i.e., lower the value, better is the performance of the model.\n",
    "\n",
    "### Root Mean Squared Error\n",
    "Root Mean Squared Error (RMSE) is defined as the square root of the average of squared distance between the true values (y) and predicted values ($\\hat{y}$). Like MAE, it summarizes performance in a way that disregards the direction of over- or under- prediction. RMSE is more sensitive to outliers than MAE, i.e., RMSE is more affected by predictions which drastically vary from the true values. RMSE increases with the variance of the frequency distribution of error magnitudes. Again, like MAE, it is a negatively oriented score. RMSE can be a better score for evaluating the model if large errors are particularly undesirable.\n",
    "\n",
    "### R2 Score\n",
    "The coefficient of determination, denoted as $R^2$, and pronounced as \"R squared\", is the fraction of variance in the dependent variable that is explained by the independent variables (regressors). It measures how well the model replicates the observed values, based on the proportion of total variation explained by the model. It is calculated as <br>\n",
    "\\begin{equation*} R^2 = 1-\\frac{\\sum_{i} (y_i-\\hat {y})^2}{\\sum_{i} (y_i-\\overline {y})^2} \\end{equation*}\n",
    "\n",
    "$R^2$ can vary anywhere in the range $(-\\inf, 1]$. Higher the value of $R^2$, higher is the explainability of the model. "
   ]
  },
  {
   "cell_type": "code",
   "execution_count": 10,
   "metadata": {},
   "outputs": [
    {
     "name": "stdout",
     "output_type": "stream",
     "text": [
      "\u001b[1m\u001b[4mLINEAR REGRESSION\u001b[0m\n",
      "\n",
      "Mean Absolute Error = 3934.719\n",
      "Root Mean Squared Error = 5851.1203\n",
      "R2 Score = 0.7432\n"
     ]
    }
   ],
   "source": [
    "print(\"\\033[1m\" + \"\\033[4m\" + \"LINEAR REGRESSION\" + \"\\033[0m\" + \"\\n\")\n",
    "print(\"Mean Absolute Error =\", round(mean_absolute_error(y_test, predictions), 4))\n",
    "print(\"Root Mean Squared Error =\", round(mean_squared_error(y_test, predictions, squared=False), 4))\n",
    "print(\"R2 Score =\", round(r2_score(y_test, predictions), 4))"
   ]
  },
  {
   "cell_type": "code",
   "execution_count": 11,
   "metadata": {},
   "outputs": [
    {
     "data": {
      "image/png": "[encoded data removed]",
      "text/plain": [
       "<Figure size 1008x1008 with 2 Axes>"
      ]
     },
     "metadata": {
      "needs_background": "light"
     },
     "output_type": "display_data"
    }
   ],
   "source": [
    "fontdict = {\"family\":\"serif\", \"color\":\"darkred\", \"weight\":\"normal\", \"size\":16}\n",
    "x = np.linspace(-25000,25000,100000)\n",
    "plt.figure(figsize=(14,14))\n",
    "\n",
    "errors = y_test-predictions\n",
    "ax = plt.subplot(211)\n",
    "plot = sns.distplot(errors, color=\"green\", label=\"True Distribution\")\n",
    "ax.plot(x, stats.norm.pdf(x, np.mean(errors), np.std(errors)), linewidth=3, color=\"black\", label=\"Normal Curve Approximation\")\n",
    "plot.set_title(\"Error Distribution\", fontdict=fontdict, pad=12)\n",
    "plot.set_xlabel(\"Error\", fontdict=fontdict, labelpad=12)\n",
    "plot.set_ylabel(\"Frequency\", fontdict=fontdict, labelpad=12)\n",
    "ax.grid()\n",
    "ax.legend()\n",
    "\n",
    "percentage_error = 1-predictions/y_test\n",
    "ax = plt.subplot(212)\n",
    "plot = sns.distplot(percentage_error, color=\"green\")\n",
    "plot.set_title(\"Percentage Error Distribution\", fontdict=fontdict, pad=12)\n",
    "plot.set_xlabel(\"Percentage Error\", fontdict=fontdict, labelpad=12)\n",
    "plot.set_ylabel(\"Frequency\", fontdict=fontdict, labelpad=12)\n",
    "ax.grid()\n",
    "\n",
    "plt.subplots_adjust(hspace=0.3)"
   ]
  },
  {
   "cell_type": "markdown",
   "metadata": {},
   "source": [
    "### Note\n",
    "In cases where the independent variables suffer from multicolinearity (highly correlated inpdependent variables), even though the least squares estimates are unbiased, they suffer from high variance. This leads to observed value often deviating largely from the true value. The standard errors can be reduced by adding a degree of bias.<br>\n",
    "In linear regression, the prediction errors, $e = y-\\hat{y}$, can be decomposed into two sub components - due to <b>bias</b> in the estimators and due to <b>varaince</b> in them. Assuming the estimators to be unbiased, there are three ways to reduce the varaince in them - Ridge, Lasso and ElasticNet Regularization."
   ]
  },
  {
   "cell_type": "markdown",
   "metadata": {},
   "source": [
    "## Ridge Regularization\n",
    "\n",
    "Ridge regression solves the multicollinearity problem by using a shrinkage parameter, $\\lambda$, to add a term to the loss function.\n",
    "\n",
    "\\begin{equation*} L(D,\\beta) = \\left(Y-\\lvert X\\beta \\rvert^2 \\right) + \\lambda \\lvert \\beta \\rvert_2^2 \\end{equation*}\n",
    "\n",
    "\\begin{equation*} \\hat{\\beta} = \\underset{\\beta \\in R^p}{\\operatorname{argmin}} L(D,\\beta) \\end{equation*}\n",
    "\n",
    "The second term is simply $\\lambda$ times the squared Frobenius Norm of the coefficient vector.\n",
    "\n",
    "The assumptions of this regression is same as least squared regression except normality is not to be assumed."
   ]
  },
  {
   "cell_type": "code",
   "execution_count": 12,
   "metadata": {},
   "outputs": [
    {
     "name": "stdout",
     "output_type": "stream",
     "text": [
      "\u001b[1m\u001b[4mRIDGE REGRESSION\u001b[0m\n",
      "\n",
      "Mean Absolute Error = 3938.5747\n",
      "Root Mean Squared Error = 5848.5457\n",
      "R2 Score = 0.7434\n"
     ]
    }
   ],
   "source": [
    "ridge = Ridge(alpha=1.0)\n",
    "ridge.fit(x_train, y_train)\n",
    "predictions = ridge.predict(x_test)\n",
    "\n",
    "print(\"\\033[1m\" + \"\\033[4m\" + \"RIDGE REGRESSION\" + \"\\033[0m\" + \"\\n\")\n",
    "print(\"Mean Absolute Error =\", round(mean_absolute_error(y_test, predictions), 4))\n",
    "print(\"Root Mean Squared Error =\", round(mean_squared_error(y_test, predictions, squared=False), 4))\n",
    "print(\"R2 Score =\", round(r2_score(y_test, predictions), 4))"
   ]
  },
  {
   "cell_type": "code",
   "execution_count": 13,
   "metadata": {},
   "outputs": [
    {
     "data": {
      "text/html": [
       "<div>\n",
       "<style scoped>\n",
       "    .dataframe tbody tr th:only-of-type {\n",
       "        vertical-align: middle;\n",
       "    }\n",
       "\n",
       "    .dataframe tbody tr th {\n",
       "        vertical-align: top;\n",
       "    }\n",
       "\n",
       "    .dataframe thead th {\n",
       "        text-align: right;\n",
       "    }\n",
       "</style>\n",
       "<table border=\"1\" class=\"dataframe\">\n",
       "  <thead>\n",
       "    <tr style=\"text-align: right;\">\n",
       "      <th></th>\n",
       "      <th>14&lt;Age&lt;25</th>\n",
       "      <th>24&lt;Age&lt;35</th>\n",
       "      <th>34&lt;Age&lt;45</th>\n",
       "      <th>44&lt;Age&lt;55</th>\n",
       "      <th>54&lt;Age&lt;65</th>\n",
       "      <th>Female</th>\n",
       "      <th>Male</th>\n",
       "      <th>Non-Smoker</th>\n",
       "      <th>Smoker</th>\n",
       "      <th>bmi</th>\n",
       "    </tr>\n",
       "  </thead>\n",
       "  <tbody>\n",
       "    <tr>\n",
       "      <th>0</th>\n",
       "      <td>1</td>\n",
       "      <td>0</td>\n",
       "      <td>0</td>\n",
       "      <td>0</td>\n",
       "      <td>0</td>\n",
       "      <td>1</td>\n",
       "      <td>0</td>\n",
       "      <td>0</td>\n",
       "      <td>1</td>\n",
       "      <td>27.90</td>\n",
       "    </tr>\n",
       "    <tr>\n",
       "      <th>1</th>\n",
       "      <td>1</td>\n",
       "      <td>0</td>\n",
       "      <td>0</td>\n",
       "      <td>0</td>\n",
       "      <td>0</td>\n",
       "      <td>0</td>\n",
       "      <td>1</td>\n",
       "      <td>1</td>\n",
       "      <td>0</td>\n",
       "      <td>33.77</td>\n",
       "    </tr>\n",
       "    <tr>\n",
       "      <th>2</th>\n",
       "      <td>0</td>\n",
       "      <td>1</td>\n",
       "      <td>0</td>\n",
       "      <td>0</td>\n",
       "      <td>0</td>\n",
       "      <td>0</td>\n",
       "      <td>1</td>\n",
       "      <td>1</td>\n",
       "      <td>0</td>\n",
       "      <td>33.00</td>\n",
       "    </tr>\n",
       "    <tr>\n",
       "      <th>4</th>\n",
       "      <td>0</td>\n",
       "      <td>1</td>\n",
       "      <td>0</td>\n",
       "      <td>0</td>\n",
       "      <td>0</td>\n",
       "      <td>0</td>\n",
       "      <td>1</td>\n",
       "      <td>1</td>\n",
       "      <td>0</td>\n",
       "      <td>28.88</td>\n",
       "    </tr>\n",
       "    <tr>\n",
       "      <th>5</th>\n",
       "      <td>0</td>\n",
       "      <td>1</td>\n",
       "      <td>0</td>\n",
       "      <td>0</td>\n",
       "      <td>0</td>\n",
       "      <td>1</td>\n",
       "      <td>0</td>\n",
       "      <td>1</td>\n",
       "      <td>0</td>\n",
       "      <td>25.74</td>\n",
       "    </tr>\n",
       "  </tbody>\n",
       "</table>\n",
       "</div>"
      ],
      "text/plain": [
       "   14<Age<25  24<Age<35  34<Age<45  44<Age<55  54<Age<65  Female  Male  \\\n",
       "0          1          0          0          0          0       1     0   \n",
       "1          1          0          0          0          0       0     1   \n",
       "2          0          1          0          0          0       0     1   \n",
       "4          0          1          0          0          0       0     1   \n",
       "5          0          1          0          0          0       1     0   \n",
       "\n",
       "   Non-Smoker  Smoker    bmi  \n",
       "0           0       1  27.90  \n",
       "1           1       0  33.77  \n",
       "2           1       0  33.00  \n",
       "4           1       0  28.88  \n",
       "5           1       0  25.74  "
      ]
     },
     "execution_count": 13,
     "metadata": {},
     "output_type": "execute_result"
    }
   ],
   "source": [
    "x_train.iloc[:5,:]"
   ]
  },
  {
   "cell_type": "code",
   "execution_count": 14,
   "metadata": {},
   "outputs": [
    {
     "name": "stdout",
     "output_type": "stream",
     "text": [
      "[ -4370.54300189  -2891.29432755   -900.54969911   2511.23824815\n",
      "   5651.14878039    118.6664829    -118.6664829  -12049.54818382\n",
      "  12049.54818383    315.07347984] \n",
      "\n",
      "10872.581018635614\n"
     ]
    }
   ],
   "source": [
    "print(ridge.coef_, \"\\n\")\n",
    "print(ridge.intercept_)\n",
    "assert ridge.predict(x_train.iloc[:5,:]).all() == (np.dot(x_train.iloc[:5,:], ridge.coef_) + ridge.intercept_).all()"
   ]
  },
  {
   "cell_type": "markdown",
   "metadata": {},
   "source": [
    "## Lasso Regularization\n",
    "\n",
    "Similar to Ridge Regression, Lasso (Least Absolute Shrinkage and Selection Operator) also penalizes the absolute size of the regression coefficients. In addition, it is capable of reducing the variability and improving the accuracy of linear regression models.\n",
    "\n",
    "\\begin{equation*} L(D,\\beta) = \\lvert Y-X\\beta \\rvert^2 + \\lambda \\lvert \\beta \\rvert_1 \\end{equation*}\n",
    "\n",
    "\\begin{equation*} \\hat{\\beta} = \\underset{\\beta \\in R^p}{\\operatorname{argmin}} L(D,\\beta) \\end{equation*}\n",
    "\n",
    "Lasso regression varies from Ridge regression in the sense that it uses the L1 norm of the coefficient vector, instead of the squared Frobenius norm, in the loss function. The loss function is effective in reducing some of the parameter values to 0. Larger the value of $\\lambda$, more is the reduction effect. This results to feature selection from given variables. \n",
    "\n",
    "The assumptions of this regression is same as least squared regression except normality is not to be assumed.\n",
    "If group of predictors are highly correlated, lasso picks only one of them and shrinks the others to zero."
   ]
  },
  {
   "cell_type": "code",
   "execution_count": 15,
   "metadata": {},
   "outputs": [
    {
     "name": "stdout",
     "output_type": "stream",
     "text": [
      "\u001b[1m\u001b[4mLASSO REGRESSION\u001b[0m\n",
      "\n",
      "Mean Absolute Error = 3934.9744\n",
      "Root Mean Squared Error = 5850.7743\n",
      "R2 Score = 0.7432\n"
     ]
    }
   ],
   "source": [
    "lasso = Lasso(alpha=1.0)\n",
    "lasso.fit(x_train, y_train)\n",
    "predictions = lasso.predict(x_test)\n",
    "\n",
    "print(\"\\033[1m\" + \"\\033[4m\" + \"LASSO REGRESSION\" + \"\\033[0m\" + \"\\n\")\n",
    "print(\"Mean Absolute Error =\", round(mean_absolute_error(y_test, predictions), 4))\n",
    "print(\"Root Mean Squared Error =\", round(mean_squared_error(y_test, predictions, squared=False), 4))\n",
    "print(\"R2 Score =\", round(r2_score(y_test, predictions), 4))"
   ]
  },
  {
   "cell_type": "markdown",
   "metadata": {},
   "source": [
    "## Elastic Net Regularization\n",
    "\n",
    "The elastic net is a regularized regression method that linearly combines the L1 and L2 penalties of the lasso and ridge methods. Elastic net regularization helps in overcoming the various limitations of lasso regularization -\n",
    "1. In the \"large p, small n\" case (high-dimensional data with few examples), the lasso selects at most n variables before it saturates. \n",
    "2. If there is a group of highly correlated variables, then the lasso tends to select one variable from a group and ignore the others. To overcome these limitations, the elastic net adds a quadratic part to the penalty (which when used alone is ridge regression).\n",
    "\n",
    "\\begin{equation*} L(D,\\beta) = \\lvert Y-X\\beta \\rvert^2 + \\lambda_2 \\lvert \\beta \\rvert_2^2 + \\lambda_1 \\lvert \\beta \\rvert_1 \\end{equation*}\n",
    "\n",
    "\\begin{equation*} \\hat{\\beta} = \\underset{\\beta \\in R^p}{\\operatorname{argmin}} L(D,\\beta) \\end{equation*}\n",
    "\n",
    "The quadratic penalty term makes the loss function strongly convex, and it therefore has a unique minimum. \n",
    "\n",
    "Elastic-net is useful when there are multiple features which are correlated. Lasso is likely to pick one of these at random, while elastic-net is likely to pick both. It encourages group effect in case of highly correlated variables. However, the naive version of elastic net method finds an estimator in a two-stage procedure: first for each fixed $\\lambda_2$ it finds the ridge regression coefficients, and then does a lasso type shrinkage. This kind of estimation incurs a double amount of shrinkage, which leads to increased bias and poor predictions. To improve the predictions performance, the parameters are rescaled by a factor of $(1+\\lambda_2)$."
   ]
  },
  {
   "cell_type": "code",
   "execution_count": 16,
   "metadata": {},
   "outputs": [
    {
     "name": "stdout",
     "output_type": "stream",
     "text": [
      "\u001b[1m\u001b[4mELASTIC NET REGRESSION\u001b[0m\n",
      "\n",
      "Mean Absolute Error = 6122.9531\n",
      "Root Mean Squared Error = 8295.994\n",
      "R2 Score = 0.4838\n"
     ]
    }
   ],
   "source": [
    "en = ElasticNet(alpha=1.0)\n",
    "en.fit(x_train, y_train)\n",
    "predictions = en.predict(x_test)\n",
    "\n",
    "print(\"\\033[1m\" + \"\\033[4m\" + \"ELASTIC NET REGRESSION\" + \"\\033[0m\" + \"\\n\")\n",
    "print(\"Mean Absolute Error =\", round(mean_absolute_error(y_test, predictions), 4))\n",
    "print(\"Root Mean Squared Error =\", round(mean_squared_error(y_test, predictions, squared=False), 4))\n",
    "print(\"R2 Score =\", round(r2_score(y_test, predictions), 4))"
   ]
  },
  {
   "cell_type": "markdown",
   "metadata": {},
   "source": [
    "# POLYNOMIAL REGRESSION"
   ]
  },
  {
   "cell_type": "markdown",
   "metadata": {},
   "source": [
    "In statistics, polynomial regression is a form of regression analysis in which the relationship test between the independent variable <b>x</b> and the dependent variable <b>y</b> is modelled as an nth degree polynomial in <b>x</b>. \n",
    "\n",
    "\\begin{equation*} \\hat{y} = \\beta_0 + (\\beta_{11}x_1^1 + \\beta_{12}x_1^2 + ... + \\beta_{1n}x_1^n) + (\\beta_{21}x_2^1 + \\beta_{22}x_2^2 + ... + \\beta_{2n}x_2^n) + ... + (\\beta_{m1}x_m^1 + \\beta_{m2}x_m^2 + ... + \\beta_{mn}x_m^n) \\end{equation*}\n",
    "\n",
    "\\begin{equation*} \\hat{y} = \\beta_0 + \\sum_{i=1}^m \\sum_{j=1}^n \\beta_{ij} x_i^j \\end{equation*}\n",
    "\n",
    "Polynomial regression fits a nonlinear relationship between the value of <b>x</b> and the corresponding conditional mean of <b>y</b>, denoted $E(y|x)$. Although polynomial regression fits a nonlinear model to the data, <b>as a statistical estimation problem it is linear</b>, in the sense that the regression function $E(y|x)$ is <b>linear in the unknown parameters</b> that are estimated from the data. For this reason, polynomial regression is considered to be a special case of multiple linear regression.\n",
    "\n",
    "Predicting a nonlinear model in the input features is the same as predicting a linear model in the transformed input features -\n",
    "\n",
    "\\begin{equation*} x' = (x_1^1, x_1^2, ..., x_1^n, x_2^1, x_2^2, ..., x_2^n, ..., x_m^1, x_m^2, ..., x_m^n) \\end{equation*}"
   ]
  },
  {
   "cell_type": "code",
   "execution_count": 17,
   "metadata": {
    "scrolled": true
   },
   "outputs": [
    {
     "data": {
      "text/html": [
       "<div>\n",
       "<style scoped>\n",
       "    .dataframe tbody tr th:only-of-type {\n",
       "        vertical-align: middle;\n",
       "    }\n",
       "\n",
       "    .dataframe tbody tr th {\n",
       "        vertical-align: top;\n",
       "    }\n",
       "\n",
       "    .dataframe thead th {\n",
       "        text-align: right;\n",
       "    }\n",
       "</style>\n",
       "<table border=\"1\" class=\"dataframe\">\n",
       "  <thead>\n",
       "    <tr style=\"text-align: right;\">\n",
       "      <th></th>\n",
       "      <th>fixed acidity</th>\n",
       "      <th>volatile acidity</th>\n",
       "      <th>citric acid</th>\n",
       "      <th>residual sugar</th>\n",
       "      <th>chlorides</th>\n",
       "      <th>free sulfur dioxide</th>\n",
       "      <th>total sulfur dioxide</th>\n",
       "      <th>density</th>\n",
       "      <th>pH</th>\n",
       "      <th>sulphates</th>\n",
       "      <th>alcohol</th>\n",
       "      <th>quality</th>\n",
       "    </tr>\n",
       "  </thead>\n",
       "  <tbody>\n",
       "    <tr>\n",
       "      <th>0</th>\n",
       "      <td>7.4</td>\n",
       "      <td>0.70</td>\n",
       "      <td>0.00</td>\n",
       "      <td>1.9</td>\n",
       "      <td>0.076</td>\n",
       "      <td>11.0</td>\n",
       "      <td>34.0</td>\n",
       "      <td>0.9978</td>\n",
       "      <td>3.51</td>\n",
       "      <td>0.56</td>\n",
       "      <td>9.4</td>\n",
       "      <td>5</td>\n",
       "    </tr>\n",
       "    <tr>\n",
       "      <th>1</th>\n",
       "      <td>7.8</td>\n",
       "      <td>0.88</td>\n",
       "      <td>0.00</td>\n",
       "      <td>2.6</td>\n",
       "      <td>0.098</td>\n",
       "      <td>25.0</td>\n",
       "      <td>67.0</td>\n",
       "      <td>0.9968</td>\n",
       "      <td>3.20</td>\n",
       "      <td>0.68</td>\n",
       "      <td>9.8</td>\n",
       "      <td>5</td>\n",
       "    </tr>\n",
       "    <tr>\n",
       "      <th>2</th>\n",
       "      <td>7.8</td>\n",
       "      <td>0.76</td>\n",
       "      <td>0.04</td>\n",
       "      <td>2.3</td>\n",
       "      <td>0.092</td>\n",
       "      <td>15.0</td>\n",
       "      <td>54.0</td>\n",
       "      <td>0.9970</td>\n",
       "      <td>3.26</td>\n",
       "      <td>0.65</td>\n",
       "      <td>9.8</td>\n",
       "      <td>5</td>\n",
       "    </tr>\n",
       "    <tr>\n",
       "      <th>3</th>\n",
       "      <td>11.2</td>\n",
       "      <td>0.28</td>\n",
       "      <td>0.56</td>\n",
       "      <td>1.9</td>\n",
       "      <td>0.075</td>\n",
       "      <td>17.0</td>\n",
       "      <td>60.0</td>\n",
       "      <td>0.9980</td>\n",
       "      <td>3.16</td>\n",
       "      <td>0.58</td>\n",
       "      <td>9.8</td>\n",
       "      <td>6</td>\n",
       "    </tr>\n",
       "    <tr>\n",
       "      <th>4</th>\n",
       "      <td>7.4</td>\n",
       "      <td>0.70</td>\n",
       "      <td>0.00</td>\n",
       "      <td>1.9</td>\n",
       "      <td>0.076</td>\n",
       "      <td>11.0</td>\n",
       "      <td>34.0</td>\n",
       "      <td>0.9978</td>\n",
       "      <td>3.51</td>\n",
       "      <td>0.56</td>\n",
       "      <td>9.4</td>\n",
       "      <td>5</td>\n",
       "    </tr>\n",
       "  </tbody>\n",
       "</table>\n",
       "</div>"
      ],
      "text/plain": [
       "   fixed acidity  volatile acidity  citric acid  residual sugar  chlorides  \\\n",
       "0            7.4              0.70         0.00             1.9      0.076   \n",
       "1            7.8              0.88         0.00             2.6      0.098   \n",
       "2            7.8              0.76         0.04             2.3      0.092   \n",
       "3           11.2              0.28         0.56             1.9      0.075   \n",
       "4            7.4              0.70         0.00             1.9      0.076   \n",
       "\n",
       "   free sulfur dioxide  total sulfur dioxide  density    pH  sulphates  \\\n",
       "0                 11.0                  34.0   0.9978  3.51       0.56   \n",
       "1                 25.0                  67.0   0.9968  3.20       0.68   \n",
       "2                 15.0                  54.0   0.9970  3.26       0.65   \n",
       "3                 17.0                  60.0   0.9980  3.16       0.58   \n",
       "4                 11.0                  34.0   0.9978  3.51       0.56   \n",
       "\n",
       "   alcohol  quality  \n",
       "0      9.4        5  \n",
       "1      9.8        5  \n",
       "2      9.8        5  \n",
       "3      9.8        6  \n",
       "4      9.4        5  "
      ]
     },
     "execution_count": 17,
     "metadata": {},
     "output_type": "execute_result"
    }
   ],
   "source": [
    "df = pd.read_csv(\"./data/winequality-red.csv\")\r\n",
    "df.head()"
   ]
  },
  {
   "cell_type": "markdown",
   "metadata": {},
   "source": [
    "Since quality is a categorical varaible, we will predict the ph value using other variables."
   ]
  },
  {
   "cell_type": "code",
   "execution_count": 18,
   "metadata": {
    "scrolled": true
   },
   "outputs": [
    {
     "data": {
      "text/html": [
       "<div>\n",
       "<style scoped>\n",
       "    .dataframe tbody tr th:only-of-type {\n",
       "        vertical-align: middle;\n",
       "    }\n",
       "\n",
       "    .dataframe tbody tr th {\n",
       "        vertical-align: top;\n",
       "    }\n",
       "\n",
       "    .dataframe thead th {\n",
       "        text-align: right;\n",
       "    }\n",
       "</style>\n",
       "<table border=\"1\" class=\"dataframe\">\n",
       "  <thead>\n",
       "    <tr style=\"text-align: right;\">\n",
       "      <th></th>\n",
       "      <th>alcohol</th>\n",
       "      <th>chlorides</th>\n",
       "      <th>citric acid</th>\n",
       "      <th>density</th>\n",
       "      <th>fixed acidity</th>\n",
       "      <th>free sulfur dioxide</th>\n",
       "      <th>residual sugar</th>\n",
       "      <th>sulphates</th>\n",
       "      <th>total sulfur dioxide</th>\n",
       "      <th>volatile acidity</th>\n",
       "    </tr>\n",
       "  </thead>\n",
       "  <tbody>\n",
       "    <tr>\n",
       "      <th>0</th>\n",
       "      <td>9.4</td>\n",
       "      <td>0.076</td>\n",
       "      <td>0.00</td>\n",
       "      <td>0.9978</td>\n",
       "      <td>7.4</td>\n",
       "      <td>11.0</td>\n",
       "      <td>1.9</td>\n",
       "      <td>0.56</td>\n",
       "      <td>34.0</td>\n",
       "      <td>0.70</td>\n",
       "    </tr>\n",
       "    <tr>\n",
       "      <th>1</th>\n",
       "      <td>9.8</td>\n",
       "      <td>0.098</td>\n",
       "      <td>0.00</td>\n",
       "      <td>0.9968</td>\n",
       "      <td>7.8</td>\n",
       "      <td>25.0</td>\n",
       "      <td>2.6</td>\n",
       "      <td>0.68</td>\n",
       "      <td>67.0</td>\n",
       "      <td>0.88</td>\n",
       "    </tr>\n",
       "    <tr>\n",
       "      <th>2</th>\n",
       "      <td>9.8</td>\n",
       "      <td>0.092</td>\n",
       "      <td>0.04</td>\n",
       "      <td>0.9970</td>\n",
       "      <td>7.8</td>\n",
       "      <td>15.0</td>\n",
       "      <td>2.3</td>\n",
       "      <td>0.65</td>\n",
       "      <td>54.0</td>\n",
       "      <td>0.76</td>\n",
       "    </tr>\n",
       "    <tr>\n",
       "      <th>3</th>\n",
       "      <td>9.8</td>\n",
       "      <td>0.075</td>\n",
       "      <td>0.56</td>\n",
       "      <td>0.9980</td>\n",
       "      <td>11.2</td>\n",
       "      <td>17.0</td>\n",
       "      <td>1.9</td>\n",
       "      <td>0.58</td>\n",
       "      <td>60.0</td>\n",
       "      <td>0.28</td>\n",
       "    </tr>\n",
       "    <tr>\n",
       "      <th>4</th>\n",
       "      <td>9.4</td>\n",
       "      <td>0.076</td>\n",
       "      <td>0.00</td>\n",
       "      <td>0.9978</td>\n",
       "      <td>7.4</td>\n",
       "      <td>11.0</td>\n",
       "      <td>1.9</td>\n",
       "      <td>0.56</td>\n",
       "      <td>34.0</td>\n",
       "      <td>0.70</td>\n",
       "    </tr>\n",
       "  </tbody>\n",
       "</table>\n",
       "</div>"
      ],
      "text/plain": [
       "   alcohol  chlorides  citric acid  density  fixed acidity  \\\n",
       "0      9.4      0.076         0.00   0.9978            7.4   \n",
       "1      9.8      0.098         0.00   0.9968            7.8   \n",
       "2      9.8      0.092         0.04   0.9970            7.8   \n",
       "3      9.8      0.075         0.56   0.9980           11.2   \n",
       "4      9.4      0.076         0.00   0.9978            7.4   \n",
       "\n",
       "   free sulfur dioxide  residual sugar  sulphates  total sulfur dioxide  \\\n",
       "0                 11.0             1.9       0.56                  34.0   \n",
       "1                 25.0             2.6       0.68                  67.0   \n",
       "2                 15.0             2.3       0.65                  54.0   \n",
       "3                 17.0             1.9       0.58                  60.0   \n",
       "4                 11.0             1.9       0.56                  34.0   \n",
       "\n",
       "   volatile acidity  \n",
       "0              0.70  \n",
       "1              0.88  \n",
       "2              0.76  \n",
       "3              0.28  \n",
       "4              0.70  "
      ]
     },
     "execution_count": 18,
     "metadata": {},
     "output_type": "execute_result"
    }
   ],
   "source": [
    "df.drop([\"quality\"], axis=1, inplace=True)\n",
    "x_df, y_df = df[df.columns.difference([\"pH\"])], df[[\"pH\"]]\n",
    "x_values, y_values = x_df.values, y_df.values\n",
    "x_df.head()"
   ]
  },
  {
   "cell_type": "code",
   "execution_count": 19,
   "metadata": {},
   "outputs": [
    {
     "data": {
      "text/plain": [
       "((1279, 10), (320, 10))"
      ]
     },
     "execution_count": 19,
     "metadata": {},
     "output_type": "execute_result"
    }
   ],
   "source": [
    "x_train, x_test, y_train, y_test = train_test_split(x_values, y_values, test_size=0.2)\n",
    "x_train.shape, x_test.shape"
   ]
  },
  {
   "cell_type": "code",
   "execution_count": 20,
   "metadata": {},
   "outputs": [
    {
     "name": "stdout",
     "output_type": "stream",
     "text": [
      "\u001b[1m\u001b[4mLINEAR REGRESSION (DEGREE=1)\u001b[0m\n",
      "\n",
      "Mean Absolute Error = 0.0661\n",
      "Root Mean Squared Error = 0.0846\n",
      "R2 Score = 0.6812\n"
     ]
    }
   ],
   "source": [
    "lr_model = LinearRegression()\n",
    "lr_model.fit(x_train, y_train)\n",
    "predictions = lr_model.predict(x_test)\n",
    "\n",
    "print(\"\\033[1m\" + \"\\033[4m\" + \"LINEAR REGRESSION (DEGREE=1)\" + \"\\033[0m\" + \"\\n\")\n",
    "print(\"Mean Absolute Error =\", round(mean_absolute_error(y_test, predictions), 4))\n",
    "print(\"Root Mean Squared Error =\", round(mean_squared_error(y_test, predictions, squared=False), 4))\n",
    "print(\"R2 Score =\", round(r2_score(y_test, predictions), 4))"
   ]
  },
  {
   "cell_type": "code",
   "execution_count": 21,
   "metadata": {},
   "outputs": [
    {
     "name": "stdout",
     "output_type": "stream",
     "text": [
      "\u001b[1m\u001b[4mPOLYNOMIAL REGRESSION, DEGREE=2\u001b[0m\n",
      "\n",
      "Mean Absolute Error = 0.0611\n",
      "Root Mean Squared Error = 0.0765\n",
      "R2 Score = 0.7388\n"
     ]
    }
   ],
   "source": [
    "polynomial_features_object = PolynomialFeatures(degree=2)\n",
    "x_train_transform_2 = polynomial_features_object.fit_transform(x_train)\n",
    "x_test_transform_2 = polynomial_features_object.fit_transform(x_test)\n",
    "\n",
    "lr_model = LinearRegression()\n",
    "lr_model.fit(x_train_transform_2, y_train)\n",
    "predictions_poly_2 = lr_model.predict(x_test_transform_2)\n",
    "\n",
    "print(\"\\033[1m\" + \"\\033[4m\" + \"POLYNOMIAL REGRESSION, DEGREE=2\" + \"\\033[0m\" + \"\\n\")\n",
    "print(\"Mean Absolute Error =\", round(mean_absolute_error(y_test, predictions_poly_2), 4))\n",
    "print(\"Root Mean Squared Error =\", round(mean_squared_error(y_test, predictions_poly_2, squared=False), 4))\n",
    "print(\"R2 Score =\", round(r2_score(y_test, predictions_poly_2), 4))"
   ]
  },
  {
   "cell_type": "code",
   "execution_count": 22,
   "metadata": {},
   "outputs": [
    {
     "name": "stdout",
     "output_type": "stream",
     "text": [
      "\u001b[1m\u001b[4mPOLYNOMIAL REGRESSION, DEGREE=3\u001b[0m\n",
      "\n",
      "Mean Absolute Error = 0.0657\n",
      "Root Mean Squared Error = 0.092\n",
      "R2 Score = 0.6227\n"
     ]
    }
   ],
   "source": [
    "polynomial_features_object = PolynomialFeatures(degree=3)\n",
    "x_train_transform_3 = polynomial_features_object.fit_transform(x_train)\n",
    "x_test_transform_3 = polynomial_features_object.fit_transform(x_test)\n",
    "\n",
    "lr_model = LinearRegression()\n",
    "lr_model.fit(x_train_transform_3, y_train)\n",
    "predictions_poly_3 = lr_model.predict(x_test_transform_3)\n",
    "\n",
    "print(\"\\033[1m\" + \"\\033[4m\" + \"POLYNOMIAL REGRESSION, DEGREE=3\" + \"\\033[0m\" + \"\\n\")\n",
    "print(\"Mean Absolute Error =\", round(mean_absolute_error(y_test, predictions_poly_3), 4))\n",
    "print(\"Root Mean Squared Error =\", round(mean_squared_error(y_test, predictions_poly_3, squared=False), 4))\n",
    "print(\"R2 Score =\", round(r2_score(y_test, predictions_poly_3), 4))"
   ]
  },
  {
   "cell_type": "markdown",
   "metadata": {},
   "source": [
    "# LOGISTIC REGRESSION"
   ]
  },
  {
   "cell_type": "markdown",
   "metadata": {},
   "source": [
    "Logistic regression (or logit) is a statistical model used for a binary classification task - pass/fail, 0/1, etc. The model uses regression techniques to predict the probability of the two class labels for the dependent variables, such that the probabilities sum to 1. Often, a composition of the sigmoid function and a linear combination of the independent variables is used to predict the class probabilities.\n",
    "\n",
    "<b>Where does the sigmoid function come from?</b><br>\n",
    "The model assumes a linear relation between the independent variables and the log odds of the event that $Y=1$. That is, if $p$ is the probability, P(Y=1), then\n",
    "\n",
    "\\begin{equation*} \\log_b\\left(\\frac{p}{1-p}\\right) = \\beta X \\end{equation*}\n",
    "\n",
    "In most cases, the value of the base of the algorithm, $b$, is taken to be $e$. However, in some scenarios, a differet choice of the base, like 2 or 10, can help better communicate results. <br>The above equation gives\n",
    "\\begin{equation*} p = \\frac{1}{1+b^{-\\beta X}} \\end{equation*}\n",
    "\n",
    "Which, for $b=e$ is the sigmoid function.\n",
    "\n",
    "Since the sigmoid function is continuous between 0 and 1, but our response varaible is a categorical variable, we need to set a threshhold cut-off, like 0.5. All outputs from the sigmoid which have value above threshhold are classified as 1, while others, 0."
   ]
  },
  {
   "cell_type": "code",
   "execution_count": 23,
   "metadata": {
    "scrolled": true
   },
   "outputs": [
    {
     "data": {
      "text/html": [
       "<div>\n",
       "<style scoped>\n",
       "    .dataframe tbody tr th:only-of-type {\n",
       "        vertical-align: middle;\n",
       "    }\n",
       "\n",
       "    .dataframe tbody tr th {\n",
       "        vertical-align: top;\n",
       "    }\n",
       "\n",
       "    .dataframe thead th {\n",
       "        text-align: right;\n",
       "    }\n",
       "</style>\n",
       "<table border=\"1\" class=\"dataframe\">\n",
       "  <thead>\n",
       "    <tr style=\"text-align: right;\">\n",
       "      <th></th>\n",
       "      <th>chocolate</th>\n",
       "      <th>fruity</th>\n",
       "      <th>caramel</th>\n",
       "      <th>peanutyalmondy</th>\n",
       "      <th>nougat</th>\n",
       "      <th>crispedricewafer</th>\n",
       "      <th>hard</th>\n",
       "      <th>bar</th>\n",
       "      <th>pluribus</th>\n",
       "      <th>sugarpercent</th>\n",
       "      <th>pricepercent</th>\n",
       "      <th>winpercent</th>\n",
       "    </tr>\n",
       "    <tr>\n",
       "      <th>competitorname</th>\n",
       "      <th></th>\n",
       "      <th></th>\n",
       "      <th></th>\n",
       "      <th></th>\n",
       "      <th></th>\n",
       "      <th></th>\n",
       "      <th></th>\n",
       "      <th></th>\n",
       "      <th></th>\n",
       "      <th></th>\n",
       "      <th></th>\n",
       "      <th></th>\n",
       "    </tr>\n",
       "  </thead>\n",
       "  <tbody>\n",
       "    <tr>\n",
       "      <th>100 Grand</th>\n",
       "      <td>1</td>\n",
       "      <td>0</td>\n",
       "      <td>1</td>\n",
       "      <td>0</td>\n",
       "      <td>0</td>\n",
       "      <td>1</td>\n",
       "      <td>0</td>\n",
       "      <td>1</td>\n",
       "      <td>0</td>\n",
       "      <td>0.732</td>\n",
       "      <td>0.860</td>\n",
       "      <td>66.971725</td>\n",
       "    </tr>\n",
       "    <tr>\n",
       "      <th>3 Musketeers</th>\n",
       "      <td>1</td>\n",
       "      <td>0</td>\n",
       "      <td>0</td>\n",
       "      <td>0</td>\n",
       "      <td>1</td>\n",
       "      <td>0</td>\n",
       "      <td>0</td>\n",
       "      <td>1</td>\n",
       "      <td>0</td>\n",
       "      <td>0.604</td>\n",
       "      <td>0.511</td>\n",
       "      <td>67.602936</td>\n",
       "    </tr>\n",
       "    <tr>\n",
       "      <th>One dime</th>\n",
       "      <td>0</td>\n",
       "      <td>0</td>\n",
       "      <td>0</td>\n",
       "      <td>0</td>\n",
       "      <td>0</td>\n",
       "      <td>0</td>\n",
       "      <td>0</td>\n",
       "      <td>0</td>\n",
       "      <td>0</td>\n",
       "      <td>0.011</td>\n",
       "      <td>0.116</td>\n",
       "      <td>32.261086</td>\n",
       "    </tr>\n",
       "    <tr>\n",
       "      <th>One quarter</th>\n",
       "      <td>0</td>\n",
       "      <td>0</td>\n",
       "      <td>0</td>\n",
       "      <td>0</td>\n",
       "      <td>0</td>\n",
       "      <td>0</td>\n",
       "      <td>0</td>\n",
       "      <td>0</td>\n",
       "      <td>0</td>\n",
       "      <td>0.011</td>\n",
       "      <td>0.511</td>\n",
       "      <td>46.116505</td>\n",
       "    </tr>\n",
       "    <tr>\n",
       "      <th>Air Heads</th>\n",
       "      <td>0</td>\n",
       "      <td>1</td>\n",
       "      <td>0</td>\n",
       "      <td>0</td>\n",
       "      <td>0</td>\n",
       "      <td>0</td>\n",
       "      <td>0</td>\n",
       "      <td>0</td>\n",
       "      <td>0</td>\n",
       "      <td>0.906</td>\n",
       "      <td>0.511</td>\n",
       "      <td>52.341465</td>\n",
       "    </tr>\n",
       "  </tbody>\n",
       "</table>\n",
       "</div>"
      ],
      "text/plain": [
       "                chocolate  fruity  caramel  peanutyalmondy  nougat  \\\n",
       "competitorname                                                       \n",
       "100 Grand               1       0        1               0       0   \n",
       "3 Musketeers            1       0        0               0       1   \n",
       "One dime                0       0        0               0       0   \n",
       "One quarter             0       0        0               0       0   \n",
       "Air Heads               0       1        0               0       0   \n",
       "\n",
       "                crispedricewafer  hard  bar  pluribus  sugarpercent  \\\n",
       "competitorname                                                        \n",
       "100 Grand                      1     0    1         0         0.732   \n",
       "3 Musketeers                   0     0    1         0         0.604   \n",
       "One dime                       0     0    0         0         0.011   \n",
       "One quarter                    0     0    0         0         0.011   \n",
       "Air Heads                      0     0    0         0         0.906   \n",
       "\n",
       "                pricepercent  winpercent  \n",
       "competitorname                            \n",
       "100 Grand              0.860   66.971725  \n",
       "3 Musketeers           0.511   67.602936  \n",
       "One dime               0.116   32.261086  \n",
       "One quarter            0.511   46.116505  \n",
       "Air Heads              0.511   52.341465  "
      ]
     },
     "execution_count": 23,
     "metadata": {},
     "output_type": "execute_result"
    }
   ],
   "source": [
    "df = pd.read_csv(\"./data/candy-data.csv\", index_col=0)\r\n",
    "df.head()"
   ]
  },
  {
   "cell_type": "markdown",
   "metadata": {},
   "source": [
    "<b>Dataset Columns</b><br><br>\n",
    "chocolate: Does it contain chocolate?<br>\n",
    "fruity: Is it fruit flavored?<br>\n",
    "caramel: Is there caramel in the candy?<br>\n",
    "peanutalmondy: Does it contain peanuts, peanut butter or almonds?<br>\n",
    "nougat: Does it contain nougat?<br>\n",
    "crispedricewafer: Does it contain crisped rice, wafers, or a cookie component?<br>\n",
    "hard: Is it a hard candy?<br>\n",
    "bar: Is it a candy bar?<br>\n",
    "pluribus: Is it one of many candies in a bag or box?<br>\n",
    "sugarpercent: The percentile of sugar it falls under within the data set.<br>\n",
    "pricepercent: The unit price percentile compared to the rest of the set.<br>\n",
    "winpercent: The overall win percentage according to 269,000 matchups."
   ]
  },
  {
   "cell_type": "markdown",
   "metadata": {},
   "source": [
    "<b>We'll try and answer the question of whether an ingredient is present in a candy, given its Sugar Percentage and Win Percentage.</b>"
   ]
  },
  {
   "cell_type": "code",
   "execution_count": 24,
   "metadata": {},
   "outputs": [
    {
     "data": {
      "text/html": [
       "<div>\n",
       "<style scoped>\n",
       "    .dataframe tbody tr th:only-of-type {\n",
       "        vertical-align: middle;\n",
       "    }\n",
       "\n",
       "    .dataframe tbody tr th {\n",
       "        vertical-align: top;\n",
       "    }\n",
       "\n",
       "    .dataframe thead th {\n",
       "        text-align: right;\n",
       "    }\n",
       "</style>\n",
       "<table border=\"1\" class=\"dataframe\">\n",
       "  <thead>\n",
       "    <tr style=\"text-align: right;\">\n",
       "      <th></th>\n",
       "      <th>Chocolate</th>\n",
       "      <th>Fruity</th>\n",
       "      <th>Caramel</th>\n",
       "      <th>Peanut Almondy</th>\n",
       "      <th>Nougat</th>\n",
       "      <th>Crisped Rice Wafer</th>\n",
       "      <th>Hard</th>\n",
       "      <th>Bar</th>\n",
       "      <th>Pluribus</th>\n",
       "      <th>Sugar Percent</th>\n",
       "      <th>Win Percent</th>\n",
       "    </tr>\n",
       "    <tr>\n",
       "      <th>competitorname</th>\n",
       "      <th></th>\n",
       "      <th></th>\n",
       "      <th></th>\n",
       "      <th></th>\n",
       "      <th></th>\n",
       "      <th></th>\n",
       "      <th></th>\n",
       "      <th></th>\n",
       "      <th></th>\n",
       "      <th></th>\n",
       "      <th></th>\n",
       "    </tr>\n",
       "  </thead>\n",
       "  <tbody>\n",
       "    <tr>\n",
       "      <th>100 Grand</th>\n",
       "      <td>1</td>\n",
       "      <td>0</td>\n",
       "      <td>1</td>\n",
       "      <td>0</td>\n",
       "      <td>0</td>\n",
       "      <td>1</td>\n",
       "      <td>0</td>\n",
       "      <td>1</td>\n",
       "      <td>0</td>\n",
       "      <td>0.732</td>\n",
       "      <td>66.971725</td>\n",
       "    </tr>\n",
       "    <tr>\n",
       "      <th>3 Musketeers</th>\n",
       "      <td>1</td>\n",
       "      <td>0</td>\n",
       "      <td>0</td>\n",
       "      <td>0</td>\n",
       "      <td>1</td>\n",
       "      <td>0</td>\n",
       "      <td>0</td>\n",
       "      <td>1</td>\n",
       "      <td>0</td>\n",
       "      <td>0.604</td>\n",
       "      <td>67.602936</td>\n",
       "    </tr>\n",
       "    <tr>\n",
       "      <th>One dime</th>\n",
       "      <td>0</td>\n",
       "      <td>0</td>\n",
       "      <td>0</td>\n",
       "      <td>0</td>\n",
       "      <td>0</td>\n",
       "      <td>0</td>\n",
       "      <td>0</td>\n",
       "      <td>0</td>\n",
       "      <td>0</td>\n",
       "      <td>0.011</td>\n",
       "      <td>32.261086</td>\n",
       "    </tr>\n",
       "    <tr>\n",
       "      <th>One quarter</th>\n",
       "      <td>0</td>\n",
       "      <td>0</td>\n",
       "      <td>0</td>\n",
       "      <td>0</td>\n",
       "      <td>0</td>\n",
       "      <td>0</td>\n",
       "      <td>0</td>\n",
       "      <td>0</td>\n",
       "      <td>0</td>\n",
       "      <td>0.011</td>\n",
       "      <td>46.116505</td>\n",
       "    </tr>\n",
       "    <tr>\n",
       "      <th>Air Heads</th>\n",
       "      <td>0</td>\n",
       "      <td>1</td>\n",
       "      <td>0</td>\n",
       "      <td>0</td>\n",
       "      <td>0</td>\n",
       "      <td>0</td>\n",
       "      <td>0</td>\n",
       "      <td>0</td>\n",
       "      <td>0</td>\n",
       "      <td>0.906</td>\n",
       "      <td>52.341465</td>\n",
       "    </tr>\n",
       "  </tbody>\n",
       "</table>\n",
       "</div>"
      ],
      "text/plain": [
       "                Chocolate  Fruity  Caramel  Peanut Almondy  Nougat  \\\n",
       "competitorname                                                       \n",
       "100 Grand               1       0        1               0       0   \n",
       "3 Musketeers            1       0        0               0       1   \n",
       "One dime                0       0        0               0       0   \n",
       "One quarter             0       0        0               0       0   \n",
       "Air Heads               0       1        0               0       0   \n",
       "\n",
       "                Crisped Rice Wafer  Hard  Bar  Pluribus  Sugar Percent  \\\n",
       "competitorname                                                           \n",
       "100 Grand                        1     0    1         0          0.732   \n",
       "3 Musketeers                     0     0    1         0          0.604   \n",
       "One dime                         0     0    0         0          0.011   \n",
       "One quarter                      0     0    0         0          0.011   \n",
       "Air Heads                        0     0    0         0          0.906   \n",
       "\n",
       "                Win Percent  \n",
       "competitorname               \n",
       "100 Grand         66.971725  \n",
       "3 Musketeers      67.602936  \n",
       "One dime          32.261086  \n",
       "One quarter       46.116505  \n",
       "Air Heads         52.341465  "
      ]
     },
     "execution_count": 24,
     "metadata": {},
     "output_type": "execute_result"
    }
   ],
   "source": [
    "df.drop([\"pricepercent\"], axis=1, inplace=True)\n",
    "mapper = {\"chocolate\":\"Chocolate\", \"fruity\":\"Fruity\", \"caramel\":\"Caramel\", \"peanutyalmondy\":\"Peanut Almondy\", \"nougat\":\"Nougat\",\\\n",
    "         \"crispedricewafer\":\"Crisped Rice Wafer\", \"hard\":\"Hard\", \"bar\":\"Bar\", \"pluribus\":\"Pluribus\", \"sugarpercent\":\"Sugar Percent\",\\\n",
    "         \"winpercent\":\"Win Percent\"}\n",
    "df.rename(columns=mapper, inplace=True)\n",
    "df.head()"
   ]
  },
  {
   "cell_type": "code",
   "execution_count": 25,
   "metadata": {},
   "outputs": [
    {
     "data": {
      "text/plain": [
       "((85, 11), (66, 11), (19, 11))"
      ]
     },
     "execution_count": 25,
     "metadata": {},
     "output_type": "execute_result"
    }
   ],
   "source": [
    "mask = np.random.uniform(0, 1, len(df)) < 0.8\n",
    "train_df = df[mask]\n",
    "test_df = df[~mask]\n",
    "df.shape, train_df.shape, test_df.shape"
   ]
  },
  {
   "cell_type": "code",
   "execution_count": 26,
   "metadata": {
    "scrolled": false
   },
   "outputs": [
    {
     "name": "stdout",
     "output_type": "stream",
     "text": [
      "\u001b[1m\u001b[4mBar\u001b[0m\n",
      "\n",
      "Mean Accuracy Score = 0.8947\n",
      "Cross-Entropy Loss = 0.2835\n",
      "\n",
      "              precision    recall  f1-score   support\n",
      "\n",
      "           0       0.94      0.94      0.94        17\n",
      "           1       0.50      0.50      0.50         2\n",
      "\n",
      "    accuracy                           0.89        19\n",
      "   macro avg       0.72      0.72      0.72        19\n",
      "weighted avg       0.89      0.89      0.89        19\n",
      "\n",
      "\u001b[1m\u001b[4mCaramel\u001b[0m\n",
      "\n",
      "Mean Accuracy Score = 0.8421\n",
      "Cross-Entropy Loss = 0.3758\n",
      "\n",
      "              precision    recall  f1-score   support\n",
      "\n",
      "           0       0.84      1.00      0.91        16\n",
      "           1       0.00      0.00      0.00         3\n",
      "\n",
      "    accuracy                           0.84        19\n",
      "   macro avg       0.42      0.50      0.46        19\n",
      "weighted avg       0.71      0.84      0.77        19\n",
      "\n",
      "\u001b[1m\u001b[4mChocolate\u001b[0m\n",
      "\n",
      "Mean Accuracy Score = 0.8947\n",
      "Cross-Entropy Loss = 0.3178\n",
      "\n",
      "              precision    recall  f1-score   support\n",
      "\n",
      "           0       0.85      1.00      0.92        11\n",
      "           1       1.00      0.75      0.86         8\n",
      "\n",
      "    accuracy                           0.89        19\n",
      "   macro avg       0.92      0.88      0.89        19\n",
      "weighted avg       0.91      0.89      0.89        19\n",
      "\n",
      "\u001b[1m\u001b[4mCrisped Rice Wafer\u001b[0m\n",
      "\n",
      "Mean Accuracy Score = 0.8947\n",
      "Cross-Entropy Loss = 0.3445\n",
      "\n",
      "              precision    recall  f1-score   support\n",
      "\n",
      "           0       0.89      1.00      0.94        17\n",
      "           1       0.00      0.00      0.00         2\n",
      "\n",
      "    accuracy                           0.89        19\n",
      "   macro avg       0.45      0.50      0.47        19\n",
      "weighted avg       0.80      0.89      0.85        19\n",
      "\n",
      "\u001b[1m\u001b[4mFruity\u001b[0m\n",
      "\n",
      "Mean Accuracy Score = 0.7368\n",
      "Cross-Entropy Loss = 0.5722\n",
      "\n",
      "              precision    recall  f1-score   support\n",
      "\n",
      "           0       0.86      0.60      0.71        10\n",
      "           1       0.67      0.89      0.76         9\n",
      "\n",
      "    accuracy                           0.74        19\n",
      "   macro avg       0.76      0.74      0.73        19\n",
      "weighted avg       0.77      0.74      0.73        19\n",
      "\n",
      "\u001b[1m\u001b[4mHard\u001b[0m\n",
      "\n",
      "Mean Accuracy Score = 0.6842\n",
      "Cross-Entropy Loss = 0.6037\n",
      "\n",
      "              precision    recall  f1-score   support\n",
      "\n",
      "           0       0.68      1.00      0.81        13\n",
      "           1       0.00      0.00      0.00         6\n",
      "\n",
      "    accuracy                           0.68        19\n",
      "   macro avg       0.34      0.50      0.41        19\n",
      "weighted avg       0.47      0.68      0.56        19\n",
      "\n",
      "\u001b[1m\u001b[4mNougat\u001b[0m\n",
      "\n",
      "Mean Accuracy Score = 0.9474\n",
      "Cross-Entropy Loss = 0.1721\n",
      "\n",
      "              precision    recall  f1-score   support\n",
      "\n",
      "           0       0.95      1.00      0.97        18\n",
      "           1       0.00      0.00      0.00         1\n",
      "\n",
      "    accuracy                           0.95        19\n",
      "   macro avg       0.47      0.50      0.49        19\n",
      "weighted avg       0.90      0.95      0.92        19\n",
      "\n",
      "\u001b[1m\u001b[4mPeanut Almondy\u001b[0m\n",
      "\n",
      "Mean Accuracy Score = 0.8421\n",
      "Cross-Entropy Loss = 0.4477\n",
      "\n",
      "              precision    recall  f1-score   support\n",
      "\n",
      "           0       0.89      0.94      0.91        17\n",
      "           1       0.00      0.00      0.00         2\n",
      "\n",
      "    accuracy                           0.84        19\n",
      "   macro avg       0.44      0.47      0.46        19\n",
      "weighted avg       0.80      0.84      0.82        19\n",
      "\n",
      "\u001b[1m\u001b[4mPluribus\u001b[0m\n",
      "\n",
      "Mean Accuracy Score = 0.4211\n",
      "Cross-Entropy Loss = 0.8008\n",
      "\n",
      "              precision    recall  f1-score   support\n",
      "\n",
      "           0       0.33      0.22      0.27         9\n",
      "           1       0.46      0.60      0.52        10\n",
      "\n",
      "    accuracy                           0.42        19\n",
      "   macro avg       0.40      0.41      0.39        19\n",
      "weighted avg       0.40      0.42      0.40        19\n",
      "\n"
     ]
    }
   ],
   "source": [
    "for column in df.columns.difference([\"Sugar Percent\", \"Win Percent\"]):\n",
    "    \n",
    "    model = LogisticRegression()\n",
    "    model.fit(train_df[[\"Sugar Percent\", \"Win Percent\"]].values, train_df[column].values)\n",
    "    test_x, test_y = test_df[[\"Sugar Percent\", \"Win Percent\"]].values, test_df[column].values\n",
    "    probability_predictions = model.predict_proba(test_x)\n",
    "    \n",
    "    print(\"\\033[1m\" + \"\\033[4m\" + column + \"\\033[0m\" + \"\\n\")\n",
    "    print(\"Mean Accuracy Score =\", round(model.score(test_x, test_y), 4))\n",
    "    print(\"Cross-Entropy Loss =\", round(log_loss(test_y, probability_predictions, labels=[0,1]), 4), end=\"\\n\\n\")\n",
    "    print(classification_report(test_y, np.argmax(probability_predictions, axis=1)))"
   ]
  },
  {
   "cell_type": "markdown",
   "metadata": {},
   "source": [
    "# ORDINAL REGRESSION"
   ]
  },
  {
   "cell_type": "markdown",
   "metadata": {},
   "source": [
    "In statistics, ordinal regression (also called \"ordinal classification\") is a type of regression analysis used for predicting an ordinal variable, i.e., a variable whose value exists on an arbitrary scale where only the relative ordering between different values is significant. It can be considered an intermediate problem between regression and classification.\n",
    "\n",
    "One of the assumptions underlying ordinal logistic (and ordinal probit) regression is that the relationship between each pair of outcome groups is the same. In other words, ordinal logistic regression assumes that the coefficients that describe the relationship between, say, the lowest versus all higher categories of the response variable are the same as those that describe the relationship between the next lowest category and all higher categories, etc. This is called the proportional odds assumption or the parallel regression assumption. Because the relationship between all pairs of groups is the same, there is only one set of coefficients.\n",
    "\n",
    "[Source](https://stats.idre.ucla.edu/r/dae/ordinal-logistic-regression/)"
   ]
  },
  {
   "cell_type": "markdown",
   "metadata": {},
   "source": [
    "## Ordinal Rgression with Custom Class"
   ]
  },
  {
   "cell_type": "markdown",
   "metadata": {},
   "source": [
    "This Python class performs ordinal regression using multiple logistic regression (classifier) models. \n",
    "\n",
    "The labels are first sorted. Assume we have 4 labels, and they are in the order $c_1$, $c_2$, $c_3$, $c_4$. \n",
    "\n",
    "Now, we convert the problem into a binary classification problem. For each class, $c_i$, except the last one, we calculate the probability, $P(i)$, that it belongs to one of the classes $c_j$, $j>i$, i.e., $P(i) = P(c=c_j | j>i). \n",
    "\n",
    "$P(c=c_1) = 1-P(1)$ <br> $P(c=c_2) = P(1)-P(2)$ <br> $P(c=c_3) = P(2)-P(3)$ <br> $P(c=c_4) = P(3)$ \n",
    "\n",
    "Now, all that's left is to find the class with the maximum probability. \n",
    "\n",
    "Checkout [this article](https://towardsdatascience.com/simple-trick-to-train-an-ordinal-regression-with-any-classifier-6911183d2a3c) for a more detailed explaination."
   ]
  },
  {
   "cell_type": "markdown",
   "metadata": {},
   "source": [
    "### Load Dataset \n",
    "We use the iris dataset from sklearn, and split the dataset, keeping 20% of the entries for validation."
   ]
  },
  {
   "cell_type": "code",
   "execution_count": 27,
   "metadata": {},
   "outputs": [
    {
     "name": "stdout",
     "output_type": "stream",
     "text": [
      "X[:5] =\n",
      "[[5.1 3.5 1.4 0.2]\n",
      " [4.9 3.  1.4 0.2]\n",
      " [4.7 3.2 1.3 0.2]\n",
      " [4.6 3.1 1.5 0.2]\n",
      " [5.  3.6 1.4 0.2]]\n",
      "\n",
      "y[:5] = [0 0 0 0 0]\n"
     ]
    },
    {
     "data": {
      "text/plain": [
       "((120, 4), (30, 4), (120,), (30,))"
      ]
     },
     "execution_count": 27,
     "metadata": {},
     "output_type": "execute_result"
    }
   ],
   "source": [
    "X, y = load_iris(return_X_y=True)\n",
    "print(\"X[:5] =\", X[:5], sep=\"\\n\")\n",
    "print(\"\\ny[:5] =\", y[:5])\n",
    "train_X, test_X, train_y, test_y = train_test_split(X, y, test_size=0.2, shuffle=True)\n",
    "train_X.shape, test_X.shape, train_y.shape, test_y.shape"
   ]
  },
  {
   "cell_type": "code",
   "execution_count": 28,
   "metadata": {},
   "outputs": [],
   "source": [
    "class ordinal_classifier():\n",
    "    \n",
    "    \n",
    "    def __init__(self, classifier):\n",
    "        \n",
    "        self.classifier = classifier\n",
    "        self.classifiers = {}                                          # class_label_idx : class_label_classifier\n",
    "        \n",
    "    def fit(self, X, y):\n",
    "        \n",
    "        self.unique_classes = np.sort(np.unique(y))\n",
    "        self.num_unique_classes = self.unique_classes.shape[0]\n",
    "        \n",
    "        for class_label_idx, class_label in enumerate(self.unique_classes[:-1]):\n",
    "            class_label_binary_y = (y>class_label).astype(int)\n",
    "            class_label_classifier = clone(self.classifier)\n",
    "            class_label_classifier.fit(X, class_label_binary_y)\n",
    "            self.classifiers[class_label_idx] = class_label_classifier\n",
    "            \n",
    "    def predict_probabilities(self, X):\n",
    "        \n",
    "        classifiers_predictions = {idx:classifier.predict_proba(X) for (idx, classifier) in self.classifiers.items()}\n",
    "        \n",
    "        probability_prediction_class_label_0 = classifiers_predictions[0][:,1]\n",
    "        probability_predictions = [1-probability_prediction_class_label_0]\n",
    "        \n",
    "        for idx, class_label in enumerate(self.unique_classes):\n",
    "            if idx!=0 and idx!=self.num_unique_classes-1:\n",
    "                probability_prediction = classifiers_predictions[idx-1][:,1] - classifiers_predictions[idx][:,1]\n",
    "                probability_predictions.append(probability_prediction)\n",
    "        \n",
    "        probability_prediction_class_label_last = classifiers_predictions[self.unique_classes.shape[0]-2][:,1]\n",
    "        probability_predictions.append(probability_prediction_class_label_last)\n",
    "        \n",
    "        return np.array(probability_predictions).T\n",
    "    \n",
    "    def predict(self, X):\n",
    "        \n",
    "        return np.argmax(self.predict_probabilities(X), axis=1)"
   ]
  },
  {
   "cell_type": "code",
   "execution_count": 29,
   "metadata": {},
   "outputs": [
    {
     "name": "stdout",
     "output_type": "stream",
     "text": [
      "              precision    recall  f1-score   support\n",
      "\n",
      "           0      1.000     1.000     1.000         8\n",
      "           1      0.750     1.000     0.857         9\n",
      "           2      1.000     0.769     0.870        13\n",
      "\n",
      "    accuracy                          0.900        30\n",
      "   macro avg      0.917     0.923     0.909        30\n",
      "weighted avg      0.925     0.900     0.901        30\n",
      "\n",
      "Categorical Cross-entropy Loss = 0.1747\n"
     ]
    }
   ],
   "source": [
    "oc_object = ordinal_classifier(LogisticRegression())\n",
    "oc_object.fit(train_X, train_y)\n",
    "\n",
    "probability_predictions = oc_object.predict_probabilities(test_X)\n",
    "class_predictions = oc_object.predict(test_X)\n",
    "print(classification_report(test_y, class_predictions, digits=3))\n",
    "\n",
    "enc_object = OneHotEncoder()\n",
    "one_hot_test_y = enc_object.fit_transform(test_y.reshape(-1,1)).toarray()\n",
    "\n",
    "cce = CategoricalCrossentropy()\n",
    "print(\"Categorical Cross-entropy Loss =\", round(cce(one_hot_test_y, probability_predictions).numpy(), 4))"
   ]
  },
  {
   "cell_type": "markdown",
   "metadata": {},
   "source": [
    "# POISSON REGRESSION"
   ]
  },
  {
   "cell_type": "markdown",
   "metadata": {},
   "source": [
    "Poisson regression is a form of regression analysis used to model count data (data in which the observations can only take non-negative integer values, and where these integers arise from counting) and contingency tables (used to store multivariate frequency dustributions of varaibles)."
   ]
  },
  {
   "cell_type": "markdown",
   "metadata": {},
   "source": [
    "The response variable is expected to follow a poisson distribution, with parameter $\\lambda$, which is the expected value. Hence, one can expect to observe $\\lambda$ events in a unit time frame. In t units of time, one expect to observe $\\lambda$t events."
   ]
  },
  {
   "cell_type": "markdown",
   "metadata": {},
   "source": [
    "## Regression Model with Constant $\\lambda$"
   ]
  },
  {
   "cell_type": "markdown",
   "metadata": {},
   "source": [
    "In situations where the data seems to follow a poisson distribution with constant $\\lambda$, it is easy to predict the future counts of events using a Mean Model - a model which predicts a constant value which is the mean of the data. Such situations can be observed in various areas like number of people visiting a shop every hour, number of people in line in front of you at the checkout counter of a store, etc.\n",
    "\n",
    "To illustrate, we generate a random sample of size 20 from a poisson distribution with $\\lambda = 5$."
   ]
  },
  {
   "cell_type": "code",
   "execution_count": 30,
   "metadata": {},
   "outputs": [
    {
     "data": {
      "image/png": "[encoded data removed]",
      "text/plain": [
       "<Figure size 1008x504 with 1 Axes>"
      ]
     },
     "metadata": {
      "needs_background": "light"
     },
     "output_type": "display_data"
    }
   ],
   "source": [
    "X_y = list(range(1,21))\n",
    "y = poisson(lam=5., size=20)\n",
    "\n",
    "X_forecast = list(range(21,26))\n",
    "forecast = [5]*5\n",
    "\n",
    "fontdict = {\"family\":\"serif\", \"color\":\"darkred\", \"weight\":\"normal\", \"size\":16}\n",
    "\n",
    "plt.figure(figsize=(14,7))\n",
    "plt.title(\"Dataset of Event Counts - Actual and Forecast\", fontdict=fontdict, pad=12)\n",
    "plt.plot(X_y, y, \"bo-\", label=\"Actual Counts\")\n",
    "plt.plot(X_forecast, forecast, \"go-\", label=\"Forecast\")\n",
    "plt.xlabel(\"Time\", fontdict=fontdict, labelpad=12)\n",
    "plt.ylabel(\"Number of Events\", fontdict=fontdict, labelpad=12)\n",
    "plt.xticks(ticks=list(X_y+X_forecast))\n",
    "plt.legend()\n",
    "plt.grid()"
   ]
  },
  {
   "cell_type": "markdown",
   "metadata": {},
   "source": [
    "## Regression Model with Non-Constant $\\lambda$"
   ]
  },
  {
   "cell_type": "markdown",
   "metadata": {},
   "source": [
    "Suppose we have n independent variables (regression variables), m data entries, and we are trying to predict the independent variable y which, for a given <b>x</b>, follows a poisson distribution. The probability mass function of $y$ over $x_i$ is given as ($\\beta$ is the vector of regression coefficients) <br><br>\n",
    "\\begin{equation*} P(y|x_i) = \\frac{e^{-\\lambda_i}{\\lambda_i}^{y}}{y!} \\end{equation*} \n",
    "\n",
    "$\\eta = x_i\\beta$ is called the <b>Linear Estimator</b>. We also define a <b>Link Function</b>, $g$, such that $E(y_i|x_i) = \\mu = g^{-1}(\\eta)$. <br>The link function provides the relationship between the linear predictor and the mean of the distribution function. There are many commonly used link functions, and their choice is informed by several considerations. <br>For Poisson Regression, the link function is chosen to be $g(n) = \\ln(n)$. This gives <br><br>\n",
    "\\begin{equation*} \\lambda_i = e^{x_i\\beta} \\end{equation*}\n",
    "\n",
    "Once the model is trained on the dataset and the regression coefficents $\\beta$ are known, we predict $\\hat{y}_i = \\lambda_i = e^{x_i\\beta}$. The vector $\\beta$ is calculated using the <b>Maximum Likelihood Estimation (MLE)</b>. \n",
    "\n",
    "The probability of predicting $y_i$ for each data entry is <br>\n",
    "\\begin{equation*} P(y_i|x_i) = \\frac{e^{-\\lambda_i}{\\lambda_i}^{y_i}}{y_i!} \\end{equation*}\n",
    "\n",
    "The joint probability distribution for predicting $y$, the set of response variables, and $X$, the set of input feature vectors, is given as <br><br>\n",
    "\\begin{equation*} L(\\beta) = P(y|X) = \\prod_{i=1}^{m} P(y_i|x_i) = \\prod_{i=1}^{m} \\frac{e^{-\\lambda_i}{\\lambda_i}^{y_i}}{y_i!} \\end{equation*}\n",
    "\\begin{equation*} \\ln L(\\beta) = \\sum_{i=1}^{m} (y_i x_i \\beta - e^{x_i \\beta} - \\ln(y!)) \\end{equation*}\n",
    "\n",
    "This logarithmic equation is called <b> Log-Likelihood Function </b>. To minimize the function with respect to $\\beta$, we differentiate and equate the derivative to 0, giving <br><br>\n",
    "\\begin{equation*} \\sum_{i=1}^{m} x_i(y_i - e^{x_i \\beta}) = 0 \\end{equation*}\n",
    "\n",
    "The Maximum Likelihood Estimate for $\\beta$ is given by solving this equation. One can use iterative methods, like Iteratively Reweighted Least Squares ([IRLS](https://en.wikipedia.org/wiki/Iteratively_reweighted_least_squares)), to solve this equation."
   ]
  },
  {
   "cell_type": "markdown",
   "metadata": {},
   "source": [
    "### We'll perform Poisson Regression on a dataset of Bicyclists Count on the Brooklyn Bridge\n",
    "Dataset available [here](https://gist.github.com/sachinsdate/c17931a3f000492c1c42cf78bf4ce9fe#file-nyc_bb_bicyclist_counts-csv)."
   ]
  },
  {
   "cell_type": "code",
   "execution_count": 31,
   "metadata": {},
   "outputs": [
    {
     "data": {
      "text/html": [
       "<div>\n",
       "<style scoped>\n",
       "    .dataframe tbody tr th:only-of-type {\n",
       "        vertical-align: middle;\n",
       "    }\n",
       "\n",
       "    .dataframe tbody tr th {\n",
       "        vertical-align: top;\n",
       "    }\n",
       "\n",
       "    .dataframe thead th {\n",
       "        text-align: right;\n",
       "    }\n",
       "</style>\n",
       "<table border=\"1\" class=\"dataframe\">\n",
       "  <thead>\n",
       "    <tr style=\"text-align: right;\">\n",
       "      <th></th>\n",
       "      <th>HIGH_T</th>\n",
       "      <th>LOW_T</th>\n",
       "      <th>PRECIP</th>\n",
       "      <th>BB_COUNT</th>\n",
       "    </tr>\n",
       "    <tr>\n",
       "      <th>Date</th>\n",
       "      <th></th>\n",
       "      <th></th>\n",
       "      <th></th>\n",
       "      <th></th>\n",
       "    </tr>\n",
       "  </thead>\n",
       "  <tbody>\n",
       "    <tr>\n",
       "      <th>1-Apr-17</th>\n",
       "      <td>46.0</td>\n",
       "      <td>37.0</td>\n",
       "      <td>0.00</td>\n",
       "      <td>606</td>\n",
       "    </tr>\n",
       "    <tr>\n",
       "      <th>2-Apr-17</th>\n",
       "      <td>62.1</td>\n",
       "      <td>41.0</td>\n",
       "      <td>0.00</td>\n",
       "      <td>2021</td>\n",
       "    </tr>\n",
       "    <tr>\n",
       "      <th>3-Apr-17</th>\n",
       "      <td>63.0</td>\n",
       "      <td>50.0</td>\n",
       "      <td>0.03</td>\n",
       "      <td>2470</td>\n",
       "    </tr>\n",
       "    <tr>\n",
       "      <th>4-Apr-17</th>\n",
       "      <td>51.1</td>\n",
       "      <td>46.0</td>\n",
       "      <td>1.18</td>\n",
       "      <td>723</td>\n",
       "    </tr>\n",
       "    <tr>\n",
       "      <th>5-Apr-17</th>\n",
       "      <td>63.0</td>\n",
       "      <td>46.0</td>\n",
       "      <td>0.00</td>\n",
       "      <td>2807</td>\n",
       "    </tr>\n",
       "  </tbody>\n",
       "</table>\n",
       "</div>"
      ],
      "text/plain": [
       "          HIGH_T  LOW_T  PRECIP  BB_COUNT\n",
       "Date                                     \n",
       "1-Apr-17    46.0   37.0    0.00       606\n",
       "2-Apr-17    62.1   41.0    0.00      2021\n",
       "3-Apr-17    63.0   50.0    0.03      2470\n",
       "4-Apr-17    51.1   46.0    1.18       723\n",
       "5-Apr-17    63.0   46.0    0.00      2807"
      ]
     },
     "execution_count": 31,
     "metadata": {},
     "output_type": "execute_result"
    }
   ],
   "source": [
    "df = pd.read_csv(\"./data/nyc_bb_bicyclist_counts.csv\", index_col=0)\r\n",
    "df.head()"
   ]
  },
  {
   "cell_type": "code",
   "execution_count": 32,
   "metadata": {},
   "outputs": [
    {
     "name": "stdout",
     "output_type": "stream",
     "text": [
      "<class 'pandas.core.frame.DataFrame'>\n",
      "Index: 214 entries, 1-Apr-17 to 31-Oct-17\n",
      "Data columns (total 4 columns):\n",
      " #   Column    Non-Null Count  Dtype  \n",
      "---  ------    --------------  -----  \n",
      " 0   HIGH_T    214 non-null    float64\n",
      " 1   LOW_T     214 non-null    float64\n",
      " 2   PRECIP    214 non-null    float64\n",
      " 3   BB_COUNT  214 non-null    int64  \n",
      "dtypes: float64(3), int64(1)\n",
      "memory usage: 8.4+ KB\n"
     ]
    }
   ],
   "source": [
    "df.info()"
   ]
  },
  {
   "cell_type": "markdown",
   "metadata": {},
   "source": [
    "There's no need to clean any data. We can move on to rgeression analysis. Let's just add columns for the days of the week before that. "
   ]
  },
  {
   "cell_type": "code",
   "execution_count": 33,
   "metadata": {},
   "outputs": [
    {
     "data": {
      "text/html": [
       "<div>\n",
       "<style scoped>\n",
       "    .dataframe tbody tr th:only-of-type {\n",
       "        vertical-align: middle;\n",
       "    }\n",
       "\n",
       "    .dataframe tbody tr th {\n",
       "        vertical-align: top;\n",
       "    }\n",
       "\n",
       "    .dataframe thead th {\n",
       "        text-align: right;\n",
       "    }\n",
       "</style>\n",
       "<table border=\"1\" class=\"dataframe\">\n",
       "  <thead>\n",
       "    <tr style=\"text-align: right;\">\n",
       "      <th></th>\n",
       "      <th>HIGH_T</th>\n",
       "      <th>LOW_T</th>\n",
       "      <th>PRECIP</th>\n",
       "      <th>Monday</th>\n",
       "      <th>Tuesday</th>\n",
       "      <th>Wednesday</th>\n",
       "      <th>Thursday</th>\n",
       "      <th>Friday</th>\n",
       "      <th>Saturday</th>\n",
       "      <th>Sunday</th>\n",
       "      <th>BB_COUNT</th>\n",
       "    </tr>\n",
       "    <tr>\n",
       "      <th>Date</th>\n",
       "      <th></th>\n",
       "      <th></th>\n",
       "      <th></th>\n",
       "      <th></th>\n",
       "      <th></th>\n",
       "      <th></th>\n",
       "      <th></th>\n",
       "      <th></th>\n",
       "      <th></th>\n",
       "      <th></th>\n",
       "      <th></th>\n",
       "    </tr>\n",
       "  </thead>\n",
       "  <tbody>\n",
       "    <tr>\n",
       "      <th>1-Apr-17</th>\n",
       "      <td>46.0</td>\n",
       "      <td>37.0</td>\n",
       "      <td>0.00</td>\n",
       "      <td>0</td>\n",
       "      <td>0</td>\n",
       "      <td>0</td>\n",
       "      <td>0</td>\n",
       "      <td>0</td>\n",
       "      <td>1</td>\n",
       "      <td>0</td>\n",
       "      <td>606</td>\n",
       "    </tr>\n",
       "    <tr>\n",
       "      <th>2-Apr-17</th>\n",
       "      <td>62.1</td>\n",
       "      <td>41.0</td>\n",
       "      <td>0.00</td>\n",
       "      <td>0</td>\n",
       "      <td>0</td>\n",
       "      <td>0</td>\n",
       "      <td>0</td>\n",
       "      <td>0</td>\n",
       "      <td>0</td>\n",
       "      <td>1</td>\n",
       "      <td>2021</td>\n",
       "    </tr>\n",
       "    <tr>\n",
       "      <th>3-Apr-17</th>\n",
       "      <td>63.0</td>\n",
       "      <td>50.0</td>\n",
       "      <td>0.03</td>\n",
       "      <td>1</td>\n",
       "      <td>0</td>\n",
       "      <td>0</td>\n",
       "      <td>0</td>\n",
       "      <td>0</td>\n",
       "      <td>0</td>\n",
       "      <td>0</td>\n",
       "      <td>2470</td>\n",
       "    </tr>\n",
       "    <tr>\n",
       "      <th>4-Apr-17</th>\n",
       "      <td>51.1</td>\n",
       "      <td>46.0</td>\n",
       "      <td>1.18</td>\n",
       "      <td>0</td>\n",
       "      <td>1</td>\n",
       "      <td>0</td>\n",
       "      <td>0</td>\n",
       "      <td>0</td>\n",
       "      <td>0</td>\n",
       "      <td>0</td>\n",
       "      <td>723</td>\n",
       "    </tr>\n",
       "    <tr>\n",
       "      <th>5-Apr-17</th>\n",
       "      <td>63.0</td>\n",
       "      <td>46.0</td>\n",
       "      <td>0.00</td>\n",
       "      <td>0</td>\n",
       "      <td>0</td>\n",
       "      <td>1</td>\n",
       "      <td>0</td>\n",
       "      <td>0</td>\n",
       "      <td>0</td>\n",
       "      <td>0</td>\n",
       "      <td>2807</td>\n",
       "    </tr>\n",
       "  </tbody>\n",
       "</table>\n",
       "</div>"
      ],
      "text/plain": [
       "          HIGH_T  LOW_T  PRECIP  Monday  Tuesday  Wednesday  Thursday  Friday  \\\n",
       "Date                                                                            \n",
       "1-Apr-17    46.0   37.0    0.00       0        0          0         0       0   \n",
       "2-Apr-17    62.1   41.0    0.00       0        0          0         0       0   \n",
       "3-Apr-17    63.0   50.0    0.03       1        0          0         0       0   \n",
       "4-Apr-17    51.1   46.0    1.18       0        1          0         0       0   \n",
       "5-Apr-17    63.0   46.0    0.00       0        0          1         0       0   \n",
       "\n",
       "          Saturday  Sunday  BB_COUNT  \n",
       "Date                                  \n",
       "1-Apr-17         1       0       606  \n",
       "2-Apr-17         0       1      2021  \n",
       "3-Apr-17         0       0      2470  \n",
       "4-Apr-17         0       0       723  \n",
       "5-Apr-17         0       0      2807  "
      ]
     },
     "execution_count": 33,
     "metadata": {},
     "output_type": "execute_result"
    }
   ],
   "source": [
    "days_of_the_week = [\"Monday\", \"Tuesday\", \"Wednesday\", \"Thursday\", \"Friday\", \"Saturday\", \"Sunday\"]\n",
    "for day in days_of_the_week:\n",
    "    df[day] = df.index.to_series().apply(lambda x: 1 if datetime.strptime(x, \"%d-%b-%y\").strftime(\"%A\")==day else 0)\n",
    "df[\"Intercept\"] = 1\n",
    "df = df[[\"HIGH_T\", \"LOW_T\", \"PRECIP\"]+days_of_the_week+[\"BB_COUNT\"]]\n",
    "df.head()"
   ]
  },
  {
   "cell_type": "code",
   "execution_count": 34,
   "metadata": {},
   "outputs": [
    {
     "name": "stdout",
     "output_type": "stream",
     "text": [
      "X shape = (214, 10); y shape = (214, 1)\n"
     ]
    }
   ],
   "source": [
    "x_values = df[df.columns.difference([\"BB_COUNT\"])]\n",
    "y_values = df[[\"BB_COUNT\"]]\n",
    "print(\"X shape = {}; y shape = {}\".format(x_values.shape, y_values.shape))"
   ]
  },
  {
   "cell_type": "code",
   "execution_count": 35,
   "metadata": {},
   "outputs": [
    {
     "name": "stdout",
     "output_type": "stream",
     "text": [
      "Number of entries for training = 181; Number of entries for validation = 33\n"
     ]
    }
   ],
   "source": [
    "train_X, test_X, train_y, test_y = train_test_split(x_values, y_values, test_size=0.15, shuffle=True)\n",
    "print(\"Number of entries for training = {}; Number of entries for validation = {}\".format(train_X.shape[0], test_X.shape[0]))"
   ]
  },
  {
   "cell_type": "code",
   "execution_count": 36,
   "metadata": {},
   "outputs": [
    {
     "name": "stdout",
     "output_type": "stream",
     "text": [
      "                 Generalized Linear Model Regression Results                  \n",
      "==============================================================================\n",
      "Dep. Variable:               BB_COUNT   No. Observations:                  181\n",
      "Model:                            GLM   Df Residuals:                      171\n",
      "Model Family:                 Poisson   Df Model:                            9\n",
      "Link Function:                    log   Scale:                          1.0000\n",
      "Method:                          IRLS   Log-Likelihood:                -13493.\n",
      "Date:                Tue, 06 Oct 2020   Deviance:                       25241.\n",
      "Time:                        03:22:22   Pearson chi2:                 2.50e+04\n",
      "No. Iterations:                     5                                         \n",
      "Covariance Type:            nonrobust                                         \n",
      "==============================================================================\n",
      "                 coef    std err          z      P>|z|      [0.025      0.975]\n",
      "------------------------------------------------------------------------------\n",
      "Friday         7.0611      0.012    591.257      0.000       7.038       7.084\n",
      "HIGH_T         0.0249      0.000     77.545      0.000       0.024       0.026\n",
      "LOW_T         -0.0157      0.000    -44.859      0.000      -0.016      -0.015\n",
      "Monday         7.0741      0.012    594.783      0.000       7.051       7.097\n",
      "PRECIP        -0.7492      0.007   -107.183      0.000      -0.763      -0.736\n",
      "Saturday       7.0219      0.012    584.134      0.000       6.998       7.045\n",
      "Sunday         6.9679      0.012    582.937      0.000       6.944       6.991\n",
      "Thursday       7.1393      0.012    590.238      0.000       7.116       7.163\n",
      "Tuesday        7.1167      0.012    591.799      0.000       7.093       7.140\n",
      "Wednesday      7.0952      0.012    575.120      0.000       7.071       7.119\n",
      "==============================================================================\n"
     ]
    }
   ],
   "source": [
    "poisson_model = sm.GLM(train_y, train_X, family=sm.families.Poisson())\n",
    "poisson_results = poisson_model.fit()\n",
    "print(poisson_results.summary())"
   ]
  },
  {
   "cell_type": "markdown",
   "metadata": {},
   "source": [
    "Column 1 gives the coefficients of regression for each of the varaibles. Last two columns give the 95% confidence interval for the coefficients.\n",
    "\n",
    "Let's now predict on test_X."
   ]
  },
  {
   "cell_type": "code",
   "execution_count": 37,
   "metadata": {},
   "outputs": [
    {
     "data": {
      "text/html": [
       "<div>\n",
       "<style scoped>\n",
       "    .dataframe tbody tr th:only-of-type {\n",
       "        vertical-align: middle;\n",
       "    }\n",
       "\n",
       "    .dataframe tbody tr th {\n",
       "        vertical-align: top;\n",
       "    }\n",
       "\n",
       "    .dataframe thead th {\n",
       "        text-align: right;\n",
       "    }\n",
       "</style>\n",
       "<table border=\"1\" class=\"dataframe\">\n",
       "  <thead>\n",
       "    <tr style=\"text-align: right;\">\n",
       "      <th></th>\n",
       "      <th>mean</th>\n",
       "      <th>mean_se</th>\n",
       "      <th>mean_ci_lower</th>\n",
       "      <th>mean_ci_upper</th>\n",
       "    </tr>\n",
       "    <tr>\n",
       "      <th>Date</th>\n",
       "      <th></th>\n",
       "      <th></th>\n",
       "      <th></th>\n",
       "      <th></th>\n",
       "    </tr>\n",
       "  </thead>\n",
       "  <tbody>\n",
       "    <tr>\n",
       "      <th>20-Apr-17</th>\n",
       "      <td>2561.196626</td>\n",
       "      <td>11.970533</td>\n",
       "      <td>2537.841945</td>\n",
       "      <td>2584.766230</td>\n",
       "    </tr>\n",
       "    <tr>\n",
       "      <th>12-Oct-17</th>\n",
       "      <td>2400.385041</td>\n",
       "      <td>10.407785</td>\n",
       "      <td>2380.072588</td>\n",
       "      <td>2420.870848</td>\n",
       "    </tr>\n",
       "    <tr>\n",
       "      <th>22-May-17</th>\n",
       "      <td>1492.779106</td>\n",
       "      <td>7.918685</td>\n",
       "      <td>1477.339172</td>\n",
       "      <td>1508.380406</td>\n",
       "    </tr>\n",
       "    <tr>\n",
       "      <th>7-Jun-17</th>\n",
       "      <td>2748.443313</td>\n",
       "      <td>11.778176</td>\n",
       "      <td>2725.455190</td>\n",
       "      <td>2771.625333</td>\n",
       "    </tr>\n",
       "    <tr>\n",
       "      <th>5-Sep-17</th>\n",
       "      <td>3323.838915</td>\n",
       "      <td>12.886517</td>\n",
       "      <td>3298.677525</td>\n",
       "      <td>3349.192230</td>\n",
       "    </tr>\n",
       "  </tbody>\n",
       "</table>\n",
       "</div>"
      ],
      "text/plain": [
       "                  mean    mean_se  mean_ci_lower  mean_ci_upper\n",
       "Date                                                           \n",
       "20-Apr-17  2561.196626  11.970533    2537.841945    2584.766230\n",
       "12-Oct-17  2400.385041  10.407785    2380.072588    2420.870848\n",
       "22-May-17  1492.779106   7.918685    1477.339172    1508.380406\n",
       "7-Jun-17   2748.443313  11.778176    2725.455190    2771.625333\n",
       "5-Sep-17   3323.838915  12.886517    3298.677525    3349.192230"
      ]
     },
     "execution_count": 37,
     "metadata": {},
     "output_type": "execute_result"
    }
   ],
   "source": [
    "predictions = poisson_results.get_prediction(test_X)\n",
    "predictions_summary = predictions.summary_frame()\n",
    "predictions_summary.head()"
   ]
  },
  {
   "cell_type": "code",
   "execution_count": 38,
   "metadata": {},
   "outputs": [
    {
     "name": "stdout",
     "output_type": "stream",
     "text": [
      "\u001b[1m\u001b[4mPOISSON REGRESSION\u001b[0m\n",
      "\n",
      "Mean Absolute Error = 365.4989\n",
      "Root Mean Squared Error = 448.0736\n",
      "R2 Score = 0.5806\n"
     ]
    }
   ],
   "source": [
    "print(\"\\033[1m\" + \"\\033[4m\" + \"POISSON REGRESSION\" + \"\\033[0m\" + \"\\n\")\n",
    "print(\"Mean Absolute Error =\", round(mean_absolute_error(test_y, predictions_summary[\"mean\"].values), 4))\n",
    "print(\"Root Mean Squared Error =\", round(mean_squared_error(test_y, predictions_summary[\"mean\"].values, squared=False), 4))\n",
    "print(\"R2 Score =\", round(r2_score(test_y, predictions_summary[\"mean\"].values), 4))"
   ]
  },
  {
   "cell_type": "markdown",
   "metadata": {},
   "source": [
    "To compare the results with linear regression, we will form a linear regression model and calculate the metrics."
   ]
  },
  {
   "cell_type": "code",
   "execution_count": 39,
   "metadata": {},
   "outputs": [],
   "source": [
    "model = LinearRegression()\n",
    "model.fit(train_X, train_y)\n",
    "lr_predictions = model.predict(test_X)"
   ]
  },
  {
   "cell_type": "code",
   "execution_count": 40,
   "metadata": {},
   "outputs": [
    {
     "name": "stdout",
     "output_type": "stream",
     "text": [
      "\u001b[1m\u001b[4mLINEAR REGRESSION\u001b[0m\n",
      "Mean Absolute Error = 374.1826\n",
      "Root Mean Squared Error = 475.8052\n",
      "R2 Score = 0.5271\n"
     ]
    }
   ],
   "source": [
    "print(\"\\033[1m\" + \"\\033[4m\" + \"LINEAR REGRESSION\" + \"\\033[0m\")\n",
    "print(\"Mean Absolute Error =\", round(mean_absolute_error(test_y, lr_predictions), 4))\n",
    "print(\"Root Mean Squared Error =\", round(mean_squared_error(test_y, lr_predictions, squared=False), 4))\n",
    "print(\"R2 Score =\", round(r2_score(test_y, lr_predictions), 4))"
   ]
  },
  {
   "cell_type": "code",
   "execution_count": 41,
   "metadata": {},
   "outputs": [
    {
     "data": {
      "image/png": "[encoded data removed]",
      "text/plain": [
       "<Figure size 1080x576 with 1 Axes>"
      ]
     },
     "metadata": {
      "needs_background": "light"
     },
     "output_type": "display_data"
    }
   ],
   "source": [
    "fontdict = {\"family\":\"serif\", \"color\":\"darkred\", \"weight\":\"normal\", \"size\":16}\n",
    "\n",
    "plt.figure(figsize=(15,8))\n",
    "plt.title(\"Poisson regression vs Linear Regression\", fontdict=fontdict, pad=12)\n",
    "plt.plot(test_y.index, test_y.BB_COUNT, \"bo-\", label=\"True Count\")\n",
    "plt.plot(test_y.index, predictions_summary[\"mean\"].values, \"ro-\", label=\"Poisson regression Predictions\")\n",
    "plt.plot(test_y.index, lr_predictions, \"go-\", label=\"Linear Regression Predictions\")\n",
    "plt.xlabel(\"Date\", fontdict=fontdict, labelpad=12)\n",
    "plt.ylabel(\"Bicyclists Count\", fontdict=fontdict, labelpad=12)\n",
    "xticks = plt.xticks()\n",
    "plt.xticks(list(xticks)[0][::5], rotation=45)\n",
    "plt.legend()\n",
    "plt.grid()"
   ]
  },
  {
   "cell_type": "code",
   "execution_count": null,
   "metadata": {},
   "outputs": [],
   "source": []
  }
 ],
 "metadata": {
  "interpreter": {
   "hash": "1fea9a4c2cdc9ba1d06e8e0dec9acced70a05c92f94f3724f1a87c7ab2e3891c"
  },
  "kernelspec": {
   "display_name": "Python 3.9.6 64-bit",
   "name": "python3"
  },
  "language_info": {
   "name": "python",
   "version": ""
  }
 },
 "nbformat": 4,
 "nbformat_minor": 4
}