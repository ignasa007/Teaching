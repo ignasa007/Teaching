{
 "cells": [
  {
   "cell_type": "markdown",
   "metadata": {},
   "source": [
    "### Installing packages\n",
    "To install a package on your device, first open the Command Prompt by typing cmd in the search box. <br><br>\n",
    "Windows users type the following command - <br> \n",
    "py -m pip install \"package_name\""
   ]
  },
  {
   "cell_type": "code",
   "execution_count": 1,
   "metadata": {},
   "outputs": [
    {
     "name": "stderr",
     "output_type": "stream",
     "text": [
      "Using TensorFlow backend.\n"
     ]
    }
   ],
   "source": [
    "# To supress warnings\n",
    "import warnings\n",
    "warnings.filterwarnings('ignore')\n",
    "\n",
    "# For data manipulation\n",
    "import pandas as pd\n",
    "\n",
    "# For array manipulation\n",
    "import numpy as np\n",
    "\n",
    "# To split the data for training and validation\n",
    "from sklearn.model_selection import train_test_split\n",
    "\n",
    "# To standardize the data\n",
    "from sklearn.preprocessing import StandardScaler, MinMaxScaler\n",
    "\n",
    "# Deep learning library we'll use\n",
    "import keras\n",
    "\n",
    "# To get the datasets\n",
    "from keras.datasets import boston_housing, mnist\n",
    "\n",
    "# For one-hot encoding\n",
    "from keras.utils.np_utils import to_categorical\n",
    "\n",
    "# To make a sequential model with multiple processing layers\n",
    "from keras.models import Sequential\n",
    "\n",
    "# To make a deeply (fully) connected layer\n",
    "from keras.layers import Dense, Dropout\n",
    "\n",
    "# For defining the loss function\n",
    "from keras.losses import MeanSquaredError, MeanAbsoluteError\n",
    "\n",
    "# To define the optimizer\n",
    "from keras.optimizers import Adadelta, Adam, SGD, RMSprop\n",
    "\n",
    "# To make plots\n",
    "import matplotlib.pyplot as plt"
   ]
  },
  {
   "cell_type": "markdown",
   "metadata": {},
   "source": [
    "# Regression\n",
    "### Loading the data\n",
    "We will use the Boston Housing data for training our model. The data consists of 13-dimensional input, 12 of which are continuous, and one is a binary variable. The output is a continuous scalar giving the median value of owner-occupied homes in \\$1000s.<br><br>\n",
    "Read the decription of the features below. Can you guess which is the binary variable? \n",
    "#### Description of the input features\n",
    "1. Per capita crime rate by town <br>\n",
    "2. Proportion of residential land zoned for lots over 25,000 sq. ft <br>\n",
    "3. Proportion of non-retail business acres per town <br>\n",
    "4. Charles River dummy variable (= 1 if tract bounds river; 0 otherwise) <br>\n",
    "5. Nitric oxide concentration (parts per 10 million) <br>\n",
    "6. Average number of rooms per dwelling <br>\n",
    "7. Proportion of owner-occupied units built prior to 1940 <br>\n",
    "8. Weighted distances to five Boston employment centers <br>\n",
    "9. Index of accessibility to radial highways <br>\n",
    "10. Full-value property tax rate per \\$10,000 <br>\n",
    "11. Pupil-teacher ratio by town <br>\n",
    "12. 1000(Bk - 0.63)², where Bk is the proportion of blacks by town <br>\n",
    "13. Percentage of lower status of the population <br>"
   ]
  },
  {
   "cell_type": "code",
   "execution_count": 2,
   "metadata": {},
   "outputs": [
    {
     "name": "stdout",
     "output_type": "stream",
     "text": [
      "There are 404 records in the training set.\n",
      "There are 102 records in the testing set.\n",
      "The length of the input feature vector is 13.\n",
      "\n",
      "Example of an input-output pair - \n",
      "x = [0.09178, 0.0, 4.05, 0.0, 0.51, 6.416, 84.1, 2.6463, 5.0, 296.0, 16.6, 395.5, 9.04] \n",
      "y = 23.6\n"
     ]
    }
   ],
   "source": [
    "(X_train, y_train), (X_test, y_test) = boston_housing.load_data(test_split = 0.2, seed = 42)\n",
    "\n",
    "print(f\"There are {X_train.shape[0]} records in the training set.\")\n",
    "print(f\"There are {X_test.shape[0]} records in the testing set.\")\n",
    "print(f\"The length of the input feature vector is {X_train.shape[1]}.\")\n",
    "\n",
    "i = 0\n",
    "print(f\"\\nExample of an input-output pair - \\nx = {X_train[i].tolist()} \\ny = {y_train[i].tolist()}\")"
   ]
  },
  {
   "cell_type": "markdown",
   "metadata": {},
   "source": [
    "### Making a train-validation split\n",
    "We will use a 75-25 split in the training dataset, which corresponds to a 60-20-20 split between train-validation-test sets."
   ]
  },
  {
   "cell_type": "code",
   "execution_count": 3,
   "metadata": {},
   "outputs": [
    {
     "name": "stdout",
     "output_type": "stream",
     "text": [
      "There are 303 records in the training set.\n",
      "There are 101 records in the validation set.\n"
     ]
    }
   ],
   "source": [
    "X_train, X_val, y_train, y_val = train_test_split(X_train, y_train, test_size = 0.25, random_state = 42)\n",
    "\n",
    "print(f\"There are {X_train.shape[0]} records in the training set.\")\n",
    "print(f\"There are {X_val.shape[0]} records in the validation set.\")"
   ]
  },
  {
   "cell_type": "markdown",
   "metadata": {},
   "source": [
    "### Standardizing the data\n",
    "Standardizing the data means to, for each feature, subtract the sample mean and divide by the sample standard deviation. This is also called feature standardization. <br>\n",
    "$$z = \\frac{x-\\mu}{\\sigma}$$ \n",
    "$$\\mu = \\frac{1}{N}\\sum_{i=1}^{N}X_i$$ \n",
    "$$\\sigma = \\sqrt{\\frac{1}{N}\\sum_{i=1}^{N}(X_i-\\mu)^2}$$ <br>\n",
    "The reason is that variables that are measured at different scales do not contribute equally to the model fitting and model learned function, and might end up creating a bias. <br><br>\n",
    "Remember to always fit the scaler on the training data, and use the same scaler for training, validation and testing sets, i.e., the mean and the standard deviation we use comes from the training set. This is because while training we don't access the validation or the testing data. So we have to use the mean and standard deviation coming from the training set. And since we have scaled the inputs according to these parameters during training, we have to use the same parameters while validating and testing as well."
   ]
  },
  {
   "cell_type": "code",
   "execution_count": 4,
   "metadata": {},
   "outputs": [
    {
     "name": "stdout",
     "output_type": "stream",
     "text": [
      "Example of an input before scaling - \n",
      "x = [24.8017, 0.0, 18.1, 0.0, 0.693, 5.349, 96.0, 1.7028, 24.0, 666.0, 20.2, 396.9, 19.77]\n",
      "\n",
      "The same input after scaling - \n",
      "X_scaled = [2.0301, -0.49, 0.9458, -0.2999, 1.1952, -1.3464, 0.9412, -0.9558, 1.6195, 1.4796, 0.8079, 0.4516, 0.96]\n"
     ]
    }
   ],
   "source": [
    "i = 0\n",
    "print(f\"Example of an input before scaling - \\nx = {X_train[i].tolist()}\")\n",
    "\n",
    "scaler = StandardScaler()\n",
    "scaler.fit(X_train)\n",
    "\n",
    "X_train_scaled = scaler.transform(X_train)\n",
    "X_val_scaled = scaler.transform(X_val)\n",
    "X_test_scaled = scaler.transform(X_test)\n",
    "\n",
    "print(f\"\\nThe same input after scaling - \\nX_scaled = {[round(x, 4) for x in X_train_scaled[i]]}\")"
   ]
  },
  {
   "cell_type": "markdown",
   "metadata": {},
   "source": [
    "### Model architecture"
   ]
  },
  {
   "cell_type": "code",
   "execution_count": 5,
   "metadata": {},
   "outputs": [],
   "source": [
    "def ModelRegression(hidden_layer_sizes = [16, 8, 4], \n",
    "                    num_input_features = 13, \n",
    "                    loss_fn = MeanSquaredError(reduction = 'sum_over_batch_size'), \n",
    "                    optimizer = Adam(learning_rate = 1e-3), \n",
    "                    metrics = []):\n",
    "    \n",
    "    model = Sequential(name = \"Regression\")\n",
    "    \n",
    "    model.add(Dense(hidden_layer_sizes[0], input_dim = num_input_features, activation = 'relu', name = 'hidden_1'))\n",
    "    \n",
    "    for i, hidden_layer_size in enumerate(hidden_layer_sizes[1:], 2):\n",
    "        model.add(Dense(hidden_layer_size, activation = 'relu', name = f'hidden_{i}'))\n",
    "        \n",
    "    model.add(Dense(1, name = 'output'))\n",
    "    \n",
    "    model.compile(loss = loss_fn, optimizer = optimizer, metrics = metrics)\n",
    "    \n",
    "    return model"
   ]
  },
  {
   "cell_type": "markdown",
   "metadata": {},
   "source": [
    "### Tuning model parameters\n",
    "We strongly encourage you to play with model parameters. For example, \n",
    "1. Try changing the hidden layer sizes, or adding additional layers\n",
    "2. Try using other loss functions (hint: check which ones we have imported)\n",
    "3. Try using other optimizers (hint: check which ones we have imported)\n",
    "\n",
    "Note: To check which parameters a class takes, open the parenthesis and press shift+tab. Alternatively (recommended), you can check out the documentation of the class provided online.\n",
    "\n",
    "Can you guess how many parameters the model has without running the cell below? You might need your calculators."
   ]
  },
  {
   "cell_type": "code",
   "execution_count": 6,
   "metadata": {},
   "outputs": [
    {
     "name": "stdout",
     "output_type": "stream",
     "text": [
      "Model: \"Regression\"\n",
      "_________________________________________________________________\n",
      "Layer (type)                 Output Shape              Param #   \n",
      "=================================================================\n",
      "hidden_1 (Dense)             (None, 16)                224       \n",
      "_________________________________________________________________\n",
      "hidden_2 (Dense)             (None, 8)                 136       \n",
      "_________________________________________________________________\n",
      "hidden_3 (Dense)             (None, 4)                 36        \n",
      "_________________________________________________________________\n",
      "output (Dense)               (None, 1)                 5         \n",
      "=================================================================\n",
      "Total params: 401\n",
      "Trainable params: 401\n",
      "Non-trainable params: 0\n",
      "_________________________________________________________________\n"
     ]
    }
   ],
   "source": [
    "modelRegression = ModelRegression(hidden_layer_sizes = [16, 8, 4], \n",
    "                                  num_input_features = X_train_scaled.shape[1], \n",
    "                                  loss_fn = MeanSquaredError(reduction = 'sum_over_batch_size'), \n",
    "                                  optimizer = Adam(learning_rate = 1e-3), \n",
    "                                  metrics = [])\n",
    "\n",
    "modelRegression.summary()"
   ]
  },
  {
   "cell_type": "markdown",
   "metadata": {},
   "source": [
    "### Training\n",
    "We have to specify how many times we want to iterate on the whole training set (epochs) and how many samples we use for one update to the model's weights (batch size). Generally the bigger the batch, the more stable our stochastic gradient descent updates will be. However, bigger batch sizes also take a long time to process. We have to select an optimal value, balancing the number of iterations and time taken for each iteration."
   ]
  },
  {
   "cell_type": "code",
   "execution_count": 7,
   "metadata": {},
   "outputs": [
    {
     "name": "stdout",
     "output_type": "stream",
     "text": [
      "Epoch 1/100\n",
      "19/19 [==============================] - 0s 22ms/step - loss: 562.6047 - val_loss: 544.1933\n",
      "Epoch 2/100\n",
      "19/19 [==============================] - 0s 4ms/step - loss: 542.1061 - val_loss: 522.1093\n",
      "Epoch 3/100\n",
      "19/19 [==============================] - 0s 4ms/step - loss: 515.1313 - val_loss: 492.5266\n",
      "Epoch 4/100\n",
      "19/19 [==============================] - 0s 4ms/step - loss: 479.8660 - val_loss: 452.7579\n",
      "Epoch 5/100\n",
      "19/19 [==============================] - 0s 4ms/step - loss: 433.2690 - val_loss: 398.8309\n",
      "Epoch 6/100\n",
      "19/19 [==============================] - 0s 5ms/step - loss: 366.9368 - val_loss: 312.5189\n",
      "Epoch 7/100\n",
      "19/19 [==============================] - 0s 5ms/step - loss: 266.6277 - val_loss: 200.6472\n",
      "Epoch 8/100\n",
      "19/19 [==============================] - 0s 6ms/step - loss: 162.9168 - val_loss: 114.1597\n",
      "Epoch 9/100\n",
      "19/19 [==============================] - 0s 6ms/step - loss: 96.1466 - val_loss: 69.3074\n",
      "Epoch 10/100\n",
      "19/19 [==============================] - 0s 5ms/step - loss: 67.0084 - val_loss: 53.3715\n",
      "Epoch 11/100\n",
      "19/19 [==============================] - 0s 4ms/step - loss: 55.0399 - val_loss: 43.5108\n",
      "Epoch 12/100\n",
      "19/19 [==============================] - 0s 4ms/step - loss: 46.6356 - val_loss: 36.1164\n",
      "Epoch 13/100\n",
      "19/19 [==============================] - 0s 4ms/step - loss: 40.4229 - val_loss: 30.9989\n",
      "Epoch 14/100\n",
      "19/19 [==============================] - 0s 4ms/step - loss: 36.1462 - val_loss: 27.5235\n",
      "Epoch 15/100\n",
      "19/19 [==============================] - 0s 5ms/step - loss: 33.3025 - val_loss: 25.1401\n",
      "Epoch 16/100\n",
      "19/19 [==============================] - 0s 6ms/step - loss: 31.1546 - val_loss: 23.3608\n",
      "Epoch 17/100\n",
      "19/19 [==============================] - 0s 6ms/step - loss: 29.6967 - val_loss: 22.0992\n",
      "Epoch 18/100\n",
      "19/19 [==============================] - 0s 6ms/step - loss: 28.3684 - val_loss: 21.0770\n",
      "Epoch 19/100\n",
      "19/19 [==============================] - 0s 6ms/step - loss: 27.3395 - val_loss: 20.1035\n",
      "Epoch 20/100\n",
      "19/19 [==============================] - 0s 6ms/step - loss: 26.4598 - val_loss: 19.3288\n",
      "Epoch 21/100\n",
      "19/19 [==============================] - 0s 6ms/step - loss: 25.7244 - val_loss: 18.6811\n",
      "Epoch 22/100\n",
      "19/19 [==============================] - 0s 5ms/step - loss: 25.1857 - val_loss: 18.2406\n",
      "Epoch 23/100\n",
      "19/19 [==============================] - 0s 4ms/step - loss: 24.2655 - val_loss: 17.5485\n",
      "Epoch 24/100\n",
      "19/19 [==============================] - 0s 5ms/step - loss: 23.7089 - val_loss: 17.0462\n",
      "Epoch 25/100\n",
      "19/19 [==============================] - 0s 6ms/step - loss: 23.1462 - val_loss: 16.4924\n",
      "Epoch 26/100\n",
      "19/19 [==============================] - 0s 6ms/step - loss: 22.6067 - val_loss: 16.1246\n",
      "Epoch 27/100\n",
      "19/19 [==============================] - 0s 6ms/step - loss: 22.1013 - val_loss: 15.7537\n",
      "Epoch 28/100\n",
      "19/19 [==============================] - 0s 4ms/step - loss: 21.5807 - val_loss: 15.4351\n",
      "Epoch 29/100\n",
      "19/19 [==============================] - 0s 4ms/step - loss: 21.1689 - val_loss: 15.0411\n",
      "Epoch 30/100\n",
      "19/19 [==============================] - 0s 5ms/step - loss: 20.6627 - val_loss: 14.6574\n",
      "Epoch 31/100\n",
      "19/19 [==============================] - 0s 6ms/step - loss: 20.3505 - val_loss: 14.3115\n",
      "Epoch 32/100\n",
      "19/19 [==============================] - 0s 5ms/step - loss: 19.8362 - val_loss: 14.0038\n",
      "Epoch 33/100\n",
      "19/19 [==============================] - 0s 4ms/step - loss: 19.3979 - val_loss: 13.7725\n",
      "Epoch 34/100\n",
      "19/19 [==============================] - 0s 4ms/step - loss: 19.1160 - val_loss: 13.5346\n",
      "Epoch 35/100\n",
      "19/19 [==============================] - 0s 4ms/step - loss: 18.5008 - val_loss: 13.2690\n",
      "Epoch 36/100\n",
      "19/19 [==============================] - 0s 5ms/step - loss: 18.1926 - val_loss: 12.9954\n",
      "Epoch 37/100\n",
      "19/19 [==============================] - 0s 4ms/step - loss: 17.7889 - val_loss: 12.8375\n",
      "Epoch 38/100\n",
      "19/19 [==============================] - 0s 5ms/step - loss: 17.5003 - val_loss: 12.4922\n",
      "Epoch 39/100\n",
      "19/19 [==============================] - 0s 6ms/step - loss: 17.0284 - val_loss: 12.3242\n",
      "Epoch 40/100\n",
      "19/19 [==============================] - 0s 4ms/step - loss: 16.6671 - val_loss: 12.2696\n",
      "Epoch 41/100\n",
      "19/19 [==============================] - 0s 4ms/step - loss: 16.2881 - val_loss: 11.7776\n",
      "Epoch 42/100\n",
      "19/19 [==============================] - 0s 4ms/step - loss: 15.9787 - val_loss: 11.7225\n",
      "Epoch 43/100\n",
      "19/19 [==============================] - 0s 4ms/step - loss: 15.7941 - val_loss: 11.5332\n",
      "Epoch 44/100\n",
      "19/19 [==============================] - 0s 4ms/step - loss: 15.3842 - val_loss: 11.4947\n",
      "Epoch 45/100\n",
      "19/19 [==============================] - 0s 5ms/step - loss: 15.0944 - val_loss: 11.3104\n",
      "Epoch 46/100\n",
      "19/19 [==============================] - 0s 4ms/step - loss: 14.8668 - val_loss: 11.1483\n",
      "Epoch 47/100\n",
      "19/19 [==============================] - 0s 4ms/step - loss: 14.7071 - val_loss: 10.9142\n",
      "Epoch 48/100\n",
      "19/19 [==============================] - 0s 5ms/step - loss: 14.4641 - val_loss: 11.0789\n",
      "Epoch 49/100\n",
      "19/19 [==============================] - 0s 5ms/step - loss: 14.2152 - val_loss: 10.7055\n",
      "Epoch 50/100\n",
      "19/19 [==============================] - 0s 5ms/step - loss: 13.9222 - val_loss: 10.7255\n",
      "Epoch 51/100\n",
      "19/19 [==============================] - 0s 5ms/step - loss: 13.7740 - val_loss: 10.5552\n",
      "Epoch 52/100\n",
      "19/19 [==============================] - 0s 6ms/step - loss: 13.4536 - val_loss: 10.5685\n",
      "Epoch 53/100\n",
      "19/19 [==============================] - 0s 5ms/step - loss: 13.3462 - val_loss: 10.3865\n",
      "Epoch 54/100\n",
      "19/19 [==============================] - 0s 4ms/step - loss: 13.0600 - val_loss: 10.2834\n",
      "Epoch 55/100\n",
      "19/19 [==============================] - 0s 4ms/step - loss: 12.9436 - val_loss: 10.2159\n",
      "Epoch 56/100\n",
      "19/19 [==============================] - 0s 12ms/step - loss: 12.6459 - val_loss: 10.0699\n",
      "Epoch 57/100\n",
      "19/19 [==============================] - 0s 5ms/step - loss: 12.4624 - val_loss: 10.1810\n",
      "Epoch 58/100\n",
      "19/19 [==============================] - 0s 4ms/step - loss: 12.2641 - val_loss: 9.9946\n",
      "Epoch 59/100\n",
      "19/19 [==============================] - 0s 4ms/step - loss: 12.0984 - val_loss: 9.8491\n",
      "Epoch 60/100\n",
      "19/19 [==============================] - 0s 5ms/step - loss: 12.0261 - val_loss: 9.8233\n",
      "Epoch 61/100\n",
      "19/19 [==============================] - 0s 4ms/step - loss: 11.8015 - val_loss: 9.9401\n",
      "Epoch 62/100\n",
      "19/19 [==============================] - 0s 5ms/step - loss: 11.6444 - val_loss: 9.6782\n",
      "Epoch 63/100\n",
      "19/19 [==============================] - 0s 6ms/step - loss: 11.5066 - val_loss: 9.6858\n",
      "Epoch 64/100\n",
      "19/19 [==============================] - 0s 5ms/step - loss: 11.3798 - val_loss: 9.6979\n",
      "Epoch 65/100\n",
      "19/19 [==============================] - 0s 6ms/step - loss: 11.3433 - val_loss: 9.5227\n",
      "Epoch 66/100\n",
      "19/19 [==============================] - 0s 5ms/step - loss: 11.1072 - val_loss: 9.6722\n",
      "Epoch 67/100\n",
      "19/19 [==============================] - 0s 4ms/step - loss: 11.0872 - val_loss: 9.5106\n",
      "Epoch 68/100\n",
      "19/19 [==============================] - 0s 4ms/step - loss: 10.9577 - val_loss: 9.4758\n",
      "Epoch 69/100\n",
      "19/19 [==============================] - 0s 5ms/step - loss: 10.7989 - val_loss: 9.5399\n",
      "Epoch 70/100\n",
      "19/19 [==============================] - 0s 5ms/step - loss: 10.6564 - val_loss: 9.2789\n",
      "Epoch 71/100\n",
      "19/19 [==============================] - 0s 6ms/step - loss: 10.7647 - val_loss: 9.4761\n",
      "Epoch 72/100\n",
      "19/19 [==============================] - 0s 5ms/step - loss: 10.3974 - val_loss: 9.3638\n",
      "Epoch 73/100\n",
      "19/19 [==============================] - 0s 5ms/step - loss: 10.4172 - val_loss: 9.4200\n",
      "Epoch 74/100\n",
      "19/19 [==============================] - 0s 6ms/step - loss: 10.3408 - val_loss: 9.4012\n",
      "Epoch 75/100\n",
      "19/19 [==============================] - 0s 6ms/step - loss: 10.2643 - val_loss: 9.3518\n",
      "Epoch 76/100\n",
      "19/19 [==============================] - 0s 6ms/step - loss: 10.1146 - val_loss: 9.3306\n",
      "Epoch 77/100\n",
      "19/19 [==============================] - 0s 5ms/step - loss: 10.0695 - val_loss: 9.1976\n",
      "Epoch 78/100\n",
      "19/19 [==============================] - 0s 4ms/step - loss: 9.9871 - val_loss: 9.3650\n",
      "Epoch 79/100\n",
      "19/19 [==============================] - 0s 4ms/step - loss: 9.8412 - val_loss: 9.3980\n",
      "Epoch 80/100\n",
      "19/19 [==============================] - 0s 4ms/step - loss: 9.7895 - val_loss: 9.4113\n",
      "Epoch 81/100\n",
      "19/19 [==============================] - 0s 4ms/step - loss: 9.7709 - val_loss: 9.3648\n",
      "Epoch 82/100\n",
      "19/19 [==============================] - 0s 5ms/step - loss: 9.6304 - val_loss: 9.4216\n",
      "Epoch 83/100\n",
      "19/19 [==============================] - 0s 6ms/step - loss: 9.5866 - val_loss: 9.2049\n",
      "Epoch 84/100\n",
      "19/19 [==============================] - 0s 4ms/step - loss: 9.5036 - val_loss: 9.3177\n",
      "Epoch 85/100\n",
      "19/19 [==============================] - 0s 4ms/step - loss: 9.5103 - val_loss: 9.3023\n",
      "Epoch 86/100\n",
      "19/19 [==============================] - 0s 5ms/step - loss: 9.3474 - val_loss: 9.3254\n",
      "Epoch 87/100\n",
      "19/19 [==============================] - 0s 5ms/step - loss: 9.3436 - val_loss: 9.2694\n",
      "Epoch 88/100\n",
      "19/19 [==============================] - 0s 4ms/step - loss: 9.3192 - val_loss: 9.3723\n",
      "Epoch 89/100\n",
      "19/19 [==============================] - 0s 4ms/step - loss: 9.1917 - val_loss: 9.2976\n",
      "Epoch 90/100\n",
      "19/19 [==============================] - 0s 4ms/step - loss: 9.0809 - val_loss: 9.3973\n",
      "Epoch 91/100\n",
      "19/19 [==============================] - 0s 4ms/step - loss: 9.0336 - val_loss: 9.4254\n",
      "Epoch 92/100\n",
      "19/19 [==============================] - 0s 4ms/step - loss: 9.0356 - val_loss: 9.3074\n",
      "Epoch 93/100\n",
      "19/19 [==============================] - 0s 4ms/step - loss: 8.9984 - val_loss: 9.4776\n",
      "Epoch 94/100\n",
      "19/19 [==============================] - 0s 4ms/step - loss: 8.8959 - val_loss: 9.4397\n",
      "Epoch 95/100\n",
      "19/19 [==============================] - 0s 5ms/step - loss: 8.8813 - val_loss: 9.4829\n",
      "Epoch 96/100\n",
      "19/19 [==============================] - 0s 5ms/step - loss: 8.8336 - val_loss: 9.3663\n",
      "Epoch 97/100\n",
      "19/19 [==============================] - 0s 6ms/step - loss: 8.9058 - val_loss: 9.3656\n",
      "Epoch 98/100\n",
      "19/19 [==============================] - 0s 6ms/step - loss: 8.7651 - val_loss: 9.4916\n",
      "Epoch 99/100\n",
      "19/19 [==============================] - 0s 5ms/step - loss: 8.6867 - val_loss: 9.3778\n",
      "Epoch 100/100\n",
      "19/19 [==============================] - 0s 4ms/step - loss: 8.6951 - val_loss: 9.6813\n"
     ]
    }
   ],
   "source": [
    "historyRegression = modelRegression.fit(X_train_scaled, \n",
    "                                        y_train, \n",
    "                                        epochs = 100, \n",
    "                                        batch_size = 16, \n",
    "                                        verbose = 1, \n",
    "                                        validation_data = (X_val_scaled, y_val))"
   ]
  },
  {
   "cell_type": "code",
   "execution_count": 8,
   "metadata": {},
   "outputs": [
    {
     "data": {
      "image/png": "[encoded data removed]",
      "text/plain": [
       "<Figure size 864x432 with 1 Axes>"
      ]
     },
     "metadata": {
      "needs_background": "light"
     },
     "output_type": "display_data"
    }
   ],
   "source": [
    "fontdict = {'family':'serif', 'color':'darkred', 'weight':'normal', 'size': 16}\n",
    "\n",
    "%matplotlib inline\n",
    "# %matplotlib qt\n",
    "plt.figure(figsize = (12, 6))\n",
    "plt.xlabel(\"Epoch\", fontdict = fontdict, labelpad = 12)\n",
    "plt.ylabel(\"Loss\", fontdict = fontdict, labelpad = 12)\n",
    "plt.title(\"Model Loss vs Epoch\", fontdict = fontdict, pad = 12)\n",
    "plt.plot(historyRegression.history['loss'], color = 'b')\n",
    "plt.plot(historyRegression.history['val_loss'], color = 'g')\n",
    "plt.legend(['Train', 'Validation'], fontsize = 12, loc = 'upper right')\n",
    "plt.grid()"
   ]
  },
  {
   "cell_type": "markdown",
   "metadata": {},
   "source": [
    "Can you reason why the validation loss is less than the training loss at some epoch levels?"
   ]
  },
  {
   "cell_type": "code",
   "execution_count": 9,
   "metadata": {},
   "outputs": [
    {
     "name": "stdout",
     "output_type": "stream",
     "text": [
      "4/4 [==============================] - 0s 3ms/step - loss: 15.7552\n",
      "MSE on test set = 15.75523\n"
     ]
    }
   ],
   "source": [
    "print(f\"MSE on test set = {round(modelRegression.evaluate(X_test_scaled, y_test), 5)}\")"
   ]
  },
  {
   "cell_type": "markdown",
   "metadata": {},
   "source": [
    "### Adding regularization using dropout\n",
    "Dropout refers to ignoring units (i.e. neurons) during the training phase of certain set of neurons which is chosen at random. These units are not considered during a particular forward or backward pass.\n",
    "\n",
    "#### But why use dropout?\n",
    "A fully connected layer occupies most of the parameters, and hence, neurons develop co-dependency amongst each other during training which curbs the individual power of each neuron leading to over-fitting of training data."
   ]
  },
  {
   "cell_type": "code",
   "execution_count": 10,
   "metadata": {},
   "outputs": [],
   "source": [
    "def ModelRegressionDropout(hidden_layer_sizes = [16, 8, 4], \n",
    "                           num_input_features = 13, \n",
    "                           dropout_prob = 0.2,\n",
    "                           loss_fn = MeanSquaredError(reduction = 'sum_over_batch_size'), \n",
    "                           optimizer = Adam(learning_rate = 1e-3), \n",
    "                           metrics = []):\n",
    "    \n",
    "    model = Sequential(name = \"Regression_with_Dropout\")\n",
    "    \n",
    "    model.add(Dense(hidden_layer_sizes[0], input_dim = num_input_features, activation = 'relu', name = 'hidden_1'))\n",
    "    model.add(Dropout(dropout_prob, name = 'dropout_1'))\n",
    "    \n",
    "    for i, hidden_layer_size in enumerate(hidden_layer_sizes[1:], 2):\n",
    "        model.add(Dense(hidden_layer_size, activation = 'relu', name = f'hidden_{i}'))\n",
    "        model.add(Dropout(dropout_prob, name = f'dropout_{i}'))\n",
    "        \n",
    "    model.add(Dense(1, name = 'output'))\n",
    "    \n",
    "    model.compile(loss = loss_fn, optimizer = optimizer, metrics = metrics)\n",
    "    \n",
    "    return model"
   ]
  },
  {
   "cell_type": "code",
   "execution_count": 11,
   "metadata": {},
   "outputs": [
    {
     "name": "stdout",
     "output_type": "stream",
     "text": [
      "Model: \"Regression_with_Dropout\"\n",
      "_________________________________________________________________\n",
      "Layer (type)                 Output Shape              Param #   \n",
      "=================================================================\n",
      "hidden_1 (Dense)             (None, 16)                224       \n",
      "_________________________________________________________________\n",
      "dropout_1 (Dropout)          (None, 16)                0         \n",
      "_________________________________________________________________\n",
      "hidden_2 (Dense)             (None, 8)                 136       \n",
      "_________________________________________________________________\n",
      "dropout_2 (Dropout)          (None, 8)                 0         \n",
      "_________________________________________________________________\n",
      "hidden_3 (Dense)             (None, 4)                 36        \n",
      "_________________________________________________________________\n",
      "dropout_3 (Dropout)          (None, 4)                 0         \n",
      "_________________________________________________________________\n",
      "output (Dense)               (None, 1)                 5         \n",
      "=================================================================\n",
      "Total params: 401\n",
      "Trainable params: 401\n",
      "Non-trainable params: 0\n",
      "_________________________________________________________________\n"
     ]
    }
   ],
   "source": [
    "modelRegressionDropout = ModelRegressionDropout(hidden_layer_sizes = [16, 8, 4], \n",
    "                                                num_input_features = X_train_scaled.shape[1], \n",
    "                                                dropout_prob = 0.2,\n",
    "                                                loss_fn = MeanSquaredError(reduction = 'sum_over_batch_size'), \n",
    "                                                optimizer = Adam(learning_rate = 1e-3), \n",
    "                                                metrics = [])\n",
    "\n",
    "modelRegressionDropout.summary()"
   ]
  },
  {
   "cell_type": "code",
   "execution_count": 12,
   "metadata": {
    "scrolled": false
   },
   "outputs": [
    {
     "name": "stdout",
     "output_type": "stream",
     "text": [
      "Epoch 1/100\n",
      "19/19 [==============================] - 0s 7ms/step - loss: 574.1732 - val_loss: 560.6602\n",
      "Epoch 2/100\n",
      "19/19 [==============================] - 0s 4ms/step - loss: 559.5909 - val_loss: 542.2095\n",
      "Epoch 3/100\n",
      "19/19 [==============================] - 0s 4ms/step - loss: 538.8913 - val_loss: 514.3804\n",
      "Epoch 4/100\n",
      "19/19 [==============================] - 0s 6ms/step - loss: 502.6173 - val_loss: 475.9103\n",
      "Epoch 5/100\n",
      "19/19 [==============================] - 0s 5ms/step - loss: 457.9432 - val_loss: 422.7727\n",
      "Epoch 6/100\n",
      "19/19 [==============================] - 0s 5ms/step - loss: 395.4220 - val_loss: 353.1702\n",
      "Epoch 7/100\n",
      "19/19 [==============================] - 0s 4ms/step - loss: 323.6122 - val_loss: 273.2708\n",
      "Epoch 8/100\n",
      "19/19 [==============================] - 0s 4ms/step - loss: 274.8430 - val_loss: 198.3204\n",
      "Epoch 9/100\n",
      "19/19 [==============================] - 0s 4ms/step - loss: 215.7753 - val_loss: 136.9394\n",
      "Epoch 10/100\n",
      "19/19 [==============================] - 0s 5ms/step - loss: 201.9480 - val_loss: 97.8908\n",
      "Epoch 11/100\n",
      "19/19 [==============================] - 0s 4ms/step - loss: 205.9465 - val_loss: 77.3198\n",
      "Epoch 12/100\n",
      "19/19 [==============================] - 0s 4ms/step - loss: 181.4541 - val_loss: 71.3766\n",
      "Epoch 13/100\n",
      "19/19 [==============================] - 0s 5ms/step - loss: 160.4691 - val_loss: 67.1246\n",
      "Epoch 14/100\n",
      "19/19 [==============================] - 0s 5ms/step - loss: 154.9552 - val_loss: 55.8917\n",
      "Epoch 15/100\n",
      "19/19 [==============================] - 0s 4ms/step - loss: 158.5347 - val_loss: 53.5849\n",
      "Epoch 16/100\n",
      "19/19 [==============================] - 0s 4ms/step - loss: 160.2083 - val_loss: 59.4719\n",
      "Epoch 17/100\n",
      "19/19 [==============================] - 0s 6ms/step - loss: 142.2005 - val_loss: 57.1383\n",
      "Epoch 18/100\n",
      "19/19 [==============================] - 0s 5ms/step - loss: 149.4973 - val_loss: 53.3198\n",
      "Epoch 19/100\n",
      "19/19 [==============================] - 0s 4ms/step - loss: 139.7279 - val_loss: 46.4006\n",
      "Epoch 20/100\n",
      "19/19 [==============================] - 0s 4ms/step - loss: 153.7469 - val_loss: 42.7670\n",
      "Epoch 21/100\n",
      "19/19 [==============================] - 0s 4ms/step - loss: 128.0016 - val_loss: 50.8456\n",
      "Epoch 22/100\n",
      "19/19 [==============================] - 0s 5ms/step - loss: 125.2713 - val_loss: 50.6162\n",
      "Epoch 23/100\n",
      "19/19 [==============================] - 0s 5ms/step - loss: 138.1567 - val_loss: 44.1342\n",
      "Epoch 24/100\n",
      "19/19 [==============================] - 0s 5ms/step - loss: 131.1571 - val_loss: 47.3835\n",
      "Epoch 25/100\n",
      "19/19 [==============================] - 0s 5ms/step - loss: 126.1424 - val_loss: 44.4786\n",
      "Epoch 26/100\n",
      "19/19 [==============================] - 0s 4ms/step - loss: 141.7209 - val_loss: 41.9411\n",
      "Epoch 27/100\n",
      "19/19 [==============================] - 0s 6ms/step - loss: 123.3593 - val_loss: 41.9575\n",
      "Epoch 28/100\n",
      "19/19 [==============================] - 0s 6ms/step - loss: 122.0419 - val_loss: 34.6122\n",
      "Epoch 29/100\n",
      "19/19 [==============================] - 0s 5ms/step - loss: 110.3268 - val_loss: 32.0163\n",
      "Epoch 30/100\n",
      "19/19 [==============================] - 0s 6ms/step - loss: 125.5740 - val_loss: 33.6183\n",
      "Epoch 31/100\n",
      "19/19 [==============================] - 0s 5ms/step - loss: 132.2158 - val_loss: 29.8376\n",
      "Epoch 32/100\n",
      "19/19 [==============================] - 0s 6ms/step - loss: 137.3733 - val_loss: 26.2695\n",
      "Epoch 33/100\n",
      "19/19 [==============================] - 0s 4ms/step - loss: 96.4093 - val_loss: 20.8423\n",
      "Epoch 34/100\n",
      "19/19 [==============================] - 0s 4ms/step - loss: 115.2869 - val_loss: 24.6866\n",
      "Epoch 35/100\n",
      "19/19 [==============================] - 0s 5ms/step - loss: 87.2882 - val_loss: 25.0429\n",
      "Epoch 36/100\n",
      "19/19 [==============================] - 0s 16ms/step - loss: 117.5386 - val_loss: 24.0224\n",
      "Epoch 37/100\n",
      "19/19 [==============================] - 0s 6ms/step - loss: 94.2287 - val_loss: 27.7313\n",
      "Epoch 38/100\n",
      "19/19 [==============================] - 0s 4ms/step - loss: 108.8877 - val_loss: 28.2362\n",
      "Epoch 39/100\n",
      "19/19 [==============================] - 0s 4ms/step - loss: 108.7672 - val_loss: 27.1713\n",
      "Epoch 40/100\n",
      "19/19 [==============================] - 0s 4ms/step - loss: 104.6888 - val_loss: 24.9711\n",
      "Epoch 41/100\n",
      "19/19 [==============================] - 0s 4ms/step - loss: 99.6290 - val_loss: 20.8853\n",
      "Epoch 42/100\n",
      "19/19 [==============================] - 0s 5ms/step - loss: 86.7816 - val_loss: 20.1769\n",
      "Epoch 43/100\n",
      "19/19 [==============================] - 0s 5ms/step - loss: 98.6052 - val_loss: 25.8355\n",
      "Epoch 44/100\n",
      "19/19 [==============================] - 0s 5ms/step - loss: 102.2579 - val_loss: 24.7360\n",
      "Epoch 45/100\n",
      "19/19 [==============================] - 0s 6ms/step - loss: 106.9538 - val_loss: 20.5155\n",
      "Epoch 46/100\n",
      "19/19 [==============================] - 0s 6ms/step - loss: 115.2846 - val_loss: 23.7689\n",
      "Epoch 47/100\n",
      "19/19 [==============================] - 0s 7ms/step - loss: 100.2232 - val_loss: 25.0650\n",
      "Epoch 48/100\n",
      "19/19 [==============================] - 0s 5ms/step - loss: 98.6624 - val_loss: 23.4013\n",
      "Epoch 49/100\n",
      "19/19 [==============================] - 0s 5ms/step - loss: 106.5869 - val_loss: 20.9718\n",
      "Epoch 50/100\n",
      "19/19 [==============================] - 0s 5ms/step - loss: 105.5081 - val_loss: 20.0228\n",
      "Epoch 51/100\n",
      "19/19 [==============================] - 0s 5ms/step - loss: 98.5309 - val_loss: 18.5150\n",
      "Epoch 52/100\n",
      "19/19 [==============================] - 0s 5ms/step - loss: 88.3537 - val_loss: 18.2791\n",
      "Epoch 53/100\n",
      "19/19 [==============================] - 0s 5ms/step - loss: 90.7645 - val_loss: 19.6692\n",
      "Epoch 54/100\n",
      "19/19 [==============================] - 0s 5ms/step - loss: 112.2862 - val_loss: 23.5324\n",
      "Epoch 55/100\n",
      "19/19 [==============================] - 0s 6ms/step - loss: 85.5054 - val_loss: 20.6586\n",
      "Epoch 56/100\n",
      "19/19 [==============================] - 0s 5ms/step - loss: 85.6048 - val_loss: 16.2293\n",
      "Epoch 57/100\n",
      "19/19 [==============================] - 0s 6ms/step - loss: 94.9484 - val_loss: 18.3156\n",
      "Epoch 58/100\n",
      "19/19 [==============================] - 0s 5ms/step - loss: 100.4505 - val_loss: 18.4029\n",
      "Epoch 59/100\n",
      "19/19 [==============================] - 0s 4ms/step - loss: 98.7968 - val_loss: 19.1147\n",
      "Epoch 60/100\n",
      "19/19 [==============================] - 0s 4ms/step - loss: 111.1833 - val_loss: 18.2417\n",
      "Epoch 61/100\n",
      "19/19 [==============================] - 0s 4ms/step - loss: 83.6409 - val_loss: 17.3162\n",
      "Epoch 62/100\n",
      "19/19 [==============================] - 0s 5ms/step - loss: 82.5133 - val_loss: 16.9303\n",
      "Epoch 63/100\n",
      "19/19 [==============================] - 0s 6ms/step - loss: 98.2030 - val_loss: 23.4118\n",
      "Epoch 64/100\n",
      "19/19 [==============================] - 0s 6ms/step - loss: 97.2986 - val_loss: 18.8986\n",
      "Epoch 65/100\n",
      "19/19 [==============================] - 0s 5ms/step - loss: 87.5254 - val_loss: 16.1128\n",
      "Epoch 66/100\n",
      "19/19 [==============================] - 0s 4ms/step - loss: 85.3953 - val_loss: 19.0005\n",
      "Epoch 67/100\n",
      "19/19 [==============================] - 0s 4ms/step - loss: 91.7827 - val_loss: 15.6827\n",
      "Epoch 68/100\n",
      "19/19 [==============================] - 0s 4ms/step - loss: 85.6553 - val_loss: 16.9119\n",
      "Epoch 69/100\n",
      "19/19 [==============================] - 0s 4ms/step - loss: 93.5018 - val_loss: 14.7416\n",
      "Epoch 70/100\n",
      "19/19 [==============================] - 0s 4ms/step - loss: 87.5113 - val_loss: 13.8876\n",
      "Epoch 71/100\n",
      "19/19 [==============================] - 0s 4ms/step - loss: 90.4299 - val_loss: 17.1108\n",
      "Epoch 72/100\n",
      "19/19 [==============================] - 0s 4ms/step - loss: 78.6464 - val_loss: 16.1503\n",
      "Epoch 73/100\n",
      "19/19 [==============================] - 0s 5ms/step - loss: 85.7997 - val_loss: 16.8848\n",
      "Epoch 74/100\n",
      "19/19 [==============================] - 0s 4ms/step - loss: 89.7858 - val_loss: 15.8651\n",
      "Epoch 75/100\n",
      "19/19 [==============================] - 0s 4ms/step - loss: 83.8295 - val_loss: 16.3304\n",
      "Epoch 76/100\n",
      "19/19 [==============================] - 0s 5ms/step - loss: 85.0543 - val_loss: 12.7231\n",
      "Epoch 77/100\n",
      "19/19 [==============================] - 0s 5ms/step - loss: 95.9948 - val_loss: 14.1491\n",
      "Epoch 78/100\n",
      "19/19 [==============================] - 0s 5ms/step - loss: 88.7532 - val_loss: 16.1809\n",
      "Epoch 79/100\n",
      "19/19 [==============================] - 0s 5ms/step - loss: 82.2929 - val_loss: 13.8052\n",
      "Epoch 80/100\n",
      "19/19 [==============================] - 0s 6ms/step - loss: 80.4510 - val_loss: 14.0918\n"
     ]
    },
    {
     "name": "stdout",
     "output_type": "stream",
     "text": [
      "Epoch 81/100\n",
      "19/19 [==============================] - 0s 4ms/step - loss: 79.9167 - val_loss: 16.0912\n",
      "Epoch 82/100\n",
      "19/19 [==============================] - 0s 4ms/step - loss: 81.1609 - val_loss: 15.4336\n",
      "Epoch 83/100\n",
      "19/19 [==============================] - 0s 5ms/step - loss: 79.5602 - val_loss: 13.4638\n",
      "Epoch 84/100\n",
      "19/19 [==============================] - 0s 6ms/step - loss: 95.7288 - val_loss: 12.8852\n",
      "Epoch 85/100\n",
      "19/19 [==============================] - 0s 6ms/step - loss: 75.9542 - val_loss: 16.7429\n",
      "Epoch 86/100\n",
      "19/19 [==============================] - 0s 6ms/step - loss: 75.3170 - val_loss: 17.5540\n",
      "Epoch 87/100\n",
      "19/19 [==============================] - 0s 6ms/step - loss: 79.4462 - val_loss: 17.4138\n",
      "Epoch 88/100\n",
      "19/19 [==============================] - 0s 6ms/step - loss: 82.9246 - val_loss: 14.5896\n",
      "Epoch 89/100\n",
      "19/19 [==============================] - 0s 6ms/step - loss: 87.3448 - val_loss: 13.3156\n",
      "Epoch 90/100\n",
      "19/19 [==============================] - 0s 6ms/step - loss: 80.9857 - val_loss: 13.3539\n",
      "Epoch 91/100\n",
      "19/19 [==============================] - 0s 6ms/step - loss: 76.2627 - val_loss: 11.8509\n",
      "Epoch 92/100\n",
      "19/19 [==============================] - 0s 5ms/step - loss: 74.2058 - val_loss: 13.8267\n",
      "Epoch 93/100\n",
      "19/19 [==============================] - 0s 6ms/step - loss: 84.6259 - val_loss: 12.2222\n",
      "Epoch 94/100\n",
      "19/19 [==============================] - 0s 5ms/step - loss: 86.8895 - val_loss: 13.2776\n",
      "Epoch 95/100\n",
      "19/19 [==============================] - 0s 4ms/step - loss: 85.9499 - val_loss: 14.1094\n",
      "Epoch 96/100\n",
      "19/19 [==============================] - 0s 5ms/step - loss: 78.4219 - val_loss: 13.9652\n",
      "Epoch 97/100\n",
      "19/19 [==============================] - 0s 6ms/step - loss: 84.0834 - val_loss: 14.0240\n",
      "Epoch 98/100\n",
      "19/19 [==============================] - 0s 5ms/step - loss: 71.3310 - val_loss: 14.1062\n",
      "Epoch 99/100\n",
      "19/19 [==============================] - 0s 6ms/step - loss: 72.0561 - val_loss: 14.4573\n",
      "Epoch 100/100\n",
      "19/19 [==============================] - 0s 6ms/step - loss: 69.9875 - val_loss: 14.4525\n"
     ]
    }
   ],
   "source": [
    "historyRegressionDropout = modelRegressionDropout.fit(X_train_scaled, \n",
    "                                                      y_train, \n",
    "                                                      epochs = 100, \n",
    "                                                      batch_size = 16, \n",
    "                                                      verbose = 1,\n",
    "                                                      validation_data = (X_val_scaled, y_val))"
   ]
  },
  {
   "cell_type": "code",
   "execution_count": 13,
   "metadata": {},
   "outputs": [
    {
     "data": {
      "image/png": "[encoded data removed]",
      "text/plain": [
       "<Figure size 864x432 with 1 Axes>"
      ]
     },
     "metadata": {
      "needs_background": "light"
     },
     "output_type": "display_data"
    }
   ],
   "source": [
    "fontdict = {'family':'serif', 'color':'darkred', 'weight':'normal', 'size': 16}\n",
    "\n",
    "plt.figure(figsize = (12, 6))\n",
    "plt.xlabel(\"Epoch\", fontdict = fontdict, labelpad = 12)\n",
    "plt.ylabel(\"Loss\", fontdict = fontdict, labelpad = 12)\n",
    "plt.title(\"Model Loss vs Epoch\", fontdict = fontdict, pad = 12)\n",
    "plt.plot(historyRegressionDropout.history['loss'], color = 'b')\n",
    "plt.plot(historyRegressionDropout.history['val_loss'], color = 'g')\n",
    "plt.legend(['Train', 'Validation'], fontsize = 12, loc = 'upper right')\n",
    "plt.grid()\n",
    "plt.show()"
   ]
  },
  {
   "cell_type": "code",
   "execution_count": 14,
   "metadata": {},
   "outputs": [
    {
     "name": "stdout",
     "output_type": "stream",
     "text": [
      "4/4 [==============================] - 0s 1ms/step - loss: 22.9519\n",
      "MSE on test set = 22.95189\n"
     ]
    }
   ],
   "source": [
    "print(f\"MSE on test set = {round(modelRegressionDropout.evaluate(X_test_scaled, y_test), 5)}\")"
   ]
  },
  {
   "cell_type": "markdown",
   "metadata": {},
   "source": [
    "# Classification\n",
    "### Loading the data\n",
    "The MNIST database (Modified National Institute of Standards and Technology database) is a large database of handwritten digits that is commonly used for training various image processing systems. The MNIST database contains 60,000 training images and 10,000 testing images. The images are in grayscale and have size (28, 28)."
   ]
  },
  {
   "cell_type": "code",
   "execution_count": 15,
   "metadata": {},
   "outputs": [
    {
     "name": "stdout",
     "output_type": "stream",
     "text": [
      "There are 60000 records in the training set.\n",
      "There are 10000 records in the testing set.\n",
      "The shape of each input is (28, 28).\n"
     ]
    }
   ],
   "source": [
    "(X_train, y_train), (X_test, y_test) = mnist.load_data()\n",
    "\n",
    "print(f\"There are {X_train.shape[0]} records in the training set.\")\n",
    "print(f\"There are {X_test.shape[0]} records in the testing set.\")\n",
    "print(f\"The shape of each input is {X_train[0].shape}.\")"
   ]
  },
  {
   "cell_type": "markdown",
   "metadata": {},
   "source": [
    "### Making a train-validation split"
   ]
  },
  {
   "cell_type": "code",
   "execution_count": 16,
   "metadata": {},
   "outputs": [
    {
     "name": "stdout",
     "output_type": "stream",
     "text": [
      "There are 45000 records in the training set.\n",
      "There are 15000 records in the validation set.\n"
     ]
    }
   ],
   "source": [
    "X_train, X_val, y_train, y_val = train_test_split(X_train, y_train, test_size = 0.25, random_state = 42)\n",
    "\n",
    "print(f\"There are {X_train.shape[0]} records in the training set.\")\n",
    "print(f\"There are {X_val.shape[0]} records in the validation set.\")"
   ]
  },
  {
   "cell_type": "markdown",
   "metadata": {},
   "source": [
    "### Exploration"
   ]
  },
  {
   "cell_type": "markdown",
   "metadata": {},
   "source": [
    "Let's inspect a few examples. The MNIST dataset contains only grayscale images. For more advanced image datasets, we'll have the three color channels (RGB)."
   ]
  },
  {
   "cell_type": "code",
   "execution_count": 17,
   "metadata": {},
   "outputs": [
    {
     "data": {
      "image/png": "[encoded data removed]",
      "text/plain": [
       "<Figure size 864x432 with 9 Axes>"
      ]
     },
     "metadata": {},
     "output_type": "display_data"
    }
   ],
   "source": [
    "%matplotlib inline\n",
    "\n",
    "plt.figure(figsize = (12, 6))\n",
    "for i in range(9):\n",
    "    plt.subplot(3, 3, i+1)\n",
    "    plt.tight_layout()\n",
    "    plt.imshow(X_train[i], cmap = 'gray', interpolation = 'none')\n",
    "    plt.title(f\"Digit: {y_train[i]}\")\n",
    "    plt.xticks([])\n",
    "    plt.yticks([])"
   ]
  },
  {
   "cell_type": "markdown",
   "metadata": {},
   "source": [
    "In order to train our neural network to classify images we first have to unroll the height $\\times$ width pixel format into one big vector - the input vector. So its length must be $28 \\cdot 28 = 784$. But let's graph the distribution of our pixel values."
   ]
  },
  {
   "cell_type": "code",
   "execution_count": 18,
   "metadata": {
    "scrolled": false
   },
   "outputs": [
    {
     "data": {
      "image/png": "[encoded data removed]",
      "text/plain": [
       "<Figure size 864x648 with 2 Axes>"
      ]
     },
     "metadata": {
      "needs_background": "light"
     },
     "output_type": "display_data"
    }
   ],
   "source": [
    "%matplotlib inline\n",
    "\n",
    "i = 0\n",
    "fig = plt.figure(figsize = (12, 9))\n",
    "\n",
    "plt.subplot(2, 1, 1)\n",
    "plt.imshow(X_train[0], cmap = 'gray', interpolation = 'none')\n",
    "plt.title(f\"Digit: {y_train[0]}\")\n",
    "plt.xticks([])\n",
    "plt.yticks([])\n",
    "plt.subplot(2, 1, 2)\n",
    "plt.hist(X_train[i].reshape(784))\n",
    "plt.title(\"Pixel Value Distribution\")\n",
    "\n",
    "None"
   ]
  },
  {
   "cell_type": "markdown",
   "metadata": {},
   "source": [
    "As expected, the pixel values range from 0 to 255: the background majority close to 0, and those close to 255 representing the digit.\n",
    "\n",
    "### Normalizing the data\n",
    "Normalizing the input data helps to speed up the training. Also, it reduces the chance of getting stuck in local optima, since we're using gradient descent to find the optimal weights for the network.\n",
    "\n",
    "Let's reshape our inputs to a single vector and normalize the pixel values to lie between 0 and 1."
   ]
  },
  {
   "cell_type": "code",
   "execution_count": 19,
   "metadata": {},
   "outputs": [
    {
     "name": "stdout",
     "output_type": "stream",
     "text": [
      "The shape of each input is (28, 28).\n",
      "The length of each input is 784.\n"
     ]
    }
   ],
   "source": [
    "print(f\"The shape of each input is {X_train[0].shape}.\")\n",
    "\n",
    "training_examples = X_train.shape[0]\n",
    "X_train = X_train.reshape(training_examples, -1)\n",
    "\n",
    "validation_examples = X_val.shape[0]\n",
    "X_val = X_val.reshape(validation_examples, -1)\n",
    "\n",
    "testing_examples = X_test.shape[0]\n",
    "X_test = X_test.reshape(testing_examples, -1)\n",
    "\n",
    "print(f\"The length of each input is {np.squeeze(X_train[0].shape)}.\")"
   ]
  },
  {
   "cell_type": "code",
   "execution_count": 20,
   "metadata": {},
   "outputs": [],
   "source": [
    "scaler = MinMaxScaler()\n",
    "scaler.fit(X_train)\n",
    "\n",
    "X_train_scaled = scaler.transform(X_train)\n",
    "X_val_scaled = scaler.transform(X_val)\n",
    "X_test_scaled = scaler.transform(X_test)"
   ]
  },
  {
   "cell_type": "code",
   "execution_count": 21,
   "metadata": {},
   "outputs": [
    {
     "name": "stdout",
     "output_type": "stream",
     "text": [
      "\n",
      "Example of an input - \n",
      "x = \n",
      "[[  0   0   0   0   0   0   0   0   0   0   0   0   0   0   0   0   0   0   0   0   0   0   0   0   0   0   0   0]\n",
      " [  0   0   0   0   0   0   0   0   0   0   0   0   0   0   0   0   0   0   0   0   0   0   0   0   0   0   0   0]\n",
      " [  0   0   0   0   0   0   0   0   0   0   0   0   0   0   0   0   0   0   0   0   0   0   0   0   0   0   0   0]\n",
      " [  0   0   0   0   0   0   0   0   0   0   0   0   0   0   0   0   0   0   0   0   0   0   0   0   0   0   0   0]\n",
      " [  0   0   0   0   0   0   0   0   0   0   0   0   0  11 130 193 116   6   0   0   0   0   0   0   0   0   0   0]\n",
      " [  0   0   0   0   0   0   0   0   0   0   0   0  12 172 253 254 253 190  37   0   0   0   0   0   0   0   0   0]\n",
      " [  0   0   0   0   0   0   0   0   0   0   0   0 136 253 253 254 210 253 221  35   0   0   0   0   0   0   0   0]\n",
      " [  0   0   0   0   0   0   0   0   0   0   0  69 250 253 186 107   6  98 253  88   0   0   0   0   0   0   0   0]\n",
      " [  0   0   0   0   0   0   0   0   0   0   0 122 253 253  33   0   0   0 243 160   0   0   0   0   0   0   0   0]\n",
      " [  0   0   0   0   0   0   0   0   0   0   0 209 253 192   7   0   0   0 205 242  43   0   0   0   0   0   0   0]\n",
      " [  0   0   0   0   0   0   0   0   0   0  87 252 251 121   0   0   0   0 133 253  60   0   0   0   0   0   0   0]\n",
      " [  0   0   0   0   0   0   0   0   0   0 199 253 209   0   0   0   0   0 133 253 165   0   0   0   0   0   0   0]\n",
      " [  0   0   0   0   0   0   0   0   0  42 239 253 175   0   0   0   0   0 100 253 165   0   0   0   0   0   0   0]\n",
      " [  0   0   0   0   0   0   0   0   0 104 253 249  56   0   0   0   0   0  71 253 165   0   0   0   0   0   0   0]\n",
      " [  0   0   0   0   0   0   0   0   0 167 254 229   0   0   0   0   0   0 196 254 151   0   0   0   0   0   0   0]\n",
      " [  0   0   0   0   0   0   0   0  16 227 253 131   0   0   0   0   0   0 243 253  55   0   0   0   0   0   0   0]\n",
      " [  0   0   0   0   0   0   0   0  23 253 253 131   0   0   0   0   0  40 247 232  33   0   0   0   0   0   0   0]\n",
      " [  0   0   0   0   0   0   0   0  23 253 253 131   0   0   0   0   0 110 253 140   0   0   0   0   0   0   0   0]\n",
      " [  0   0   0   0   0   0   0   0  23 253 253 131   0   0   0   0  44 238 249  69   0   0   0   0   0   0   0   0]\n",
      " [  0   0   0   0   0   0   0   0  23 253 253 131   0   0   0  65 213 253 154   0   0   0   0   0   0   0   0   0]\n",
      " [  0   0   0   0   0   0   0   0  23 253 253 131   0   0  10 197 253 249  10   0   0   0   0   0   0   0   0   0]\n",
      " [  0   0   0   0   0   0   0   0  19 238 253 206 155 155 241 255 213  60   0   0   0   0   0   0   0   0   0   0]\n",
      " [  0   0   0   0   0   0   0   0   0 132 253 253 253 253 253 210  82   0   0   0   0   0   0   0   0   0   0   0]\n",
      " [  0   0   0   0   0   0   0   0   0   8 120 244 253 253 109  15   0   0   0   0   0   0   0   0   0   0   0   0]\n",
      " [  0   0   0   0   0   0   0   0   0   0   0   0   0   0   0   0   0   0   0   0   0   0   0   0   0   0   0   0]\n",
      " [  0   0   0   0   0   0   0   0   0   0   0   0   0   0   0   0   0   0   0   0   0   0   0   0   0   0   0   0]\n",
      " [  0   0   0   0   0   0   0   0   0   0   0   0   0   0   0   0   0   0   0   0   0   0   0   0   0   0   0   0]\n",
      " [  0   0   0   0   0   0   0   0   0   0   0   0   0   0   0   0   0   0   0   0   0   0   0   0   0   0   0   0]]\n",
      "\n",
      "The same input after scaling - \n",
      "x = \n",
      "[[0.  0.  0.  0.  0.  0.  0.  0.  0.  0.  0.  0.  0.  0.  0.  0.  0.  0.  0.  0.  0.  0.  0.  0.  0.  0.  0.  0. ]\n",
      " [0.  0.  0.  0.  0.  0.  0.  0.  0.  0.  0.  0.  0.  0.  0.  0.  0.  0.  0.  0.  0.  0.  0.  0.  0.  0.  0.  0. ]\n",
      " [0.  0.  0.  0.  0.  0.  0.  0.  0.  0.  0.  0.  0.  0.  0.  0.  0.  0.  0.  0.  0.  0.  0.  0.  0.  0.  0.  0. ]\n",
      " [0.  0.  0.  0.  0.  0.  0.  0.  0.  0.  0.  0.  0.  0.  0.  0.  0.  0.  0.  0.  0.  0.  0.  0.  0.  0.  0.  0. ]\n",
      " [0.  0.  0.  0.  0.  0.  0.  0.  0.  0.  0.  0.  0.  0.  0.5 0.8 0.5 0.  0.  0.  0.  0.  0.  0.  0.  0.  0.  0. ]\n",
      " [0.  0.  0.  0.  0.  0.  0.  0.  0.  0.  0.  0.  0.  0.7 1.  1.  1.  0.7 0.1 0.  0.  0.  0.  0.  0.  0.  0.  0. ]\n",
      " [0.  0.  0.  0.  0.  0.  0.  0.  0.  0.  0.  0.  0.5 1.  1.  1.  0.8 1.  0.9 0.1 0.  0.  0.  0.  0.  0.  0.  0. ]\n",
      " [0.  0.  0.  0.  0.  0.  0.  0.  0.  0.  0.  0.3 1.  1.  0.7 0.4 0.  0.4 1.  0.3 0.  0.  0.  0.  0.  0.  0.  0. ]\n",
      " [0.  0.  0.  0.  0.  0.  0.  0.  0.  0.  0.  0.5 1.  1.  0.1 0.  0.  0.  1.  0.6 0.  0.  0.  0.  0.  0.  0.  0. ]\n",
      " [0.  0.  0.  0.  0.  0.  0.  0.  0.  0.  0.  0.8 1.  0.8 0.  0.  0.  0.  0.8 0.9 0.2 0.  0.  0.  0.  0.  0.  0. ]\n",
      " [0.  0.  0.  0.  0.  0.  0.  0.  0.  0.  0.3 1.  1.  0.5 0.  0.  0.  0.  0.5 1.  0.2 0.  0.  0.  0.  0.  0.  0. ]\n",
      " [0.  0.  0.  0.  0.  0.  0.  0.  0.  0.  0.8 1.  0.8 0.  0.  0.  0.  0.  0.5 1.  0.6 0.  0.  0.  0.  0.  0.  0. ]\n",
      " [0.  0.  0.  0.  0.  0.  0.  0.  0.  0.2 0.9 1.  0.7 0.  0.  0.  0.  0.  0.4 1.  0.6 0.  0.  0.  0.  0.  0.  0. ]\n",
      " [0.  0.  0.  0.  0.  0.  0.  0.  0.  0.4 1.  1.  0.2 0.  0.  0.  0.  0.  0.3 1.  0.6 0.  0.  0.  0.  0.  0.  0. ]\n",
      " [0.  0.  0.  0.  0.  0.  0.  0.  0.  0.7 1.  0.9 0.  0.  0.  0.  0.  0.  0.8 1.  0.6 0.  0.  0.  0.  0.  0.  0. ]\n",
      " [0.  0.  0.  0.  0.  0.  0.  0.  0.1 0.9 1.  0.5 0.  0.  0.  0.  0.  0.  1.  1.  0.2 0.  0.  0.  0.  0.  0.  0. ]\n",
      " [0.  0.  0.  0.  0.  0.  0.  0.  0.1 1.  1.  0.5 0.  0.  0.  0.  0.  0.2 1.  0.9 0.1 0.  0.  0.  0.  0.  0.  0. ]\n",
      " [0.  0.  0.  0.  0.  0.  0.  0.  0.1 1.  1.  0.5 0.  0.  0.  0.  0.  0.4 1.  0.5 0.  0.  0.  0.  0.  0.  0.  0. ]\n",
      " [0.  0.  0.  0.  0.  0.  0.  0.  0.1 1.  1.  0.5 0.  0.  0.  0.  0.2 0.9 1.  0.3 0.  0.  0.  0.  0.  0.  0.  0. ]\n",
      " [0.  0.  0.  0.  0.  0.  0.  0.  0.1 1.  1.  0.5 0.  0.  0.  0.3 0.8 1.  0.6 0.  0.  0.  0.  0.  0.  0.  0.  0. ]\n",
      " [0.  0.  0.  0.  0.  0.  0.  0.  0.1 1.  1.  0.5 0.  0.  0.  0.8 1.  1.  0.  0.  0.  0.  0.  0.  0.  0.  0.  0. ]\n",
      " [0.  0.  0.  0.  0.  0.  0.  0.  0.1 0.9 1.  0.8 0.6 0.6 0.9 1.  0.8 0.2 0.  0.  0.  0.  0.  0.  0.  0.  0.  0. ]\n",
      " [0.  0.  0.  0.  0.  0.  0.  0.  0.  0.5 1.  1.  1.  1.  1.  0.8 0.3 0.  0.  0.  0.  0.  0.  0.  0.  0.  0.  0. ]\n",
      " [0.  0.  0.  0.  0.  0.  0.  0.  0.  0.  0.5 1.  1.  1.  0.4 0.1 0.  0.  0.  0.  0.  0.  0.  0.  0.  0.  0.  0. ]\n",
      " [0.  0.  0.  0.  0.  0.  0.  0.  0.  0.  0.  0.  0.  0.  0.  0.  0.  0.  0.  0.  0.  0.  0.  0.  0.  0.  0.  0. ]\n",
      " [0.  0.  0.  0.  0.  0.  0.  0.  0.  0.  0.  0.  0.  0.  0.  0.  0.  0.  0.  0.  0.  0.  0.  0.  0.  0.  0.  0. ]\n",
      " [0.  0.  0.  0.  0.  0.  0.  0.  0.  0.  0.  0.  0.  0.  0.  0.  0.  0.  0.  0.  0.  0.  0.  0.  0.  0.  0.  0. ]\n",
      " [0.  0.  0.  0.  0.  0.  0.  0.  0.  0.  0.  0.  0.  0.  0.  0.  0.  0.  0.  0.  0.  0.  0.  0.  0.  0.  0.  0. ]]\n"
     ]
    }
   ],
   "source": [
    "i = 0\n",
    "\n",
    "np.set_printoptions(linewidth = 120)\n",
    "print(f\"\\nExample of an input - \\nx = \\n{X_train[i].reshape(28, 28)}\")\n",
    "\n",
    "print(f\"\\nThe same input after scaling - \\nx = \\n{np.around(X_train_scaled[i].reshape(28, 28), 1)}\")"
   ]
  },
  {
   "cell_type": "markdown",
   "metadata": {},
   "source": [
    "Now let's look at what the outputs look like"
   ]
  },
  {
   "cell_type": "code",
   "execution_count": 22,
   "metadata": {},
   "outputs": [
    {
     "name": "stdout",
     "output_type": "stream",
     "text": [
      "Label: 0, Count: 4428\n",
      "Label: 1, Count: 5093\n",
      "Label: 2, Count: 4487\n",
      "Label: 3, Count: 4613\n",
      "Label: 4, Count: 4399\n",
      "Label: 5, Count: 4038\n",
      "Label: 6, Count: 4436\n",
      "Label: 7, Count: 4630\n",
      "Label: 8, Count: 4406\n",
      "Label: 9, Count: 4470\n"
     ]
    },
    {
     "data": {
      "image/png": "[encoded data removed]",
      "text/plain": [
       "<Figure size 720x432 with 1 Axes>"
      ]
     },
     "metadata": {
      "needs_background": "light"
     },
     "output_type": "display_data"
    }
   ],
   "source": [
    "labels, counts = np.unique(y_train, return_counts = True)\n",
    "for l, c in zip(labels, counts):\n",
    "    print(f\"Label: {l}, Count: {c}\")\n",
    "    \n",
    "plt.figure(figsize = (10, 6))\n",
    "plt.bar(labels, counts, )\n",
    "plt.show()"
   ]
  },
  {
   "cell_type": "markdown",
   "metadata": {},
   "source": [
    "We can see that the bar heights are pretty close, and therefore, there's very less (negligible) bias in the dataset."
   ]
  },
  {
   "cell_type": "markdown",
   "metadata": {},
   "source": [
    "### One-hot encoding\n",
    "Let's encode our categories - digits from 0 to 9 - using one-hot encoding. The result is a vector with a length equal to the number of categories. The vector is all zeroes except in the position for the respective category. Thus a '5' will be represented by \\[0,0,0,0,1,0,0,0,0\\]."
   ]
  },
  {
   "cell_type": "code",
   "execution_count": 23,
   "metadata": {},
   "outputs": [
    {
     "name": "stdout",
     "output_type": "stream",
     "text": [
      "Shape before one-hot encoding:  (45000,)\n",
      "Shape after one-hot encoding:  (45000, 10)\n"
     ]
    }
   ],
   "source": [
    "n_classes = 10\n",
    "print(\"Shape before one-hot encoding: \", y_train.shape)\n",
    "Y_train = to_categorical(y_train, n_classes)\n",
    "Y_val = to_categorical(y_val, n_classes)\n",
    "Y_test = to_categorical(y_test, n_classes)\n",
    "print(\"Shape after one-hot encoding: \", Y_train.shape)"
   ]
  },
  {
   "cell_type": "markdown",
   "metadata": {},
   "source": [
    "### Model architecture\n",
    "#### Softmax activation\n",
    "The Softmax regression is a form of logistic regression that normalizes an input value into a vector of values that follows a probability distribution whose total sums up to 1. The output values are between the range [0,1] which is nice because we are able to avoid binary classification and accommodate as many classes or dimensions in our neural network model. This is why softmax is sometimes referred to as a multinomial logistic regression. <br><br>\n",
    "$$P(y=j|\\theta)=\\frac{e^{\\theta_j}}{\\sum_{i=1}^{k}e^{\\theta_i}}$$\n",
    "<br>where $\\theta$ is the output vector of probabilities for each class, and $\\theta_i$ is the $i^{th}$ component of this vector, giving the probability of output being the $i^{th}$ class."
   ]
  },
  {
   "cell_type": "code",
   "execution_count": 24,
   "metadata": {},
   "outputs": [],
   "source": [
    "def ModelClassification(hidden_layer_sizes = [512, 512], \n",
    "                        num_input_features = 784, \n",
    "                        dropout_prob = 0.2,\n",
    "                        loss_fn = 'categorical_crossentropy', \n",
    "                        optimizer = Adam(learning_rate = 1e-3), \n",
    "                        metrics = ['accuracy']):\n",
    "    \n",
    "    model = Sequential(name = \"Classification\")\n",
    "    \n",
    "    model.add(Dense(hidden_layer_sizes[0], input_dim = num_input_features, activation = 'relu', name = 'hidden_1'))\n",
    "    model.add(Dropout(dropout_prob, name = 'dropout_1'))\n",
    "    \n",
    "    for i, hidden_layer_size in enumerate(hidden_layer_sizes[1:], 2):\n",
    "        model.add(Dense(hidden_layer_size, activation = 'relu', name = f'hidden_{i}'))\n",
    "        model.add(Dropout(dropout_prob, name = f'dropout_{i}'))\n",
    "        \n",
    "    model.add(Dense(10, activation = 'softmax', name = 'output'))\n",
    "    \n",
    "    model.compile(loss = loss_fn, optimizer = optimizer, metrics = metrics)\n",
    "    \n",
    "    return model"
   ]
  },
  {
   "cell_type": "code",
   "execution_count": 25,
   "metadata": {},
   "outputs": [
    {
     "name": "stdout",
     "output_type": "stream",
     "text": [
      "Model: \"Classification\"\n",
      "_________________________________________________________________\n",
      "Layer (type)                 Output Shape              Param #   \n",
      "=================================================================\n",
      "hidden_1 (Dense)             (None, 512)               401920    \n",
      "_________________________________________________________________\n",
      "dropout_1 (Dropout)          (None, 512)               0         \n",
      "_________________________________________________________________\n",
      "hidden_2 (Dense)             (None, 512)               262656    \n",
      "_________________________________________________________________\n",
      "dropout_2 (Dropout)          (None, 512)               0         \n",
      "_________________________________________________________________\n",
      "output (Dense)               (None, 10)                5130      \n",
      "=================================================================\n",
      "Total params: 669,706\n",
      "Trainable params: 669,706\n",
      "Non-trainable params: 0\n",
      "_________________________________________________________________\n"
     ]
    }
   ],
   "source": [
    "modelClassification = ModelClassification(hidden_layer_sizes = [512, 512], \n",
    "                                          num_input_features = X_train_scaled.shape[1], \n",
    "                                          dropout_prob = 0.2,\n",
    "                                          loss_fn = 'categorical_crossentropy', \n",
    "                                          optimizer = Adam(learning_rate = 1e-3), \n",
    "                                          metrics = ['accuracy'])\n",
    "\n",
    "modelClassification.summary()"
   ]
  },
  {
   "cell_type": "code",
   "execution_count": 26,
   "metadata": {},
   "outputs": [
    {
     "name": "stdout",
     "output_type": "stream",
     "text": [
      "Epoch 1/10\n",
      "352/352 [==============================] - 4s 11ms/step - loss: 0.2814 - accuracy: 0.9160 - val_loss: 0.1266 - val_accuracy: 0.9617\n",
      "Epoch 2/10\n",
      "352/352 [==============================] - 4s 11ms/step - loss: 0.1120 - accuracy: 0.9659 - val_loss: 0.0960 - val_accuracy: 0.9710\n",
      "Epoch 3/10\n",
      "352/352 [==============================] - 5s 14ms/step - loss: 0.0790 - accuracy: 0.9750 - val_loss: 0.0872 - val_accuracy: 0.9750\n",
      "Epoch 4/10\n",
      "352/352 [==============================] - 4s 12ms/step - loss: 0.0580 - accuracy: 0.9814 - val_loss: 0.0840 - val_accuracy: 0.9760\n",
      "Epoch 5/10\n",
      "352/352 [==============================] - 4s 10ms/step - loss: 0.0489 - accuracy: 0.9837 - val_loss: 0.0851 - val_accuracy: 0.9755\n",
      "Epoch 6/10\n",
      "352/352 [==============================] - 4s 10ms/step - loss: 0.0399 - accuracy: 0.9868 - val_loss: 0.0832 - val_accuracy: 0.9763\n",
      "Epoch 7/10\n",
      "352/352 [==============================] - 4s 11ms/step - loss: 0.0356 - accuracy: 0.9886 - val_loss: 0.0815 - val_accuracy: 0.9778\n",
      "Epoch 8/10\n",
      "352/352 [==============================] - 5s 15ms/step - loss: 0.0297 - accuracy: 0.9906 - val_loss: 0.0850 - val_accuracy: 0.9776\n",
      "Epoch 9/10\n",
      "352/352 [==============================] - 6s 16ms/step - loss: 0.0293 - accuracy: 0.9904 - val_loss: 0.0963 - val_accuracy: 0.9757\n",
      "Epoch 10/10\n",
      "352/352 [==============================] - 4s 12ms/step - loss: 0.0246 - accuracy: 0.9920 - val_loss: 0.0880 - val_accuracy: 0.9792\n"
     ]
    }
   ],
   "source": [
    "historyClassification = modelClassification.fit(X_train_scaled, \n",
    "                                                Y_train, \n",
    "                                                batch_size = 128, \n",
    "                                                epochs = 10, \n",
    "                                                verbose = 1,\n",
    "                                                validation_data = (X_val_scaled, Y_val))"
   ]
  },
  {
   "cell_type": "code",
   "execution_count": 27,
   "metadata": {},
   "outputs": [
    {
     "data": {
      "image/png": "[encoded data removed]",
      "text/plain": [
       "<Figure size 864x432 with 1 Axes>"
      ]
     },
     "metadata": {
      "needs_background": "light"
     },
     "output_type": "display_data"
    }
   ],
   "source": [
    "fontdict = {'family':'serif', 'color':'darkred', 'weight':'normal', 'size': 16}\n",
    "\n",
    "plt.figure(figsize = (12, 6))\n",
    "plt.xlabel(\"Epoch\", fontdict = fontdict, labelpad = 12)\n",
    "plt.ylabel(\"Loss\", fontdict = fontdict, labelpad = 12)\n",
    "plt.title(\"Model Loss vs Epoch\", fontdict = fontdict, pad = 12)\n",
    "plt.plot(historyClassification.history['loss'], color = 'b')\n",
    "plt.plot(historyClassification.history['val_loss'], color = 'g')\n",
    "plt.legend(['Train', 'Validation'], fontsize = 12, loc = 'upper right')\n",
    "plt.grid()\n",
    "plt.show()"
   ]
  },
  {
   "cell_type": "code",
   "execution_count": 28,
   "metadata": {},
   "outputs": [
    {
     "data": {
      "image/png": "[encoded data removed]",
      "text/plain": [
       "<Figure size 864x432 with 1 Axes>"
      ]
     },
     "metadata": {
      "needs_background": "light"
     },
     "output_type": "display_data"
    }
   ],
   "source": [
    "fontdict = {'family':'serif', 'color':'darkred', 'weight':'normal', 'size': 16}\n",
    "\n",
    "plt.figure(figsize = (12, 6))\n",
    "plt.xlabel(\"Epoch\", fontdict = fontdict, labelpad = 12)\n",
    "plt.ylabel(\"Accuracy\", fontdict = fontdict, labelpad = 12)\n",
    "plt.title(\"Model Accuracy vs Epoch\", fontdict = fontdict, pad = 12)\n",
    "plt.plot(historyClassification.history['accuracy'], color = 'b')\n",
    "plt.plot(historyClassification.history['val_accuracy'], color = 'g')\n",
    "plt.legend(['Train', 'Validation'], fontsize = 12, loc = 'upper right')\n",
    "plt.grid()\n",
    "plt.show()"
   ]
  },
  {
   "cell_type": "markdown",
   "metadata": {},
   "source": [
    "#### Save the model for future use\n",
    "Often times we need to train the model first, and then use it somewhere else for making predictions. For this we save the model, and load it whenever we need it."
   ]
  },
  {
   "cell_type": "code",
   "execution_count": 29,
   "metadata": {},
   "outputs": [
    {
     "name": "stdout",
     "output_type": "stream",
     "text": [
      "WARNING:tensorflow:From C:\\Users\\Jasraj Singh\\AppData\\Roaming\\Python\\Python38\\site-packages\\tensorflow\\python\\ops\\resource_variable_ops.py:1813: calling BaseResourceVariable.__init__ (from tensorflow.python.ops.resource_variable_ops) with constraint is deprecated and will be removed in a future version.\n",
      "Instructions for updating:\n",
      "If using Keras pass *_constraint arguments to layers.\n",
      "INFO:tensorflow:Assets written to: classification_model\\assets\n"
     ]
    }
   ],
   "source": [
    "modelClassification.save('classification_model')"
   ]
  },
  {
   "cell_type": "code",
   "execution_count": 30,
   "metadata": {},
   "outputs": [
    {
     "name": "stdout",
     "output_type": "stream",
     "text": [
      "Model: \"Classification\"\n",
      "_________________________________________________________________\n",
      "Layer (type)                 Output Shape              Param #   \n",
      "=================================================================\n",
      "hidden_1 (Dense)             (None, 512)               401920    \n",
      "_________________________________________________________________\n",
      "dropout_1 (Dropout)          (None, 512)               0         \n",
      "_________________________________________________________________\n",
      "hidden_2 (Dense)             (None, 512)               262656    \n",
      "_________________________________________________________________\n",
      "dropout_2 (Dropout)          (None, 512)               0         \n",
      "_________________________________________________________________\n",
      "output (Dense)               (None, 10)                5130      \n",
      "=================================================================\n",
      "Total params: 669,706\n",
      "Trainable params: 669,706\n",
      "Non-trainable params: 0\n",
      "_________________________________________________________________\n"
     ]
    }
   ],
   "source": [
    "mnist_model = keras.models.load_model('classification_model')\n",
    "mnist_model.summary()"
   ]
  },
  {
   "cell_type": "code",
   "execution_count": 31,
   "metadata": {},
   "outputs": [
    {
     "name": "stdout",
     "output_type": "stream",
     "text": [
      "313/313 - 1s - loss: 15.1972 - accuracy: 0.9813\n",
      "Test Loss = 15.19721\n",
      "Test Accuracy = 0.9813\n"
     ]
    }
   ],
   "source": [
    "loss_and_metrics = mnist_model.evaluate(X_test, Y_test, verbose=2)\n",
    "\n",
    "print(\"Test Loss =\", round(loss_and_metrics[0], 5))\n",
    "print(\"Test Accuracy =\", round(loss_and_metrics[1], 5))"
   ]
  },
  {
   "cell_type": "markdown",
   "metadata": {},
   "source": [
    "This accuracy looks very good! But let's stay neutral here and evaluate both correctly and incorrectly classified examples. We'll look at 9 examples each."
   ]
  },
  {
   "cell_type": "code",
   "execution_count": 32,
   "metadata": {},
   "outputs": [
    {
     "name": "stdout",
     "output_type": "stream",
     "text": [
      "WARNING:tensorflow:From <ipython-input-32-4ab787a36404>:1: Sequential.predict_classes (from tensorflow.python.keras.engine.sequential) is deprecated and will be removed after 2021-01-01.\n",
      "Instructions for updating:\n",
      "Please use instead:* `np.argmax(model.predict(x), axis=-1)`,   if your model does multi-class classification   (e.g. if it uses a `softmax` last-layer activation).* `(model.predict(x) > 0.5).astype(\"int32\")`,   if your model does binary classification   (e.g. if it uses a `sigmoid` last-layer activation).\n",
      "9813 example classified correctly\n"
     ]
    },
    {
     "data": {
      "image/png": "[encoded data removed]",
      "text/plain": [
       "<Figure size 1728x1080 with 9 Axes>"
      ]
     },
     "metadata": {},
     "output_type": "display_data"
    }
   ],
   "source": [
    "predicted_classes = mnist_model.predict_classes(X_test)\n",
    "\n",
    "correct_indices = np.nonzero(predicted_classes == y_test)[0]\n",
    "print(len(correct_indices), \"example classified correctly\")\n",
    "\n",
    "figure_evaluation = plt.figure(figsize = (24, 15))\n",
    "\n",
    "for i, correct in enumerate(correct_indices[:9], 1):\n",
    "    plt.subplot(3, 3, i)\n",
    "    plt.imshow(X_test[correct].reshape(28, 28), cmap = 'gray', interpolation = 'none')\n",
    "    plt.title(f\"Predicted: {predicted_classes[correct]}, Truth: {y_test[correct]}\")\n",
    "    plt.xticks([])\n",
    "    plt.yticks([])"
   ]
  },
  {
   "cell_type": "code",
   "execution_count": 33,
   "metadata": {},
   "outputs": [
    {
     "name": "stdout",
     "output_type": "stream",
     "text": [
      "187 examples classified incorrectly\n"
     ]
    },
    {
     "data": {
      "image/png": "[encoded data removed]",
      "text/plain": [
       "<Figure size 1728x1080 with 9 Axes>"
      ]
     },
     "metadata": {},
     "output_type": "display_data"
    }
   ],
   "source": [
    "incorrect_indices = np.nonzero(predicted_classes != y_test)[0]\n",
    "print(len(incorrect_indices), \"examples classified incorrectly\")\n",
    "\n",
    "figure_evaluation = plt.figure(figsize = (24, 15))\n",
    "\n",
    "for i, incorrect in enumerate(incorrect_indices[:9], 1):\n",
    "    plt.subplot(3, 3, i)\n",
    "    plt.imshow(X_test[incorrect].reshape(28, 28), cmap = 'gray', interpolation = 'none')\n",
    "    plt.title(f\"Predicted {predicted_classes[incorrect]}, Truth: {y_test[incorrect]}\")\n",
    "    plt.xticks([])\n",
    "    plt.yticks([])"
   ]
  }
 ],
 "metadata": {
  "kernelspec": {
   "display_name": "Python 3.8.2 64-bit",
   "language": "python",
   "name": "python38264bitfd92962200d74e8ba4e1089743d69310"
  },
  "language_info": {
   "codemirror_mode": {
    "name": "ipython",
    "version": 3
   },
   "file_extension": ".py",
   "mimetype": "text/x-python",
   "name": "python",
   "nbconvert_exporter": "python",
   "pygments_lexer": "ipython3",
   "version": "3.8.2"
  }
 },
 "nbformat": 4,
 "nbformat_minor": 4
}
